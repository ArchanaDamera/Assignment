{
 "cells": [
  {
   "cell_type": "code",
   "execution_count": null,
   "id": "e81f0333",
   "metadata": {},
   "outputs": [],
   "source": [
    "Task 1: **Leap Year Checker**\n",
    "\n",
    "Write a program that takes a year as input and determines whether it is a leap year or not. A leap year is a year that is divisible by 4, but not divisible by 100, unless it is also divisible by 400. Display an appropriate message indicating whether the year is a leap year or not.\n",
    "\n",
    "Task 2: **Grade Calculator**\n",
    "\n",
    "Write a program that takes a student's score as input (out of 100) and determines their grade based on the following conditions:\n",
    "If the score is 90 or above, the grade is 'A'.\n",
    "If the score is between 80 and 89, the grade is 'B'.\n",
    "If the score is between 70 and 79, the grade is 'C'.\n",
    "If the score is between 60 and 69, the grade is 'D'. If the score is below 60, the grade is 'F'.\n",
    "Display the grade corresponding to the entered score.\n",
    "\n",
    "Task 3: **Calculator**\n",
    "Write a program that takes two numbers as input and performs a mathematical operation (+, -, *, /) based on the user's choice. Use a conditional statement to determine the operation to be performed. Display the result of the calculation\n",
    "\n",
    "\n",
    "Task 4: **Reverse String**\n",
    "Write a Python function to reverse a string.\n",
    "\n",
    "Task 5: **Palindrome**\n",
    "Write a Python function that checks whether a passed string is a palindrome or not.\n",
    "\n",
    "Task 6: **Counting**\n",
    "Write a Python function that accepts a string and counts the number of upper and lower case letters.\n",
    "\n",
    "Task 7: **"
   ]
  },
  {
   "cell_type": "markdown",
   "id": "4d5cac0d",
   "metadata": {},
   "source": [
    "# Task 1: **Leap Year Checker**\n"
   ]
  },
  {
   "cell_type": "markdown",
   "id": "7baf67e6",
   "metadata": {},
   "source": [
    "Write a program that takes a year as input and determines whether it is a leap year or not. A leap year is a year that is divisible by 4, but not divisible by 100, unless it is also divisible by 400. Display an appropriate message indicating whether the year is a leap year or not.\n"
   ]
  },
  {
   "cell_type": "code",
   "execution_count": 6,
   "id": "a41590bc",
   "metadata": {},
   "outputs": [
    {
     "name": "stdout",
     "output_type": "stream",
     "text": [
      "Enter a leap year ::2000\n",
      "it is a leap year\n"
     ]
    }
   ],
   "source": [
    "def leapyear(a):\n",
    "    a = int(input(\"Enter a leap year ::\"))\n",
    "    if (a%2==0) and (a%100==0) and (a%400==0):\n",
    "        print(\"it is a leap year\")\n",
    "    else:\n",
    "        print(\"not a leap year\")\n",
    "leapyear(a)"
   ]
  },
  {
   "cell_type": "markdown",
   "id": "d5e944b9",
   "metadata": {},
   "source": [
    "# Task 2: **Grade Calculator**\n"
   ]
  },
  {
   "cell_type": "markdown",
   "id": "bd566f11",
   "metadata": {},
   "source": [
    "Write a program that takes a student's score as input (out of 100) and determines their grade based on the following conditions:\n",
    "If the score is 90 or above, the grade is 'A'.\n",
    "If the score is between 80 and 89, the grade is 'B'.\n",
    "If the score is between 70 and 79, the grade is 'C'.\n",
    "If the score is between 60 and 69, the grade is 'D'. If the score is below 60, the grade is 'F'.\n",
    "Display the grade corresponding to the entered score.\n"
   ]
  },
  {
   "cell_type": "code",
   "execution_count": 14,
   "id": "91da6424",
   "metadata": {},
   "outputs": [
    {
     "name": "stdout",
     "output_type": "stream",
     "text": [
      "Enter a student score :: 74\n",
      "The grade is C\n"
     ]
    }
   ],
   "source": [
    "def score(a):\n",
    "    marks = int(input(\"Enter a student score :: \"))\n",
    "    if (marks>=90):\n",
    "        print(\"The grade is A\")\n",
    "    elif (marks>=80) and (marks<89):\n",
    "        print('The grade is B')\n",
    "    elif (marks>=70) and (marks<79):\n",
    "        print('The grade is C')\n",
    "    elif (marks>=60) and (marks<69):\n",
    "        print('The grade is D')\n",
    "    else:\n",
    "        print('Fail')\n",
    "score(a)"
   ]
  },
  {
   "cell_type": "markdown",
   "id": "f057e724",
   "metadata": {},
   "source": [
    "# Task 3: **Calculator**\n"
   ]
  },
  {
   "cell_type": "markdown",
   "id": "26da1229",
   "metadata": {},
   "source": [
    "Write a program that takes two numbers as input and performs a mathematical operation (+, -, *, /) based on the user's choice. Use a conditional statement to determine the operation to be performed. Display the result of the calculation\n",
    "\n"
   ]
  },
  {
   "cell_type": "code",
   "execution_count": 17,
   "id": "b50ffeea",
   "metadata": {},
   "outputs": [
    {
     "name": "stdout",
     "output_type": "stream",
     "text": [
      "Enter a value a :: 12\n",
      "Enter a value b :: 6\n",
      "addition,subtraction,multiplication,division :: *\n",
      "Multiplication of two numbers 72\n"
     ]
    }
   ],
   "source": [
    "a = int(input('Enter a value a :: '))\n",
    "b = int(input('Enter a value b :: '))\n",
    "\n",
    "operation = input('addition,subtraction,multiplication,division :: ')\n",
    "\n",
    "if operation == '+':\n",
    "    print(\"Addition of two numbers\",a+b) \n",
    "elif operation == '-':\n",
    "    print(\"Subtraction of two numbers\",a-b)\n",
    "elif operation == '*':\n",
    "    print(\"Multiplication of two numbers\",a*b)\n",
    "elif operation == '/':\n",
    "    print('Division of two numbers',a/b)\n",
    "else:\n",
    "    print(\"Enter a valid operation\")\n"
   ]
  },
  {
   "cell_type": "markdown",
   "id": "a120b359",
   "metadata": {},
   "source": [
    "# Task 4: **Reverse String**\n"
   ]
  },
  {
   "cell_type": "markdown",
   "id": "6172ffd4",
   "metadata": {},
   "source": [
    "Write a Python function to reverse a string.\n"
   ]
  },
  {
   "cell_type": "code",
   "execution_count": 4,
   "id": "6cb3237b",
   "metadata": {},
   "outputs": [
    {
     "name": "stdout",
     "output_type": "stream",
     "text": [
      "Enter a name :: Archana\n"
     ]
    },
    {
     "data": {
      "text/plain": [
       "'anahcrA'"
      ]
     },
     "execution_count": 4,
     "metadata": {},
     "output_type": "execute_result"
    }
   ],
   "source": [
    " def reverse(a):\n",
    "    return (a[-1: :-1])\n",
    "a = input('Enter a name :: ')\n",
    "reverse(a)"
   ]
  },
  {
   "cell_type": "markdown",
   "id": "470b23c4",
   "metadata": {},
   "source": [
    "# Task 5: **Palindrome**\n"
   ]
  },
  {
   "cell_type": "markdown",
   "id": "e6e8007b",
   "metadata": {},
   "source": [
    "Write a Python function that checks whether a passed string is a palindrome or not.\n"
   ]
  },
  {
   "cell_type": "code",
   "execution_count": 3,
   "id": "59fb989e",
   "metadata": {},
   "outputs": [
    {
     "name": "stdout",
     "output_type": "stream",
     "text": [
      "Enter a string :: Aishu\n",
      "It is not a palindrome\n"
     ]
    }
   ],
   "source": [
    "def palindrome(n):\n",
    "    if n == n[::-1]:\n",
    "        print('It is a palindrome')\n",
    "    else:\n",
    "        print('It is not a palindrome')\n",
    "n = input(\"Enter a string :: \")\n",
    "palindrome(n)\n"
   ]
  },
  {
   "cell_type": "markdown",
   "id": "87217dfb",
   "metadata": {},
   "source": [
    "# Task 6: **Counting**\n"
   ]
  },
  {
   "cell_type": "markdown",
   "id": "bd24e0d3",
   "metadata": {},
   "source": [
    "Write a Python function that accepts a string and counts the number of upper and lower case letters.\n"
   ]
  },
  {
   "cell_type": "code",
   "execution_count": 10,
   "id": "74975352",
   "metadata": {},
   "outputs": [
    {
     "name": "stdout",
     "output_type": "stream",
     "text": [
      "Enter a string :: Archana Aishu\n",
      "Uppercase letters: 2\n",
      "Lowercase letters: 10\n"
     ]
    }
   ],
   "source": [
    "def count(name):\n",
    "    upper = [\"A\",\"B\",\"C\",\"D\",\"E\",\"F\",\"G\",\"H\",\"I\",\"J\",\"K\",\"L\",\"M\",\"N\",\"O\",\"P\",\"Q\",\"R\",\"S\",\"T\",\"U\",\"V\",\"W\",\"X\",\"Y\",\"Z\"]\n",
    "    count_upper = 0\n",
    "    lower = [\"a\",\"b\",\"c\",\"d\",\"e\",\"f\",\"g\",\"h\",\"i\",\"j\",\"k\",\"l\",\"m\",\"n\",\"o\",\"p\",\"q\",\"r\",\"s\",\"t\",\"u\",\"v\",\"w\",\"x\",\"y\",\"z\"]\n",
    "    count_lower = 0\n",
    "    for i in name:\n",
    "        if i in upper:\n",
    "            count_upper += 1\n",
    "        elif i in lower:\n",
    "            count_lower += 1\n",
    "    return count_upper, count_lower\n",
    "\n",
    "name = input('Enter a string :: ')\n",
    "upper_count, lower_count = count(name)\n",
    "print(f\"Uppercase letters: {upper_count}\")\n",
    "print(f\"Lowercase letters: {lower_count}\")\n"
   ]
  },
  {
   "cell_type": "code",
   "execution_count": null,
   "id": "a2e0e69f",
   "metadata": {},
   "outputs": [],
   "source": []
  }
 ],
 "metadata": {
  "kernelspec": {
   "display_name": "Python 3 (ipykernel)",
   "language": "python",
   "name": "python3"
  },
  "language_info": {
   "codemirror_mode": {
    "name": "ipython",
    "version": 3
   },
   "file_extension": ".py",
   "mimetype": "text/x-python",
   "name": "python",
   "nbconvert_exporter": "python",
   "pygments_lexer": "ipython3",
   "version": "3.11.4"
  }
 },
 "nbformat": 4,
 "nbformat_minor": 5
}
