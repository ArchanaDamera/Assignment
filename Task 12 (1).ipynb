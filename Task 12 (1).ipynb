{
 "cells": [
  {
   "cell_type": "markdown",
   "id": "8060b9a4",
   "metadata": {},
   "source": [
    "**while loops and their use in programming.**\n",
    "1. Write a Python program that uses a while loop to print the numbers from `A` to `P`.\n",
    "\n",
    "2. Modify the program to print only the even numbers from `1 to 20 except mutiple of 3` using a while loop.\n",
    "\n",
    "3. Create a program that prompts the user for an integer input and then uses a while loop to print the countdown from `that number to 1`.\n",
    "\n",
    "\n",
    "4. Write a Python program that uses a while loop to repeatedly ask the user to enter a number. If the user enters 0, exit the loop using the `break` statement. Otherwise, continue prompting for numbers.\n",
    "\n",
    "5. Create a program that uses a while loop to print the numbers from 1 to 20, but skip printing the numbers 5, 10, and 15 using the `continue` statement.\n",
    "\n",
    "6. Write a Python program that simulates a simple password entry system. Ask the user to enter a password, and use a while loop to repeatedly prompt for the password until the correct password \"abc123\" is entered. Once the correct password is entered, exit the loop.\n",
    "\n",
    "7. Calculate and print the sum of all the positive integers entered by the user.\n",
    "\n",
    "\n",
    "\n",
    "."
   ]
  },
  {
   "cell_type": "markdown",
   "id": "9cbebc78",
   "metadata": {},
   "source": [
    "# **while loops and their use in programming.**\n"
   ]
  },
  {
   "cell_type": "markdown",
   "id": "cac96ab3",
   "metadata": {},
   "source": [
    "1. Write a Python program that uses a while loop to print the numbers from `A` to `P`.\n"
   ]
  },
  {
   "cell_type": "code",
   "execution_count": 3,
   "id": "627fec7a",
   "metadata": {},
   "outputs": [
    {
     "name": "stdout",
     "output_type": "stream",
     "text": [
      "A\n",
      "B\n",
      "C\n",
      "D\n",
      "E\n",
      "F\n",
      "G\n",
      "H\n",
      "I\n",
      "J\n",
      "K\n",
      "L\n",
      "M\n",
      "N\n",
      "O\n",
      "P\n"
     ]
    }
   ],
   "source": [
    "a = 1\n",
    "\n",
    "while a <= 16:\n",
    "    print(chr(64+a))\n",
    "    a = a + 1"
   ]
  },
  {
   "cell_type": "markdown",
   "id": "f89cb643",
   "metadata": {},
   "source": [
    "2. Modify the program to print only the even numbers from `1 to 20 except mutiple of 3` using a while loop.\n"
   ]
  },
  {
   "cell_type": "code",
   "execution_count": 1,
   "id": "61216528",
   "metadata": {},
   "outputs": [
    {
     "name": "stdout",
     "output_type": "stream",
     "text": [
      "2\n",
      "4\n",
      "8\n",
      "10\n",
      "14\n",
      "16\n",
      "20\n"
     ]
    }
   ],
   "source": [
    "a = 1\n",
    "\n",
    "while a<=20:\n",
    "    if(a%2==0) and (a%3!=0):\n",
    "        print(a)\n",
    "    a = a + 1"
   ]
  },
  {
   "cell_type": "markdown",
   "id": "a38fcd5b",
   "metadata": {},
   "source": [
    "3. Create a program that prompts the user for an integer input and then uses a while loop to print the countdown from `that number to 1`.\n"
   ]
  },
  {
   "cell_type": "code",
   "execution_count": 1,
   "id": "cc54c573",
   "metadata": {},
   "outputs": [
    {
     "name": "stdout",
     "output_type": "stream",
     "text": [
      "enter a number::16\n",
      "16\n",
      "15\n",
      "14\n",
      "13\n",
      "12\n",
      "11\n",
      "10\n",
      "9\n",
      "8\n",
      "7\n",
      "6\n",
      "5\n",
      "4\n",
      "3\n",
      "2\n",
      "1\n"
     ]
    }
   ],
   "source": [
    "n = int(input(\"enter a number::\"))\n",
    "\n",
    "while n:\n",
    "    print(n)\n",
    "    n = n - 1"
   ]
  },
  {
   "cell_type": "markdown",
   "id": "25bd2b09",
   "metadata": {},
   "source": [
    "4. Write a Python program that uses a while loop to repeatedly ask the user to enter a number. If the user enters 0, exit the loop using the `break` statement. Otherwise, continue prompting for numbers.\n",
    "\n"
   ]
  },
  {
   "cell_type": "code",
   "execution_count": 2,
   "id": "434b40ed",
   "metadata": {},
   "outputs": [
    {
     "name": "stdout",
     "output_type": "stream",
     "text": [
      "enter a number::9\n",
      "enter a number::4\n",
      "enter a number::0\n"
     ]
    }
   ],
   "source": [
    "n = int(input(\"enter a number::\"))\n",
    "\n",
    "while n != 0:\n",
    "    n = int(input(\"enter a number::\"))\n",
    "    continue\n",
    "    if n == 0:\n",
    "        break\n",
    "        "
   ]
  },
  {
   "cell_type": "markdown",
   "id": "fb3c6057",
   "metadata": {},
   "source": [
    "5. Create a program that uses a while loop to print the numbers from 1 to 20, but skip printing the numbers 5, 10, and 15 using the `continue` statement.\n"
   ]
  },
  {
   "cell_type": "code",
   "execution_count": 3,
   "id": "42853c87",
   "metadata": {},
   "outputs": [
    {
     "name": "stdout",
     "output_type": "stream",
     "text": [
      "1\n",
      "2\n",
      "3\n",
      "4\n",
      "6\n",
      "7\n",
      "8\n",
      "9\n",
      "11\n",
      "12\n",
      "13\n",
      "14\n",
      "16\n",
      "17\n",
      "18\n",
      "19\n",
      "20\n"
     ]
    }
   ],
   "source": [
    "n = 0\n",
    "\n",
    "while n< 20:\n",
    "    n = n + 1\n",
    "    if (n==5) or (n==10) or (n==15):\n",
    "        continue\n",
    "    else:\n",
    "        print(n)"
   ]
  },
  {
   "cell_type": "markdown",
   "id": "fc2fc4a3",
   "metadata": {},
   "source": [
    "6. Write a Python program that simulates a simple password entry system. Ask the user to enter a password, and use a while loop to repeatedly prompt for the password until the correct password \"abc123\" is entered. Once the correct password is entered, exit the loop.\n"
   ]
  },
  {
   "cell_type": "code",
   "execution_count": 15,
   "id": "4ba88717",
   "metadata": {},
   "outputs": [
    {
     "name": "stdout",
     "output_type": "stream",
     "text": [
      "enter you password::vhjitn\n",
      "enter you password::rhjik\n",
      "enter you password::ghikj\n",
      "enter you password::thidj\n",
      "enter you password::fgijhsv\n",
      "enter you password::chsbhij\n",
      "enter you password::abc123\n"
     ]
    }
   ],
   "source": [
    "Password = \"abc123\"\n",
    "while password:\n",
    "    Pass_word= input(\"enter you password::\")\n",
    "    if Password ==Pass_word:\n",
    "        break\n",
    "    else:\n",
    "        continue"
   ]
  },
  {
   "cell_type": "markdown",
   "id": "29cf2108",
   "metadata": {},
   "source": [
    "7. Calculate and print the sum of all the positive integers entered by the user.\n"
   ]
  },
  {
   "cell_type": "code",
   "execution_count": 18,
   "id": "8e44e75d",
   "metadata": {},
   "outputs": [
    {
     "name": "stdout",
     "output_type": "stream",
     "text": [
      "enter a number::7\n",
      "enter a number::4\n",
      "11\n",
      "enter a number::0\n",
      "11\n"
     ]
    }
   ],
   "source": [
    "num  = int(input(\"enter a number::\"))\n",
    "total = num\n",
    "while num:\n",
    "    if num > 0:\n",
    "        num = int(input(\"enter a number::\"))\n",
    "        total = total + num\n",
    "        print(total)\n",
    "    else:\n",
    "        break"
   ]
  },
  {
   "cell_type": "code",
   "execution_count": null,
   "id": "8d5d8a27",
   "metadata": {},
   "outputs": [],
   "source": []
  }
 ],
 "metadata": {
  "kernelspec": {
   "display_name": "Python 3 (ipykernel)",
   "language": "python",
   "name": "python3"
  },
  "language_info": {
   "codemirror_mode": {
    "name": "ipython",
    "version": 3
   },
   "file_extension": ".py",
   "mimetype": "text/x-python",
   "name": "python",
   "nbconvert_exporter": "python",
   "pygments_lexer": "ipython3",
   "version": "3.11.4"
  }
 },
 "nbformat": 4,
 "nbformat_minor": 5
}
