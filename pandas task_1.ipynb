{
 "cells": [
  {
   "cell_type": "markdown",
   "id": "b3e60d14",
   "metadata": {},
   "source": [
    "# pandas Series"
   ]
  },
  {
   "cell_type": "markdown",
   "id": "08cb0234",
   "metadata": {},
   "source": [
    "\n",
    "1 Create pandas series with different data types in different ways\n",
    "\n",
    "2 Find the attributes of Series of [10,30,40,1,3,6,14,18,23] with index starts from 100\n",
    "\n",
    "3 create salaries of 30 employee salaries randomly from 30000-90000 then measure and describe the data using pandas series.\n",
    "\n",
    "4 What are the similaraties and differences between pandas series and nnumpy array.Prove it with code.\n",
    "\n",
    "5 create pandas series with ranges from 100 to 150 then apply indexing and slicing on it."
   ]
  },
  {
   "cell_type": "code",
   "execution_count": 1,
   "id": "7f135680",
   "metadata": {},
   "outputs": [],
   "source": [
    "import pandas as pd\n",
    "import numpy as np"
   ]
  },
  {
   "cell_type": "markdown",
   "id": "98efae22",
   "metadata": {},
   "source": [
    "# 1 Create pandas series with different data types in different ways"
   ]
  },
  {
   "cell_type": "markdown",
   "id": "cc113bff",
   "metadata": {},
   "source": [
    "# from list"
   ]
  },
  {
   "cell_type": "code",
   "execution_count": 2,
   "id": "f8facc83",
   "metadata": {},
   "outputs": [
    {
     "data": {
      "text/plain": [
       "0    1\n",
       "1    2\n",
       "2    3\n",
       "3    4\n",
       "4    5\n",
       "5    6\n",
       "6    7\n",
       "7    8\n",
       "dtype: int64"
      ]
     },
     "execution_count": 2,
     "metadata": {},
     "output_type": "execute_result"
    }
   ],
   "source": [
    "n = [1,2,3,4,5,6,7,8]\n",
    "pd.Series(n)"
   ]
  },
  {
   "cell_type": "code",
   "execution_count": 3,
   "id": "cd663196",
   "metadata": {},
   "outputs": [
    {
     "data": {
      "text/plain": [
       "0    1\n",
       "1    2\n",
       "2    3\n",
       "3    4\n",
       "4    5\n",
       "5    6\n",
       "6    7\n",
       "7    8\n",
       "dtype: int64"
      ]
     },
     "execution_count": 3,
     "metadata": {},
     "output_type": "execute_result"
    }
   ],
   "source": [
    "List = [1,2,3,4,5,6,7,8]\n",
    "List1 = pd.Series(List)\n",
    "List1"
   ]
  },
  {
   "cell_type": "code",
   "execution_count": 4,
   "id": "58dfccdd",
   "metadata": {},
   "outputs": [
    {
     "name": "stdout",
     "output_type": "stream",
     "text": [
      "0    A\n",
      "1    i\n",
      "2    s\n",
      "3    h\n",
      "4    u\n",
      "dtype: object\n"
     ]
    }
   ],
   "source": [
    "#method 2\n",
    "list = ['A', 'i', 's', 'h', 'u']\n",
    "  \n",
    "# create series form a list\n",
    "ser = pd.Series(list)\n",
    "print(ser)"
   ]
  },
  {
   "cell_type": "markdown",
   "id": "c4118c18",
   "metadata": {},
   "source": [
    "# from dictionary"
   ]
  },
  {
   "cell_type": "code",
   "execution_count": 5,
   "id": "be5b9883",
   "metadata": {},
   "outputs": [],
   "source": [
    "elements_names = {1: \"Helium\", 2:\"sodium\", 3:\"Hydrogen\", 4:\"carbon\", 5:\"iron\", 6: \"potassium\", 7: \"copper\", 8:\"oxygen\"}"
   ]
  },
  {
   "cell_type": "code",
   "execution_count": 6,
   "id": "4ec502b5",
   "metadata": {},
   "outputs": [
    {
     "data": {
      "text/plain": [
       "1       Helium\n",
       "2       sodium\n",
       "3     Hydrogen\n",
       "4       carbon\n",
       "5         iron\n",
       "6    potassium\n",
       "7       copper\n",
       "8       oxygen\n",
       "dtype: object"
      ]
     },
     "execution_count": 6,
     "metadata": {},
     "output_type": "execute_result"
    }
   ],
   "source": [
    "pd.Series(elements_names)"
   ]
  },
  {
   "cell_type": "code",
   "execution_count": 7,
   "id": "7540d8f0",
   "metadata": {},
   "outputs": [
    {
     "name": "stdout",
     "output_type": "stream",
     "text": [
      "rice          500\n",
      "fruits        100\n",
      "vegetables    300\n",
      "dtype: int64\n"
     ]
    }
   ],
   "source": [
    "#method 2\n",
    "dict = {'rice': 500,\n",
    "        'fruits': 100,\n",
    "        'vegetables': 300}\n",
    " \n",
    "# create series from dictionary\n",
    "ser = pd.Series(dict)\n",
    " \n",
    "print(ser)"
   ]
  },
  {
   "cell_type": "markdown",
   "id": "865b71d0",
   "metadata": {},
   "source": [
    "# from tuple"
   ]
  },
  {
   "cell_type": "code",
   "execution_count": 8,
   "id": "2efd3bf1",
   "metadata": {},
   "outputs": [
    {
     "data": {
      "text/plain": [
       "0       Raju\n",
       "1      vijay\n",
       "2    Prabhas\n",
       "3     Mahesh\n",
       "4        Sai\n",
       "dtype: object"
      ]
     },
     "execution_count": 8,
     "metadata": {},
     "output_type": "execute_result"
    }
   ],
   "source": [
    "movie_names = (\"Raju\",\"vijay\",\"Prabhas\",\"Mahesh\",\"Sai\")\n",
    "pd.Series(movie_names)"
   ]
  },
  {
   "cell_type": "markdown",
   "id": "97274b00",
   "metadata": {},
   "source": [
    "# from array"
   ]
  },
  {
   "cell_type": "code",
   "execution_count": 9,
   "id": "e937a18d",
   "metadata": {},
   "outputs": [
    {
     "name": "stdout",
     "output_type": "stream",
     "text": [
      "0    g\n",
      "1    e\n",
      "2    e\n",
      "3    k\n",
      "4    s\n",
      "dtype: object\n"
     ]
    }
   ],
   "source": [
    "# simple array\n",
    "data = np.array(['g', 'e', 'e', 'k', 's'])\n",
    " \n",
    "ser = pd.Series(data)\n",
    "print(ser)\n"
   ]
  },
  {
   "cell_type": "code",
   "execution_count": 10,
   "id": "7054c669",
   "metadata": {},
   "outputs": [
    {
     "name": "stdout",
     "output_type": "stream",
     "text": [
      "10    g\n",
      "11    e\n",
      "12    e\n",
      "13    k\n",
      "14    s\n",
      "dtype: object\n"
     ]
    }
   ],
   "source": [
    "# providing an index\n",
    "ser = pd.Series(data, index=[10, 11, 12, 13, 14])\n",
    "print(ser)"
   ]
  },
  {
   "cell_type": "markdown",
   "id": "5687cb38",
   "metadata": {},
   "source": [
    "# using random"
   ]
  },
  {
   "cell_type": "code",
   "execution_count": 11,
   "id": "c6c99fc3",
   "metadata": {},
   "outputs": [
    {
     "data": {
      "text/plain": [
       "0    1789\n",
       "1    1865\n",
       "2    1612\n",
       "3    1914\n",
       "4    1547\n",
       "5    1658\n",
       "dtype: int32"
      ]
     },
     "execution_count": 11,
     "metadata": {},
     "output_type": "execute_result"
    }
   ],
   "source": [
    "Val = np.random.randint(1500,2000,6)\n",
    "pd.Series(Val)"
   ]
  },
  {
   "cell_type": "markdown",
   "id": "8b90e61a",
   "metadata": {},
   "source": [
    "# 2 Find the attributes of Series of [10,30,40,1,3,6,14,18,23] with index starts from 100"
   ]
  },
  {
   "cell_type": "code",
   "execution_count": 12,
   "id": "415f2043",
   "metadata": {},
   "outputs": [],
   "source": [
    "series = [10,30,40,1,3,6,14,18,23]\n",
    "ser = len(series)"
   ]
  },
  {
   "cell_type": "code",
   "execution_count": 15,
   "id": "571824a8",
   "metadata": {},
   "outputs": [
    {
     "data": {
      "text/plain": [
       "100    10\n",
       "101    30\n",
       "102    40\n",
       "103     1\n",
       "104     3\n",
       "105     6\n",
       "106    14\n",
       "107    18\n",
       "108    23\n",
       "dtype: int64"
      ]
     },
     "execution_count": 15,
     "metadata": {},
     "output_type": "execute_result"
    }
   ],
   "source": [
    "ser = pd.Series(series,index = range(100,100+ser))\n",
    "ser"
   ]
  },
  {
   "cell_type": "code",
   "execution_count": 16,
   "id": "95269001",
   "metadata": {},
   "outputs": [
    {
     "data": {
      "text/plain": [
       "100    10\n",
       "101    30\n",
       "102    40\n",
       "103     1\n",
       "104     3\n",
       "105     6\n",
       "106    14\n",
       "107    18\n",
       "108    23\n",
       "dtype: int64"
      ]
     },
     "execution_count": 16,
     "metadata": {},
     "output_type": "execute_result"
    }
   ],
   "source": [
    "ser"
   ]
  },
  {
   "cell_type": "code",
   "execution_count": 17,
   "id": "25589c42",
   "metadata": {},
   "outputs": [
    {
     "name": "stdout",
     "output_type": "stream",
     "text": [
      "<class 'pandas.core.series.Series'>\n",
      "RangeIndex: 9 entries, 100 to 108\n",
      "Series name: None\n",
      "Non-Null Count  Dtype\n",
      "--------------  -----\n",
      "9 non-null      int64\n",
      "dtypes: int64(1)\n",
      "memory usage: 204.0 bytes\n"
     ]
    }
   ],
   "source": [
    "ser.info()  # discribing the ser info"
   ]
  },
  {
   "cell_type": "code",
   "execution_count": 18,
   "id": "c4d012c2",
   "metadata": {},
   "outputs": [
    {
     "data": {
      "text/plain": [
       "100    10\n",
       "101    30\n",
       "102    40\n",
       "103     1\n",
       "104     3\n",
       "dtype: int64"
      ]
     },
     "execution_count": 18,
     "metadata": {},
     "output_type": "execute_result"
    }
   ],
   "source": [
    "ser.head()  # It is taking the first 5 values from ser"
   ]
  },
  {
   "cell_type": "code",
   "execution_count": 19,
   "id": "cf5ba26c",
   "metadata": {},
   "outputs": [
    {
     "data": {
      "text/plain": [
       "100    10\n",
       "101    30\n",
       "dtype: int64"
      ]
     },
     "execution_count": 19,
     "metadata": {},
     "output_type": "execute_result"
    }
   ],
   "source": [
    "ser.head(2)"
   ]
  },
  {
   "cell_type": "code",
   "execution_count": 20,
   "id": "f07a7462",
   "metadata": {},
   "outputs": [
    {
     "data": {
      "text/plain": [
       "104     3\n",
       "105     6\n",
       "106    14\n",
       "107    18\n",
       "108    23\n",
       "dtype: int64"
      ]
     },
     "execution_count": 20,
     "metadata": {},
     "output_type": "execute_result"
    }
   ],
   "source": [
    "ser.tail() # It is taking the last 5 values from ser"
   ]
  },
  {
   "cell_type": "code",
   "execution_count": 21,
   "id": "60a7a21f",
   "metadata": {},
   "outputs": [
    {
     "data": {
      "text/plain": [
       "106    14\n",
       "107    18\n",
       "108    23\n",
       "dtype: int64"
      ]
     },
     "execution_count": 21,
     "metadata": {},
     "output_type": "execute_result"
    }
   ],
   "source": [
    "ser.tail(3)"
   ]
  },
  {
   "cell_type": "code",
   "execution_count": 22,
   "id": "6bf7d53b",
   "metadata": {},
   "outputs": [
    {
     "data": {
      "text/plain": [
       "dtype('int64')"
      ]
     },
     "execution_count": 22,
     "metadata": {},
     "output_type": "execute_result"
    }
   ],
   "source": [
    "ser.dtype"
   ]
  },
  {
   "cell_type": "code",
   "execution_count": 23,
   "id": "b4d93d64",
   "metadata": {},
   "outputs": [
    {
     "data": {
      "text/plain": [
       "count     9.000000\n",
       "mean     16.111111\n",
       "std      13.033078\n",
       "min       1.000000\n",
       "25%       6.000000\n",
       "50%      14.000000\n",
       "75%      23.000000\n",
       "max      40.000000\n",
       "dtype: float64"
      ]
     },
     "execution_count": 23,
     "metadata": {},
     "output_type": "execute_result"
    }
   ],
   "source": [
    "ser.describe()"
   ]
  },
  {
   "cell_type": "code",
   "execution_count": 24,
   "id": "abf30929",
   "metadata": {},
   "outputs": [
    {
     "data": {
      "text/plain": [
       "204"
      ]
     },
     "execution_count": 24,
     "metadata": {},
     "output_type": "execute_result"
    }
   ],
   "source": [
    "ser.memory_usage()"
   ]
  },
  {
   "cell_type": "code",
   "execution_count": 25,
   "id": "dddd9d9a",
   "metadata": {},
   "outputs": [
    {
     "data": {
      "text/plain": [
       "9"
      ]
     },
     "execution_count": 25,
     "metadata": {},
     "output_type": "execute_result"
    }
   ],
   "source": [
    "ser.size"
   ]
  },
  {
   "cell_type": "code",
   "execution_count": 26,
   "id": "a859d0b9",
   "metadata": {},
   "outputs": [
    {
     "data": {
      "text/plain": [
       "<bound method IndexOpsMixin.item of 100    10\n",
       "101    30\n",
       "102    40\n",
       "103     1\n",
       "104     3\n",
       "105     6\n",
       "106    14\n",
       "107    18\n",
       "108    23\n",
       "dtype: int64>"
      ]
     },
     "execution_count": 26,
     "metadata": {},
     "output_type": "execute_result"
    }
   ],
   "source": [
    "ser.item"
   ]
  },
  {
   "cell_type": "code",
   "execution_count": 27,
   "id": "0c1d3cbc",
   "metadata": {},
   "outputs": [
    {
     "data": {
      "text/plain": [
       "1"
      ]
     },
     "execution_count": 27,
     "metadata": {},
     "output_type": "execute_result"
    }
   ],
   "source": [
    "ser.ndim"
   ]
  },
  {
   "cell_type": "code",
   "execution_count": 28,
   "id": "87706202",
   "metadata": {},
   "outputs": [
    {
     "data": {
      "text/plain": [
       "100    10\n",
       "101    30\n",
       "102    40\n",
       "103     1\n",
       "104     3\n",
       "105     6\n",
       "106    14\n",
       "107    18\n",
       "108    23\n",
       "dtype: int32"
      ]
     },
     "execution_count": 28,
     "metadata": {},
     "output_type": "execute_result"
    }
   ],
   "source": [
    "ser.astype('int32')"
   ]
  },
  {
   "cell_type": "code",
   "execution_count": 29,
   "id": "cb66529a",
   "metadata": {},
   "outputs": [
    {
     "data": {
      "text/plain": [
       "72"
      ]
     },
     "execution_count": 29,
     "metadata": {},
     "output_type": "execute_result"
    }
   ],
   "source": [
    "ser.nbytes"
   ]
  },
  {
   "cell_type": "code",
   "execution_count": null,
   "id": "fed1ac84",
   "metadata": {},
   "outputs": [],
   "source": []
  },
  {
   "cell_type": "markdown",
   "id": "320d342c",
   "metadata": {},
   "source": [
    "# 3 create salaries of 30 employee salaries randomly from 30000-90000 then measure and describe the data using pandas series."
   ]
  },
  {
   "cell_type": "code",
   "execution_count": 30,
   "id": "c3eed321",
   "metadata": {},
   "outputs": [
    {
     "data": {
      "text/plain": [
       "array([72566, 80530, 36259, 48491, 86708, 70837, 60323, 72570, 79760,\n",
       "       69581, 67286, 69434, 58829, 66154, 75351, 30742, 81485, 40326,\n",
       "       62689, 43121, 60806, 60537, 87116, 80693, 83164, 56319, 59635,\n",
       "       72695, 65436, 74648])"
      ]
     },
     "execution_count": 30,
     "metadata": {},
     "output_type": "execute_result"
    }
   ],
   "source": [
    "salaries = np.random.randint(30000,90000,30)\n",
    "salaries"
   ]
  },
  {
   "cell_type": "code",
   "execution_count": 31,
   "id": "3250c526",
   "metadata": {},
   "outputs": [
    {
     "data": {
      "text/plain": [
       "1     72566\n",
       "2     80530\n",
       "3     36259\n",
       "4     48491\n",
       "5     86708\n",
       "6     70837\n",
       "7     60323\n",
       "8     72570\n",
       "9     79760\n",
       "10    69581\n",
       "11    67286\n",
       "12    69434\n",
       "13    58829\n",
       "14    66154\n",
       "15    75351\n",
       "16    30742\n",
       "17    81485\n",
       "18    40326\n",
       "19    62689\n",
       "20    43121\n",
       "21    60806\n",
       "22    60537\n",
       "23    87116\n",
       "24    80693\n",
       "25    83164\n",
       "26    56319\n",
       "27    59635\n",
       "28    72695\n",
       "29    65436\n",
       "30    74648\n",
       "dtype: int32"
      ]
     },
     "execution_count": 31,
     "metadata": {},
     "output_type": "execute_result"
    }
   ],
   "source": [
    "sal = pd.Series(salaries, index = range(1,31))\n",
    "sal"
   ]
  },
  {
   "cell_type": "markdown",
   "id": "5081e4fc",
   "metadata": {},
   "source": [
    "# statistical measures"
   ]
  },
  {
   "cell_type": "markdown",
   "id": "32088496",
   "metadata": {},
   "source": [
    "#measure of central tendency"
   ]
  },
  {
   "cell_type": "code",
   "execution_count": 32,
   "id": "919ffc5c",
   "metadata": {},
   "outputs": [
    {
     "data": {
      "text/plain": [
       "65803.03333333334"
      ]
     },
     "execution_count": 32,
     "metadata": {},
     "output_type": "execute_result"
    }
   ],
   "source": [
    "sal.mean() #Average value"
   ]
  },
  {
   "cell_type": "code",
   "execution_count": 33,
   "id": "8d2d32ef",
   "metadata": {},
   "outputs": [
    {
     "data": {
      "text/plain": [
       "68360.0"
      ]
     },
     "execution_count": 33,
     "metadata": {},
     "output_type": "execute_result"
    }
   ],
   "source": [
    "sal.median() #middle value for salary"
   ]
  },
  {
   "cell_type": "code",
   "execution_count": 34,
   "id": "c59c9dc3",
   "metadata": {},
   "outputs": [
    {
     "data": {
      "text/plain": [
       "0     30742\n",
       "1     36259\n",
       "2     40326\n",
       "3     43121\n",
       "4     48491\n",
       "5     56319\n",
       "6     58829\n",
       "7     59635\n",
       "8     60323\n",
       "9     60537\n",
       "10    60806\n",
       "11    62689\n",
       "12    65436\n",
       "13    66154\n",
       "14    67286\n",
       "15    69434\n",
       "16    69581\n",
       "17    70837\n",
       "18    72566\n",
       "19    72570\n",
       "20    72695\n",
       "21    74648\n",
       "22    75351\n",
       "23    79760\n",
       "24    80530\n",
       "25    80693\n",
       "26    81485\n",
       "27    83164\n",
       "28    86708\n",
       "29    87116\n",
       "dtype: int32"
      ]
     },
     "execution_count": 34,
     "metadata": {},
     "output_type": "execute_result"
    }
   ],
   "source": [
    "sal.mode()  # no repeated values from salary"
   ]
  },
  {
   "cell_type": "code",
   "execution_count": 35,
   "id": "9c5be8e7",
   "metadata": {},
   "outputs": [
    {
     "data": {
      "text/plain": [
       "216210486.8609195"
      ]
     },
     "execution_count": 35,
     "metadata": {},
     "output_type": "execute_result"
    }
   ],
   "source": [
    "sal.var()"
   ]
  },
  {
   "cell_type": "code",
   "execution_count": 36,
   "id": "e950bd72",
   "metadata": {},
   "outputs": [
    {
     "data": {
      "text/plain": [
       "87116"
      ]
     },
     "execution_count": 36,
     "metadata": {},
     "output_type": "execute_result"
    }
   ],
   "source": [
    "sal.max()  #The highest value"
   ]
  },
  {
   "cell_type": "code",
   "execution_count": 37,
   "id": "8e4c82b6",
   "metadata": {},
   "outputs": [
    {
     "data": {
      "text/plain": [
       "30742"
      ]
     },
     "execution_count": 37,
     "metadata": {},
     "output_type": "execute_result"
    }
   ],
   "source": [
    "sal.min()  #The lowest value"
   ]
  },
  {
   "cell_type": "code",
   "execution_count": 38,
   "id": "efc93a03",
   "metadata": {},
   "outputs": [
    {
     "data": {
      "text/plain": [
       "14704.09762144279"
      ]
     },
     "execution_count": 38,
     "metadata": {},
     "output_type": "execute_result"
    }
   ],
   "source": [
    "sal.std()"
   ]
  },
  {
   "cell_type": "code",
   "execution_count": 39,
   "id": "28c6522e",
   "metadata": {},
   "outputs": [
    {
     "data": {
      "text/plain": [
       "59807.0"
      ]
     },
     "execution_count": 39,
     "metadata": {},
     "output_type": "execute_result"
    }
   ],
   "source": [
    "sal.quantile(0.25)  "
   ]
  },
  {
   "cell_type": "code",
   "execution_count": 42,
   "id": "6617a7ee",
   "metadata": {},
   "outputs": [
    {
     "data": {
      "text/plain": [
       "75175.25"
      ]
     },
     "execution_count": 42,
     "metadata": {},
     "output_type": "execute_result"
    }
   ],
   "source": [
    "sal.quantile(0.75)"
   ]
  },
  {
   "cell_type": "code",
   "execution_count": 43,
   "id": "2cc33d39",
   "metadata": {},
   "outputs": [
    {
     "data": {
      "text/plain": [
       "count       30.000000\n",
       "mean     65803.033333\n",
       "std      14704.097621\n",
       "min      30742.000000\n",
       "25%      59807.000000\n",
       "50%      68360.000000\n",
       "75%      75175.250000\n",
       "max      87116.000000\n",
       "dtype: float64"
      ]
     },
     "execution_count": 43,
     "metadata": {},
     "output_type": "execute_result"
    }
   ],
   "source": [
    "sal.describe()"
   ]
  },
  {
   "cell_type": "markdown",
   "id": "d8c2d5a3",
   "metadata": {},
   "source": [
    "# 4 What are the similaraties and differences between pandas series and nnumpy array.Prove it with code."
   ]
  },
  {
   "cell_type": "code",
   "execution_count": 44,
   "id": "926a0ca7",
   "metadata": {},
   "outputs": [],
   "source": [
    "#list\n",
    "age = (range(30,50))"
   ]
  },
  {
   "cell_type": "code",
   "execution_count": 45,
   "id": "9785aad3",
   "metadata": {},
   "outputs": [
    {
     "data": {
      "text/plain": [
       "array([30, 31, 32, 33, 34, 35, 36, 37, 38, 39, 40, 41, 42, 43, 44, 45, 46,\n",
       "       47, 48, 49])"
      ]
     },
     "execution_count": 45,
     "metadata": {},
     "output_type": "execute_result"
    }
   ],
   "source": [
    "import numpy as np\n",
    "np.array(age)"
   ]
  },
  {
   "cell_type": "code",
   "execution_count": 46,
   "id": "453d151a",
   "metadata": {},
   "outputs": [
    {
     "data": {
      "text/plain": [
       "0     30\n",
       "1     31\n",
       "2     32\n",
       "3     33\n",
       "4     34\n",
       "5     35\n",
       "6     36\n",
       "7     37\n",
       "8     38\n",
       "9     39\n",
       "10    40\n",
       "11    41\n",
       "12    42\n",
       "13    43\n",
       "14    44\n",
       "15    45\n",
       "16    46\n",
       "17    47\n",
       "18    48\n",
       "19    49\n",
       "dtype: int64"
      ]
     },
     "execution_count": 46,
     "metadata": {},
     "output_type": "execute_result"
    }
   ],
   "source": [
    "pd.Series(age)"
   ]
  },
  {
   "cell_type": "code",
   "execution_count": 47,
   "id": "186f587b",
   "metadata": {},
   "outputs": [],
   "source": [
    "a= np.array([31,32,33,34,35,36,37,38,39,40,41,42,43,44,45,46,47,48,49])\n",
    "age = pd.Series(a)"
   ]
  },
  {
   "cell_type": "code",
   "execution_count": 48,
   "id": "4e4ae4fa",
   "metadata": {},
   "outputs": [
    {
     "data": {
      "text/plain": [
       "0     31\n",
       "1     32\n",
       "2     33\n",
       "3     34\n",
       "4     35\n",
       "5     36\n",
       "6     37\n",
       "7     38\n",
       "8     39\n",
       "9     40\n",
       "10    41\n",
       "11    42\n",
       "12    43\n",
       "13    44\n",
       "14    45\n",
       "15    46\n",
       "16    47\n",
       "17    48\n",
       "18    49\n",
       "dtype: int32"
      ]
     },
     "execution_count": 48,
     "metadata": {},
     "output_type": "execute_result"
    }
   ],
   "source": [
    "age"
   ]
  },
  {
   "cell_type": "code",
   "execution_count": 49,
   "id": "7d5f55ff",
   "metadata": {},
   "outputs": [
    {
     "data": {
      "text/plain": [
       "1"
      ]
     },
     "execution_count": 49,
     "metadata": {},
     "output_type": "execute_result"
    }
   ],
   "source": [
    "age.ndim  # panda as 1 D/data type either it is rows or columns"
   ]
  },
  {
   "cell_type": "code",
   "execution_count": 50,
   "id": "ccb981a4",
   "metadata": {},
   "outputs": [
    {
     "data": {
      "text/plain": [
       "array([[[1, 2, 3, 4, 5, 6, 7, 8, 9]]])"
      ]
     },
     "execution_count": 50,
     "metadata": {},
     "output_type": "execute_result"
    }
   ],
   "source": [
    "ages = np.array([1,2,3,4,5,6,7,8,9],ndmin = 3)\n",
    "ages   #numpy doesnt has index numbers"
   ]
  },
  {
   "cell_type": "code",
   "execution_count": 51,
   "id": "339642a9",
   "metadata": {},
   "outputs": [
    {
     "data": {
      "text/plain": [
       "3"
      ]
     },
     "execution_count": 51,
     "metadata": {},
     "output_type": "execute_result"
    }
   ],
   "source": [
    "ages.ndim  # numpy as 3 D"
   ]
  },
  {
   "cell_type": "markdown",
   "id": "56daeb76",
   "metadata": {},
   "source": [
    "# pandas"
   ]
  },
  {
   "cell_type": "markdown",
   "id": "37e76258",
   "metadata": {},
   "source": [
    "* pandas as cantain dissmilar data type is Hetrogeneous values\n",
    "\n",
    "\n",
    "\n",
    "\n",
    "* 1 D array > series (rows or columns)\n",
    "\n",
    "  2 D array > Data frame(rows and column)\n",
    "  \n",
    "  3 D array > panel(images)\n",
    "  \n",
    "\n",
    "\n",
    "\n",
    "\n",
    "* Pandas as Data types int,float,bool,Text = object\n",
    "\n",
    "\n",
    "\n",
    "\n",
    "*  more memorey\n",
    "\n"
   ]
  },
  {
   "cell_type": "markdown",
   "id": "7f1a5570",
   "metadata": {},
   "source": [
    "# numpy"
   ]
  },
  {
   "cell_type": "markdown",
   "id": "628c5409",
   "metadata": {},
   "source": [
    "*Numpy is a numerical  values\n",
    "\n",
    "\n",
    "*numpy is homogeneous values\n",
    "\n",
    "\n",
    "*numpy as Data types is int8,16,32,63\n",
    "              > float 16,32,64\n",
    "*it is open source library\n",
    "\n",
    "\n",
    "*numpy works with [n Dimensional array]\n",
    "\n",
    "\n",
    "*less memorey"
   ]
  },
  {
   "cell_type": "markdown",
   "id": "246d8bec",
   "metadata": {},
   "source": [
    "# 5 create pandas series with ranges from 100 to 150 then apply indexing and slicing on it."
   ]
  },
  {
   "cell_type": "code",
   "execution_count": 69,
   "id": "8ca40ac3",
   "metadata": {},
   "outputs": [
    {
     "data": {
      "text/plain": [
       "0     100\n",
       "1     101\n",
       "2     102\n",
       "3     103\n",
       "4     104\n",
       "5     105\n",
       "6     106\n",
       "7     107\n",
       "8     108\n",
       "9     109\n",
       "10    110\n",
       "11    111\n",
       "12    112\n",
       "13    113\n",
       "14    114\n",
       "15    115\n",
       "16    116\n",
       "17    117\n",
       "18    118\n",
       "19    119\n",
       "20    120\n",
       "21    121\n",
       "22    122\n",
       "23    123\n",
       "24    124\n",
       "25    125\n",
       "26    126\n",
       "27    127\n",
       "28    128\n",
       "29    129\n",
       "30    130\n",
       "31    131\n",
       "32    132\n",
       "33    133\n",
       "34    134\n",
       "35    135\n",
       "36    136\n",
       "37    137\n",
       "38    138\n",
       "39    139\n",
       "40    140\n",
       "41    141\n",
       "42    142\n",
       "43    143\n",
       "44    144\n",
       "45    145\n",
       "46    146\n",
       "47    147\n",
       "48    148\n",
       "49    149\n",
       "dtype: int64"
      ]
     },
     "execution_count": 69,
     "metadata": {},
     "output_type": "execute_result"
    }
   ],
   "source": [
    "values = (range(100,150))\n",
    "val = pd.Series(val)\n",
    "val\n"
   ]
  },
  {
   "cell_type": "code",
   "execution_count": 70,
   "id": "bb19ffec",
   "metadata": {},
   "outputs": [
    {
     "data": {
      "text/plain": [
       "146"
      ]
     },
     "execution_count": 70,
     "metadata": {},
     "output_type": "execute_result"
    }
   ],
   "source": [
    "val[46]        # Indexing"
   ]
  },
  {
   "cell_type": "code",
   "execution_count": 74,
   "id": "1d0ad1fe",
   "metadata": {},
   "outputs": [
    {
     "data": {
      "text/plain": [
       "10    110\n",
       "15    115\n",
       "20    120\n",
       "25    125\n",
       "30    130\n",
       "dtype: int64"
      ]
     },
     "execution_count": 74,
     "metadata": {},
     "output_type": "execute_result"
    }
   ],
   "source": [
    "val[10:35:5]   # slicing"
   ]
  },
  {
   "cell_type": "code",
   "execution_count": null,
   "id": "3f6dcc1d",
   "metadata": {},
   "outputs": [],
   "source": []
  }
 ],
 "metadata": {
  "kernelspec": {
   "display_name": "Python 3 (ipykernel)",
   "language": "python",
   "name": "python3"
  },
  "language_info": {
   "codemirror_mode": {
    "name": "ipython",
    "version": 3
   },
   "file_extension": ".py",
   "mimetype": "text/x-python",
   "name": "python",
   "nbconvert_exporter": "python",
   "pygments_lexer": "ipython3",
   "version": "3.11.4"
  }
 },
 "nbformat": 4,
 "nbformat_minor": 5
}
