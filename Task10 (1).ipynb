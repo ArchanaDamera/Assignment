{
 "cells": [
  {
   "cell_type": "markdown",
   "id": "e9aef619",
   "metadata": {},
   "source": [
    "1. **Basic List Comprehension:**\n",
    "   Write a Python program that uses list comprehension to generate a list of cubes of the first 10 positive integers.\n",
    "\n",
    "2. **Filtering with List Comprehension:**\n",
    "   Given a list of integers, create a new list using list comprehension that contains only the multiple of 3 and 5 from the original list.\n",
    "\n",
    "\"3. **String Manipulation with List Comprehension:**\\n\",\n",
    "    `   Given a list of strings, create a new list using list comprehension that contains the lengths of each string.\n",
    "\n",
    "\n",
    "4. **List Comprehension with Conditionals:**\n",
    "   Given a list of numbers, create a new list using list comprehension that contains the squares of even numbers \n",
    "\n",
    "\n",
    "5. **Pattern Printing**\n",
    "\n",
    "    Write a Python program that takes an integer 'n' as input and prints the following pattern:\n",
    "\n",
    "    For `n = 4`, the pattern should look like this:\n",
    "\n",
    "    ```\n",
    "    1\n",
    "    1 2\n",
    "    1 2 3\n",
    "    1 2 3 4\n",
    "    ```\n",
    "\n",
    "6. **Multiplication Table**\n",
    "    Create a Python program that generates and prints a multiplication table for a given number 'n'. The table should include values from 1 to 10.\\n\", \"\\n\" \"For example, if `n = 5`, the output should be:\\n\",\"\\n\",\n",
    "\n",
    "    5 x 1 = 5\n",
    "    5 x 2 = 10\n",
    "    5 x 3 = 15\n",
    "    5 x 4 = 20\n",
    "    5 x 5 = 25\n",
    "    5 x 6 = 30\n",
    "    5 x 7 = 35\n",
    "    5 x 8 = 40\n",
    "    5 x 9 = 45\n",
    "    5 x 10 = 50\n",
    "    ```\n",
    "\n",
    "7. **Star Patterns**\n",
    "\n",
    "    Write a Python program that takes an integer 'n' as input and prints the following patterns:\n",
    "\n",
    "    a) Right-angled triangle pattern:\n",
    "    ```\n",
    "    *\n",
    "    **\n",
    "    ***\n",
    "    ****\n",
    "    *****\n",
    "    ```\n",
    "\n",
    "    b) Inverted right-angled triangle pattern:\n",
    "    ```\n",
    "    *****\n",
    "    ****\n",
    "    ***\n",
    "    **\n",
    "    *\n",
    "    ```\n",
    "\n",
    "\n",
    "8. **Number Pyramid**\n",
    "\n",
    "    Create a Python program that takes an integer 'n' as input and prints a number pyramid as shown below:\n",
    "\n",
    "    For `n = 4`, the output should be:\n",
    "\n",
    "    ```\n",
    "       1\n",
    "      212\n",
    "     32123\n",
    "    4321234\n",
    "    ```\n",
    "\n",
    "\n",
    "\n"
   ]
  },
  {
   "cell_type": "markdown",
   "id": "88f95bea",
   "metadata": {},
   "source": [
    "# 1. **Basic List Comprehension:**\n",
    " "
   ]
  },
  {
   "cell_type": "markdown",
   "id": "ee4455cc",
   "metadata": {},
   "source": [
    "   Write a Python program that uses list comprehension to generate a list of cubes of the first 10 positive integers.\n"
   ]
  },
  {
   "cell_type": "code",
   "execution_count": 45,
   "id": "1394a009",
   "metadata": {},
   "outputs": [],
   "source": [
    "list1 =[]\n",
    "for i in range(1,11):\n",
    "    list1.append(i**3)"
   ]
  },
  {
   "cell_type": "code",
   "execution_count": 46,
   "id": "872490c2",
   "metadata": {},
   "outputs": [
    {
     "data": {
      "text/plain": [
       "[1, 8, 27, 64, 125, 216, 343, 512, 729, 1000]"
      ]
     },
     "execution_count": 46,
     "metadata": {},
     "output_type": "execute_result"
    }
   ],
   "source": [
    "[i **3 for i in range(1,11)]"
   ]
  },
  {
   "cell_type": "markdown",
   "id": "8a498e5b",
   "metadata": {},
   "source": [
    "\n",
    "# 2. **Filtering with List Comprehension:**\n",
    " "
   ]
  },
  {
   "cell_type": "markdown",
   "id": "292ed424",
   "metadata": {},
   "source": [
    "   Given a list of integers, create a new list using list comprehension that contains only the multiple of 3 and 5 from the original list.\n"
   ]
  },
  {
   "cell_type": "code",
   "execution_count": 3,
   "id": "9c574c33",
   "metadata": {},
   "outputs": [],
   "source": [
    "list1 = list(range(1,50))"
   ]
  },
  {
   "cell_type": "code",
   "execution_count": 2,
   "id": "47a437bd",
   "metadata": {},
   "outputs": [
    {
     "data": {
      "text/plain": [
       "[1,\n",
       " 2,\n",
       " 3,\n",
       " 4,\n",
       " 5,\n",
       " 6,\n",
       " 7,\n",
       " 8,\n",
       " 9,\n",
       " 10,\n",
       " 11,\n",
       " 12,\n",
       " 13,\n",
       " 14,\n",
       " 15,\n",
       " 16,\n",
       " 17,\n",
       " 18,\n",
       " 19,\n",
       " 20,\n",
       " 21,\n",
       " 22,\n",
       " 23,\n",
       " 24,\n",
       " 25,\n",
       " 26,\n",
       " 27,\n",
       " 28,\n",
       " 29,\n",
       " 30,\n",
       " 31,\n",
       " 32,\n",
       " 33,\n",
       " 34,\n",
       " 35,\n",
       " 36,\n",
       " 37,\n",
       " 38,\n",
       " 39,\n",
       " 40,\n",
       " 41,\n",
       " 42,\n",
       " 43,\n",
       " 44,\n",
       " 45,\n",
       " 46,\n",
       " 47,\n",
       " 48,\n",
       " 49]"
      ]
     },
     "execution_count": 2,
     "metadata": {},
     "output_type": "execute_result"
    }
   ],
   "source": [
    "list1"
   ]
  },
  {
   "cell_type": "code",
   "execution_count": 4,
   "id": "84d35b96",
   "metadata": {},
   "outputs": [
    {
     "data": {
      "text/plain": [
       "[15, 30, 45]"
      ]
     },
     "execution_count": 4,
     "metadata": {},
     "output_type": "execute_result"
    }
   ],
   "source": [
    "[i for i in list1 if(i % 3 == 0) and (i % 5 ==0)]"
   ]
  },
  {
   "cell_type": "markdown",
   "id": "47a89238",
   "metadata": {},
   "source": [
    "# 4. **List Comprehension with Conditionals:**\n",
    "   "
   ]
  },
  {
   "cell_type": "markdown",
   "id": "53dc1473",
   "metadata": {},
   "source": [
    "Given a list of numbers, create a new list using list comprehension that contains the squares of even numbers \n"
   ]
  },
  {
   "cell_type": "markdown",
   "id": "9ace5cf9",
   "metadata": {},
   "source": [
    "num = 10 to 20"
   ]
  },
  {
   "cell_type": "code",
   "execution_count": 19,
   "id": "b0f41ad4",
   "metadata": {},
   "outputs": [
    {
     "data": {
      "text/plain": [
       "[10, 12, 14, 16, 18, 20]"
      ]
     },
     "execution_count": 19,
     "metadata": {},
     "output_type": "execute_result"
    }
   ],
   "source": [
    "[i for i in range(10,21,2)]\n",
    " "
   ]
  },
  {
   "cell_type": "markdown",
   "id": "fc98e379",
   "metadata": {},
   "source": [
    "# 5. **Pattern Printing**\n",
    "\n",
    " "
   ]
  },
  {
   "cell_type": "markdown",
   "id": "a5986b0f",
   "metadata": {},
   "source": [
    "Write a Python program that takes an integer 'n' as input and prints the following pattern:\n",
    "\n",
    "    For `n = 4`, the pattern should look like this:\n"
   ]
  },
  {
   "cell_type": "code",
   "execution_count": 23,
   "id": "eafae02d",
   "metadata": {},
   "outputs": [
    {
     "name": "stdout",
     "output_type": "stream",
     "text": [
      "1 \n",
      "1 2 \n",
      "1 2 3 \n",
      "1 2 3 4 \n"
     ]
    }
   ],
   "source": [
    "n = 4\n",
    "for i in range(1,5):\n",
    "    for j in range(1,i+1): \n",
    "        print(j,end =\" \")\n",
    "    print()\n",
    "    \n",
    "    \n"
   ]
  },
  {
   "cell_type": "markdown",
   "id": "7ebf4456",
   "metadata": {},
   "source": [
    "# 6. **Multiplication Table**\n"
   ]
  },
  {
   "cell_type": "markdown",
   "id": "0780f76f",
   "metadata": {},
   "source": [
    "Create a Python program that generates and prints a multiplication table for a given number 'n'. The table should include values from 1 to 10.\\n\", \"\\n\" \"For example, if `n = 5`, the output should be:\\n\",\"\\n\",\n"
   ]
  },
  {
   "cell_type": "code",
   "execution_count": 4,
   "id": "c6689467",
   "metadata": {},
   "outputs": [],
   "source": [
    "num = 5"
   ]
  },
  {
   "cell_type": "code",
   "execution_count": 5,
   "id": "e990e592",
   "metadata": {},
   "outputs": [
    {
     "name": "stdout",
     "output_type": "stream",
     "text": [
      "5 x 1 = 5\n",
      "5 x 2 = 10\n",
      "5 x 3 = 15\n",
      "5 x 4 = 20\n",
      "5 x 5 = 25\n",
      "5 x 6 = 30\n",
      "5 x 7 = 35\n",
      "5 x 8 = 40\n",
      "5 x 9 = 45\n",
      "5 x 10 = 50\n"
     ]
    }
   ],
   "source": [
    "for i in range(1,11):\n",
    "        print (num, 'x', i, '=', num * i)    \n",
    "\n"
   ]
  },
  {
   "cell_type": "markdown",
   "id": "29623065",
   "metadata": {},
   "source": [
    "# 7. **Star Patterns**\n"
   ]
  },
  {
   "cell_type": "markdown",
   "id": "bfbca8ca",
   "metadata": {},
   "source": [
    " Write a Python program that takes an integer 'n' as input and prints the following patterns:\n",
    "\n",
    "    a) Right-angled triangle pattern:\n",
    "    ```\n",
    "    "
   ]
  },
  {
   "cell_type": "code",
   "execution_count": 5,
   "id": "344e8267",
   "metadata": {},
   "outputs": [
    {
     "name": "stdout",
     "output_type": "stream",
     "text": [
      "enter a no of rows::5\n",
      "    *\n",
      "    **\n",
      "    ***\n",
      "    ****\n",
      "    *****\n"
     ]
    }
   ],
   "source": [
    "n = int(input(\"enter a no of rows::\"))\n",
    "for i in range(1,n+1):\n",
    "    print(\" \" * (n-1)+ '*'* i)\n",
    "    "
   ]
  },
  {
   "cell_type": "markdown",
   "id": "9c105f91",
   "metadata": {},
   "source": [
    "b) Inverted right-angled triangle pattern:\n",
    "    `"
   ]
  },
  {
   "cell_type": "code",
   "execution_count": 1,
   "id": "f22cbec3",
   "metadata": {},
   "outputs": [
    {
     "name": "stdout",
     "output_type": "stream",
     "text": [
      "enter a no of rows::5\n",
      "    *****\n",
      "    ****\n",
      "    ***\n",
      "    **\n",
      "    *\n"
     ]
    }
   ],
   "source": [
    "n = int(input(\"enter a no of rows::\"))\n",
    "for i in range(n,0,-1):\n",
    "    print(\" \" * (n-1)+ '*'* i)\n",
    "    \n",
    "    "
   ]
  },
  {
   "cell_type": "markdown",
   "id": "e1c0c422",
   "metadata": {},
   "source": [
    "# 8. **Number Pyramid**\n"
   ]
  },
  {
   "cell_type": "markdown",
   "id": "aec93d33",
   "metadata": {},
   "source": [
    "Create a Python program that takes an integer 'n' as input and prints a number pyramid as shown below:\n",
    "\n",
    "    For `n = 4`, the output should be:\n"
   ]
  },
  {
   "cell_type": "code",
   "execution_count": 3,
   "id": "fb08d822",
   "metadata": {},
   "outputs": [
    {
     "name": "stdout",
     "output_type": "stream",
     "text": [
      "enter a no of rows::4\n",
      "   1\n",
      "  212\n",
      " 32123\n",
      "4321234\n"
     ]
    }
   ],
   "source": [
    "num = int(input(\"enter a no of rows::\"))\n",
    "for i in range(1,num+1):\n",
    "    for j in range(1,num-i+1):   # end value is excluted +1,\n",
    "        print(end = \" \")\n",
    "    for j in range(i,0,-1):\n",
    "        print(j,end = \"\")      \n",
    "    for j in range(2,i+1):\n",
    "        print(j,end = \"\")      ##num-i  4 -1 = 3 /,4 - 2= 2 /,4 - 3 = 1/, 4 - 4 = 0.....\n",
    "    print()"
   ]
  },
  {
   "cell_type": "code",
   "execution_count": null,
   "id": "5bec9b58",
   "metadata": {},
   "outputs": [],
   "source": []
  }
 ],
 "metadata": {
  "kernelspec": {
   "display_name": "Python 3 (ipykernel)",
   "language": "python",
   "name": "python3"
  },
  "language_info": {
   "codemirror_mode": {
    "name": "ipython",
    "version": 3
   },
   "file_extension": ".py",
   "mimetype": "text/x-python",
   "name": "python",
   "nbconvert_exporter": "python",
   "pygments_lexer": "ipython3",
   "version": "3.11.4"
  }
 },
 "nbformat": 4,
 "nbformat_minor": 5
}
