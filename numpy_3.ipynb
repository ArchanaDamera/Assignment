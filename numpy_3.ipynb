{
 "cells": [
  {
   "cell_type": "markdown",
   "id": "8726f14d",
   "metadata": {},
   "source": [
    "Data Cleaning using numpy\n",
    "The following are the student marks of a class [44,24,np.nan,59,32,96,188,52,62,58,52,120,np.nan,np.nan,3,56,81,59,,122,92,np.nan,87,96,97,1,19,2,53, 44]\n",
    "\n",
    "1 Find the no of outliers and missing values?\n",
    "2 replace the outliers with 45 and missing value with 87.\n",
    "3 what is the average marks of students after 2nd step?\n",
    "4 How many students got less than 60 marks?\n",
    "5 what is the maximum marks?\n",
    "6 Convert the marks to float32.\n",
    "\n",
    "\n",
    "\n",
    " Solving Linear Equations\n",
    " \n",
    "1. 2x + 3y - z = 10\n",
    "\n",
    "   x - y + 2z = 5\n",
    "\n",
    "   3x + 2y + z = 12\n",
    "\n",
    "2. 2x + y - z + 3w = 8\n",
    "\n",
    "   3x - 2y + 2z + 2w = 1\n",
    "\n",
    "   x + 3y - 2z + w = 7\n",
    "\n",
    "   4x - y + z - 2w = 3\n",
    "\n",
    "3. 4x + 2y - 3z = 10\n",
    "\n",
    "  -2x + 3y + z = -3\n",
    "\n",
    "   x - y + 2z = 4\n",
    "\n",
    "\n",
    "Solve the system of equations using NumPy's linalg.solve function.\n",
    "\n",
    "Conditional Selection with np.where()\n",
    "1 Generate a random 1D array A of 10 integers between 1 and 100.\n",
    "\n",
    "2 Use np.where() to find the indices where the elements of A are greater than 50.\n",
    "\n",
    "3 Create a new array B that contains elements from A where the condition is met.\n",
    "\n",
    "4 Calculate the mean of array B and print it along with arrays A and B.\n",
    "\n",
    "Replace Values with np.where()\n",
    "1 Create a 4x4 random integer matrix C with values between -10 and 10.\n",
    "\n",
    "2 Use np.where() to replace all negative values in matrix C with 0.\n",
    "\n",
    "3 Print the original matrix C and the modified matrix.\n",
    "\n",
    " "
   ]
  },
  {
   "cell_type": "code",
   "execution_count": 96,
   "id": "d204ca14",
   "metadata": {},
   "outputs": [],
   "source": [
    "import numpy as np"
   ]
  },
  {
   "cell_type": "code",
   "execution_count": 97,
   "id": "d8822d57",
   "metadata": {},
   "outputs": [],
   "source": [
    "marks = np.array([44,24,np.nan,59,32,96,188,52,62,58,52,120,np.nan,np.nan,3,56,81,59,122,92,np.nan,87,96,97,1,19,2,53, 44])"
   ]
  },
  {
   "cell_type": "markdown",
   "id": "baa9d576",
   "metadata": {},
   "source": [
    "# 1 Find the no of outliers and missing values?"
   ]
  },
  {
   "cell_type": "code",
   "execution_count": 36,
   "id": "58bd1ef5",
   "metadata": {},
   "outputs": [
    {
     "data": {
      "text/plain": [
       "array([188., 120., 122.])"
      ]
     },
     "execution_count": 36,
     "metadata": {},
     "output_type": "execute_result"
    }
   ],
   "source": [
    "outliers = (marks[(marks > 100) | (marks < 0)])\n",
    "outliers"
   ]
  },
  {
   "cell_type": "code",
   "execution_count": 37,
   "id": "b0f47c35",
   "metadata": {},
   "outputs": [
    {
     "data": {
      "text/plain": [
       "array([188., 120., 122.])"
      ]
     },
     "execution_count": 37,
     "metadata": {},
     "output_type": "execute_result"
    }
   ],
   "source": [
    "marks[marks>100]"
   ]
  },
  {
   "cell_type": "code",
   "execution_count": 38,
   "id": "ef7d8bbe",
   "metadata": {},
   "outputs": [
    {
     "data": {
      "text/plain": [
       "3"
      ]
     },
     "execution_count": 38,
     "metadata": {},
     "output_type": "execute_result"
    }
   ],
   "source": [
    "len(marks[marks>100])"
   ]
  },
  {
   "cell_type": "code",
   "execution_count": 39,
   "id": "ff4b0cff",
   "metadata": {},
   "outputs": [
    {
     "data": {
      "text/plain": [
       "array([False, False,  True, False, False, False, False, False, False,\n",
       "       False, False, False,  True,  True, False, False, False, False,\n",
       "       False, False,  True, False, False, False, False, False, False,\n",
       "       False, False])"
      ]
     },
     "execution_count": 39,
     "metadata": {},
     "output_type": "execute_result"
    }
   ],
   "source": [
    "np.isnan(marks)\n"
   ]
  },
  {
   "cell_type": "code",
   "execution_count": 40,
   "id": "f044eeac",
   "metadata": {},
   "outputs": [
    {
     "data": {
      "text/plain": [
       "4"
      ]
     },
     "execution_count": 40,
     "metadata": {},
     "output_type": "execute_result"
    }
   ],
   "source": [
    "sum(np.isnan(marks))   # Missing vales "
   ]
  },
  {
   "cell_type": "markdown",
   "id": "76a18198",
   "metadata": {},
   "source": [
    "# 2 replace the outliers with 45 and missing value with 87."
   ]
  },
  {
   "cell_type": "code",
   "execution_count": 41,
   "id": "2a899117",
   "metadata": {},
   "outputs": [
    {
     "data": {
      "text/plain": [
       "array([ 44.,  24.,  nan,  59.,  32.,  96., 188.,  52.,  62.,  58.,  52.,\n",
       "       120.,  nan,  nan,   3.,  56.,  81.,  59., 122.,  92.,  nan,  87.,\n",
       "        96.,  97.,   1.,  19.,   2.,  53.,  44.])"
      ]
     },
     "execution_count": 41,
     "metadata": {},
     "output_type": "execute_result"
    }
   ],
   "source": [
    "marks"
   ]
  },
  {
   "cell_type": "code",
   "execution_count": 42,
   "id": "d126860d",
   "metadata": {},
   "outputs": [
    {
     "data": {
      "text/plain": [
       "array([ 44.,  24.,  87.,  59.,  32.,  96., 188.,  52.,  62.,  58.,  52.,\n",
       "       120.,  87.,  87.,   3.,  56.,  81.,  59., 122.,  92.,  87.,  87.,\n",
       "        96.,  97.,   1.,  19.,   2.,  53.,  44.], dtype=float32)"
      ]
     },
     "execution_count": 42,
     "metadata": {},
     "output_type": "execute_result"
    }
   ],
   "source": [
    "marks = np.where(np.isnan(marks),87,marks).astype('float32')#missing values replaced with 87\n",
    "marks"
   ]
  },
  {
   "cell_type": "code",
   "execution_count": 48,
   "id": "d79c24a3",
   "metadata": {},
   "outputs": [
    {
     "data": {
      "text/plain": [
       "array([False, False, False, False, False, False,  True, False, False,\n",
       "       False, False,  True, False, False, False, False, False, False,\n",
       "        True, False, False, False, False, False, False, False, False,\n",
       "       False, False])"
      ]
     },
     "execution_count": 48,
     "metadata": {},
     "output_type": "execute_result"
    }
   ],
   "source": [
    "cond = (marks > 100) | (marks < 0)\n",
    "cond"
   ]
  },
  {
   "cell_type": "code",
   "execution_count": 49,
   "id": "be735993",
   "metadata": {},
   "outputs": [
    {
     "data": {
      "text/plain": [
       "3"
      ]
     },
     "execution_count": 49,
     "metadata": {},
     "output_type": "execute_result"
    }
   ],
   "source": [
    "np.sum(cond)"
   ]
  },
  {
   "cell_type": "code",
   "execution_count": 52,
   "id": "c1be433d",
   "metadata": {},
   "outputs": [],
   "source": [
    "marks = np.where(cond,45,marks)"
   ]
  },
  {
   "cell_type": "code",
   "execution_count": 53,
   "id": "1d33a93e",
   "metadata": {},
   "outputs": [
    {
     "data": {
      "text/plain": [
       "array([44., 24., 87., 59., 32., 96., 45., 52., 62., 58., 52., 45., 87.,\n",
       "       87.,  3., 56., 81., 59., 45., 92., 87., 87., 96., 97.,  1., 19.,\n",
       "        2., 53., 44.], dtype=float32)"
      ]
     },
     "execution_count": 53,
     "metadata": {},
     "output_type": "execute_result"
    }
   ],
   "source": [
    "marks"
   ]
  },
  {
   "cell_type": "markdown",
   "id": "1835d5f1",
   "metadata": {},
   "source": [
    "# 3 what is the average marks of students after 2nd step?"
   ]
  },
  {
   "cell_type": "code",
   "execution_count": 54,
   "id": "10ca9d83",
   "metadata": {},
   "outputs": [
    {
     "data": {
      "text/plain": [
       "56.96552"
      ]
     },
     "execution_count": 54,
     "metadata": {},
     "output_type": "execute_result"
    }
   ],
   "source": [
    "average = np.mean(marks)\n",
    "average"
   ]
  },
  {
   "cell_type": "markdown",
   "id": "2943301d",
   "metadata": {},
   "source": [
    "# 4 How many students got less than 60 marks?"
   ]
  },
  {
   "cell_type": "code",
   "execution_count": 56,
   "id": "182c26d2",
   "metadata": {},
   "outputs": [
    {
     "data": {
      "text/plain": [
       "18"
      ]
     },
     "execution_count": 56,
     "metadata": {},
     "output_type": "execute_result"
    }
   ],
   "source": [
    "len(marks[marks<60])"
   ]
  },
  {
   "cell_type": "markdown",
   "id": "a4111321",
   "metadata": {},
   "source": [
    "# 5 what is the maximum marks?"
   ]
  },
  {
   "cell_type": "code",
   "execution_count": 62,
   "id": "d39205e4",
   "metadata": {},
   "outputs": [
    {
     "data": {
      "text/plain": [
       "97.0"
      ]
     },
     "execution_count": 62,
     "metadata": {},
     "output_type": "execute_result"
    }
   ],
   "source": [
    "np.max(marks)"
   ]
  },
  {
   "cell_type": "markdown",
   "id": "63cd810d",
   "metadata": {},
   "source": [
    "# 6 Convert the marks to float32.\n"
   ]
  },
  {
   "cell_type": "code",
   "execution_count": 68,
   "id": "5afba0c0",
   "metadata": {},
   "outputs": [
    {
     "data": {
      "text/plain": [
       "array([44., 24., 87., 59., 32., 96., 45., 52., 62., 58., 52., 45., 87.,\n",
       "       87.,  3., 56., 81., 59., 45., 92., 87., 87., 96., 97.,  1., 19.,\n",
       "        2., 53., 44.])"
      ]
     },
     "execution_count": 68,
     "metadata": {},
     "output_type": "execute_result"
    }
   ],
   "source": [
    "np.array(marks,dtype = \"float64\")"
   ]
  },
  {
   "cell_type": "code",
   "execution_count": 69,
   "id": "1a38490b",
   "metadata": {},
   "outputs": [
    {
     "data": {
      "text/plain": [
       "dtype('float32')"
      ]
     },
     "execution_count": 69,
     "metadata": {},
     "output_type": "execute_result"
    }
   ],
   "source": [
    "marks.dtype"
   ]
  },
  {
   "cell_type": "markdown",
   "id": "3b4d8266",
   "metadata": {},
   "source": [
    "# Solving Linear Equations"
   ]
  },
  {
   "cell_type": "markdown",
   "id": "f759d3f6",
   "metadata": {},
   "source": [
    "2x + 3y - z = 10\n",
    "\n",
    "x - y + 2z = 5\n",
    "\n",
    "3x + 2y + z = 12"
   ]
  },
  {
   "cell_type": "code",
   "execution_count": 70,
   "id": "a30cabf4",
   "metadata": {},
   "outputs": [
    {
     "data": {
      "text/plain": [
       "array([[ 2,  3, -1],\n",
       "       [ 1, -1,  2],\n",
       "       [ 3,  2,  1]])"
      ]
     },
     "execution_count": 70,
     "metadata": {},
     "output_type": "execute_result"
    }
   ],
   "source": [
    "x = np.array([[2,3,-1],[1,-1,2],[3,2,1]])\n",
    "x"
   ]
  },
  {
   "cell_type": "code",
   "execution_count": 71,
   "id": "6aff176d",
   "metadata": {},
   "outputs": [
    {
     "data": {
      "text/plain": [
       "array([10,  5, 12])"
      ]
     },
     "execution_count": 71,
     "metadata": {},
     "output_type": "execute_result"
    }
   ],
   "source": [
    "y = np.array([10,5,12])\n",
    "y"
   ]
  },
  {
   "cell_type": "code",
   "execution_count": 72,
   "id": "c60b8126",
   "metadata": {},
   "outputs": [
    {
     "data": {
      "text/plain": [
       "array([-7.36952666e+15,  7.36952666e+15,  7.36952666e+15])"
      ]
     },
     "execution_count": 72,
     "metadata": {},
     "output_type": "execute_result"
    }
   ],
   "source": [
    "np.linalg.solve(x,y)"
   ]
  },
  {
   "cell_type": "markdown",
   "id": "7aa54805",
   "metadata": {},
   "source": [
    "2x + y - z + 3w = 8\n",
    "\n",
    "3x - 2y + 2z + 2w = 1\n",
    "\n",
    "x + 3y - 2z + w = 7\n",
    "\n",
    "4x - y + z - 2w = 3"
   ]
  },
  {
   "cell_type": "code",
   "execution_count": 74,
   "id": "a8d031c7",
   "metadata": {},
   "outputs": [
    {
     "data": {
      "text/plain": [
       "array([[ 2,  1, -1,  3],\n",
       "       [ 3, -2,  2,  2],\n",
       "       [ 1,  3, -2,  1],\n",
       "       [ 4, -1,  1, -2]])"
      ]
     },
     "execution_count": 74,
     "metadata": {},
     "output_type": "execute_result"
    }
   ],
   "source": [
    "s = np.array([[2,1,-1,3],[3,-2,2,2],[1,3,-2,1],[4,-1,1,-2]])\n",
    "s"
   ]
  },
  {
   "cell_type": "code",
   "execution_count": 75,
   "id": "e9a90920",
   "metadata": {},
   "outputs": [
    {
     "data": {
      "text/plain": [
       "array([8, 1, 7, 3])"
      ]
     },
     "execution_count": 75,
     "metadata": {},
     "output_type": "execute_result"
    }
   ],
   "source": [
    "a = np.array([8,1,7,3])\n",
    "a"
   ]
  },
  {
   "cell_type": "code",
   "execution_count": 76,
   "id": "4b0ab4bf",
   "metadata": {},
   "outputs": [
    {
     "data": {
      "text/plain": [
       "array([ 1.73170732, -0.75609756, -3.46341463,  0.6097561 ])"
      ]
     },
     "execution_count": 76,
     "metadata": {},
     "output_type": "execute_result"
    }
   ],
   "source": [
    "np.linalg.solve(s,a)"
   ]
  },
  {
   "cell_type": "markdown",
   "id": "bb6d529d",
   "metadata": {},
   "source": [
    "4x + 2y - 3z = 10\n",
    "\n",
    "-2x + 3y + z = -3\n",
    "\n",
    "x - y + 2z = 4"
   ]
  },
  {
   "cell_type": "code",
   "execution_count": 77,
   "id": "7829953d",
   "metadata": {},
   "outputs": [
    {
     "data": {
      "text/plain": [
       "array([[ 4,  2, -3],\n",
       "       [-2,  3,  1],\n",
       "       [ 1, -1,  2]])"
      ]
     },
     "execution_count": 77,
     "metadata": {},
     "output_type": "execute_result"
    }
   ],
   "source": [
    "v = np.array([[4,2,-3],[-2,3,1],[1,-1,2]])\n",
    "v"
   ]
  },
  {
   "cell_type": "code",
   "execution_count": 78,
   "id": "39208f68",
   "metadata": {},
   "outputs": [
    {
     "data": {
      "text/plain": [
       "array([10, -3,  4])"
      ]
     },
     "execution_count": 78,
     "metadata": {},
     "output_type": "execute_result"
    }
   ],
   "source": [
    "t = np.array([10,-3,4])\n",
    "t"
   ]
  },
  {
   "cell_type": "code",
   "execution_count": 79,
   "id": "e8175bf8",
   "metadata": {},
   "outputs": [
    {
     "data": {
      "text/plain": [
       "array([2.85365854, 0.6097561 , 0.87804878])"
      ]
     },
     "execution_count": 79,
     "metadata": {},
     "output_type": "execute_result"
    }
   ],
   "source": [
    "np.linalg.solve(v,t)"
   ]
  },
  {
   "cell_type": "markdown",
   "id": "3243c4a0",
   "metadata": {},
   "source": [
    "# Conditional Selection with np.where()"
   ]
  },
  {
   "cell_type": "markdown",
   "id": "9bc8eada",
   "metadata": {},
   "source": [
    "1.Generate a random 1D array A of 10 integers between 1 and 100."
   ]
  },
  {
   "cell_type": "code",
   "execution_count": 84,
   "id": "cb455a36",
   "metadata": {},
   "outputs": [
    {
     "data": {
      "text/plain": [
       "array([58, 66, 68, 64, 11, 99, 13, 28, 12, 73])"
      ]
     },
     "execution_count": 84,
     "metadata": {},
     "output_type": "execute_result"
    }
   ],
   "source": [
    "arr1 = np.random.randint(1,100,10)\n",
    "A = np.array(arr1)\n",
    "A"
   ]
  },
  {
   "cell_type": "markdown",
   "id": "68d86385",
   "metadata": {},
   "source": [
    "2 Use np.where() to find the indices where the elements of A are greater than 50."
   ]
  },
  {
   "cell_type": "code",
   "execution_count": 86,
   "id": "c4150e4a",
   "metadata": {},
   "outputs": [
    {
     "name": "stdout",
     "output_type": "stream",
     "text": [
      "[58 66 68 64 99 73]\n"
     ]
    },
    {
     "data": {
      "text/plain": [
       "(array([0, 1, 2, 3, 5, 9], dtype=int64),)"
      ]
     },
     "execution_count": 86,
     "metadata": {},
     "output_type": "execute_result"
    }
   ],
   "source": [
    "elmt = A>50\n",
    "print(A[elmt])\n",
    "np.where(elmt)"
   ]
  },
  {
   "cell_type": "markdown",
   "id": "1ed0dba7",
   "metadata": {},
   "source": [
    "3.Create a new array B that contains elements from A where the condition is met.\n"
   ]
  },
  {
   "cell_type": "code",
   "execution_count": 87,
   "id": "34ec922c",
   "metadata": {},
   "outputs": [
    {
     "data": {
      "text/plain": [
       "array([58, 66, 68, 64, 99, 73])"
      ]
     },
     "execution_count": 87,
     "metadata": {},
     "output_type": "execute_result"
    }
   ],
   "source": [
    "B = np.array(A[A>50])\n",
    "B"
   ]
  },
  {
   "cell_type": "markdown",
   "id": "56da0365",
   "metadata": {},
   "source": [
    "4.Calculate the mean of array B and print it along with arrays A and B."
   ]
  },
  {
   "cell_type": "code",
   "execution_count": 98,
   "id": "979277cb",
   "metadata": {},
   "outputs": [
    {
     "data": {
      "text/plain": [
       "49.2"
      ]
     },
     "execution_count": 98,
     "metadata": {},
     "output_type": "execute_result"
    }
   ],
   "source": [
    "np.mean(A)"
   ]
  },
  {
   "cell_type": "code",
   "execution_count": 99,
   "id": "4a236539",
   "metadata": {},
   "outputs": [
    {
     "data": {
      "text/plain": [
       "71.33333333333333"
      ]
     },
     "execution_count": 99,
     "metadata": {},
     "output_type": "execute_result"
    }
   ],
   "source": [
    "np.mean(B)"
   ]
  },
  {
   "cell_type": "markdown",
   "id": "0014486a",
   "metadata": {},
   "source": [
    "# Replace Values with np.where()"
   ]
  },
  {
   "cell_type": "markdown",
   "id": "e27e7055",
   "metadata": {},
   "source": [
    "1.Create a 4x4 random integer matrix C with values between -10 and 10"
   ]
  },
  {
   "cell_type": "code",
   "execution_count": 106,
   "id": "b9f16f1d",
   "metadata": {},
   "outputs": [
    {
     "data": {
      "text/plain": [
       "array([[  9,  -6,  -1,  -1],\n",
       "       [-10,  -5,   8,  -6],\n",
       "       [ -1, -10,   7,  -2],\n",
       "       [ -7,   4,   2,  -9]])"
      ]
     },
     "execution_count": 106,
     "metadata": {},
     "output_type": "execute_result"
    }
   ],
   "source": [
    "c = np.random.randint(-10,10,16).reshape(4,4)\n",
    "c"
   ]
  },
  {
   "cell_type": "markdown",
   "id": "8ff093a6",
   "metadata": {},
   "source": [
    "2.Use np.where() to replace all negative values in matrix C with 0"
   ]
  },
  {
   "cell_type": "code",
   "execution_count": 113,
   "id": "918b929b",
   "metadata": {},
   "outputs": [
    {
     "data": {
      "text/plain": [
       "array([[9, 0, 0, 0],\n",
       "       [0, 0, 8, 0],\n",
       "       [0, 0, 7, 0],\n",
       "       [0, 4, 2, 0]])"
      ]
     },
     "execution_count": 113,
     "metadata": {},
     "output_type": "execute_result"
    }
   ],
   "source": [
    "modified = np.where(c<0,0,c)\n",
    "modified"
   ]
  },
  {
   "cell_type": "markdown",
   "id": "9ffb2234",
   "metadata": {},
   "source": [
    "3.Print the original matrix C and the modified matrix."
   ]
  },
  {
   "cell_type": "code",
   "execution_count": 114,
   "id": "8bf5e83c",
   "metadata": {},
   "outputs": [
    {
     "data": {
      "text/plain": [
       "array([[  9,  -6,  -1,  -1],\n",
       "       [-10,  -5,   8,  -6],\n",
       "       [ -1, -10,   7,  -2],\n",
       "       [ -7,   4,   2,  -9]])"
      ]
     },
     "execution_count": 114,
     "metadata": {},
     "output_type": "execute_result"
    }
   ],
   "source": [
    "c\n"
   ]
  },
  {
   "cell_type": "code",
   "execution_count": 115,
   "id": "4bc6f6df",
   "metadata": {},
   "outputs": [
    {
     "data": {
      "text/plain": [
       "array([[9, 0, 0, 0],\n",
       "       [0, 0, 8, 0],\n",
       "       [0, 0, 7, 0],\n",
       "       [0, 4, 2, 0]])"
      ]
     },
     "execution_count": 115,
     "metadata": {},
     "output_type": "execute_result"
    }
   ],
   "source": [
    "modified"
   ]
  },
  {
   "cell_type": "code",
   "execution_count": null,
   "id": "ecd48d86",
   "metadata": {},
   "outputs": [],
   "source": []
  }
 ],
 "metadata": {
  "kernelspec": {
   "display_name": "Python 3 (ipykernel)",
   "language": "python",
   "name": "python3"
  },
  "language_info": {
   "codemirror_mode": {
    "name": "ipython",
    "version": 3
   },
   "file_extension": ".py",
   "mimetype": "text/x-python",
   "name": "python",
   "nbconvert_exporter": "python",
   "pygments_lexer": "ipython3",
   "version": "3.11.4"
  }
 },
 "nbformat": 4,
 "nbformat_minor": 5
}
