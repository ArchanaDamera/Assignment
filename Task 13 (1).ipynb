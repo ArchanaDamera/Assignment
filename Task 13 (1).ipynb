{
 "cells": [
  {
   "cell_type": "markdown",
   "id": "89ffda57",
   "metadata": {},
   "source": [
    "1. Write a function called \"add_numbers\" that takes two integers as input and returns their sum.\n",
    "\n",
    "2. Write a function called \"multiply_numbers\" that takes two integers as input and returns their product.\n",
    "\n",
    "3. Write a function called \"calculate_average\" that takes a list of numbers as input and returns the average of thosenumbers.\n",
    "\n",
    "4. Write a function called \"is_even\" that takes an integer as input and returns True if the number is even, and False otherwise.\n",
    "\n",
    "5. Write a function called \"reverse_string\" that takes a string as input and returns the reverse of that string.\n",
    "\n",
    "6. Write a function called \"count_vowels\" that takes a string as input and returns the number of vowels (a, e, i, o, u) in that string.\n",
    "\n",
    "7. Write a function called \"find_max\" that takes a list of numbers as input and returns the maximum value in that list.\n",
    "\n",
    "8. Write a function called \"find_min\" that takes a list of numbers as input and returns the minimum value in that list."
   ]
  },
  {
   "cell_type": "markdown",
   "id": "fb2cc4b6",
   "metadata": {},
   "source": [
    "1. Write a function called \"add_numbers\" that takes two integers as input and returns their sum.\n"
   ]
  },
  {
   "cell_type": "code",
   "execution_count": 1,
   "id": "b20d08f8",
   "metadata": {},
   "outputs": [],
   "source": [
    "def add_numbers(a,b):\n",
    "    print(a+b)\n",
    "    "
   ]
  },
  {
   "cell_type": "code",
   "execution_count": 3,
   "id": "4b599970",
   "metadata": {},
   "outputs": [
    {
     "name": "stdout",
     "output_type": "stream",
     "text": [
      "26\n"
     ]
    }
   ],
   "source": [
    "add_numbers(20,6)"
   ]
  },
  {
   "cell_type": "markdown",
   "id": "9ed96b66",
   "metadata": {},
   "source": [
    "2. Write a function called \"multiply_numbers\" that takes two integers as input and returns their product.\n"
   ]
  },
  {
   "cell_type": "code",
   "execution_count": 16,
   "id": "36c6a672",
   "metadata": {},
   "outputs": [],
   "source": [
    "def multiply_numbers(a,b):\n",
    "    print(a * b)"
   ]
  },
  {
   "cell_type": "code",
   "execution_count": 17,
   "id": "7b50ae0f",
   "metadata": {},
   "outputs": [
    {
     "name": "stdout",
     "output_type": "stream",
     "text": [
      "30\n"
     ]
    }
   ],
   "source": [
    "multiply_numbers(6,5)"
   ]
  },
  {
   "cell_type": "markdown",
   "id": "7e92ccbc",
   "metadata": {},
   "source": [
    "3. Write a function called \"calculate_average\" that takes a list of numbers as input and returns the average of thosenumbers.\n"
   ]
  },
  {
   "cell_type": "code",
   "execution_count": 27,
   "id": "d766e707",
   "metadata": {},
   "outputs": [],
   "source": [
    "def calculate_average(a):\n",
    "    print(sum(a)/len(a))\n",
    "    "
   ]
  },
  {
   "cell_type": "code",
   "execution_count": 28,
   "id": "2348fa5d",
   "metadata": {},
   "outputs": [
    {
     "name": "stdout",
     "output_type": "stream",
     "text": [
      "7.6\n"
     ]
    }
   ],
   "source": [
    "calculate_average([5,7,12,6,8])\n"
   ]
  },
  {
   "cell_type": "markdown",
   "id": "a67ef55c",
   "metadata": {},
   "source": [
    "4. Write a function called \"is_even\" that takes an integer as input and returns True if the number is even, and False otherwise.\n"
   ]
  },
  {
   "cell_type": "code",
   "execution_count": 29,
   "id": "38bb7e99",
   "metadata": {},
   "outputs": [],
   "source": [
    "def is_even(a):\n",
    "    if a%2==0:\n",
    "        print(True)\n",
    "    else:\n",
    "        print(False)\n",
    "        "
   ]
  },
  {
   "cell_type": "code",
   "execution_count": 30,
   "id": "51a532a8",
   "metadata": {},
   "outputs": [
    {
     "name": "stdout",
     "output_type": "stream",
     "text": [
      "True\n"
     ]
    }
   ],
   "source": [
    "is_even(8)"
   ]
  },
  {
   "cell_type": "markdown",
   "id": "1be2397d",
   "metadata": {},
   "source": [
    "5. Write a function called \"reverse_string\" that takes a string as input and returns the reverse of that string.\n"
   ]
  },
  {
   "cell_type": "code",
   "execution_count": 31,
   "id": "983bd6a2",
   "metadata": {},
   "outputs": [],
   "source": [
    "def reverse_string(x):\n",
    "    print(x[::-1])"
   ]
  },
  {
   "cell_type": "code",
   "execution_count": 33,
   "id": "5f1a1d7f",
   "metadata": {},
   "outputs": [
    {
     "name": "stdout",
     "output_type": "stream",
     "text": [
      "uhsia\n"
     ]
    }
   ],
   "source": [
    "reverse_string(\"aishu\")"
   ]
  },
  {
   "cell_type": "markdown",
   "id": "8c8b3b30",
   "metadata": {},
   "source": [
    "6. Write a function called \"count_vowels\" that takes a string as input and returns the number of vowels (a, e, i, o, u) in that string.\n"
   ]
  },
  {
   "cell_type": "code",
   "execution_count": 35,
   "id": "9b92ce0d",
   "metadata": {},
   "outputs": [
    {
     "name": "stdout",
     "output_type": "stream",
     "text": [
      "['i', 'a', 'e', 'a', 'i', 'a', 'a', 'i', 'e', 'e']\n",
      "The vowels present in this are :  10\n"
     ]
    }
   ],
   "source": [
    "count = []\n",
    "vowels = ['a','e','i','o','u']\n",
    "def count_vowels(a):\n",
    "    for i in a:\n",
    "        if i in vowels:\n",
    "            count.append(i)\n",
    "    print(count)\n",
    "    print(\"The vowels present in this are : \", len(count))\n",
    "count_vowels(\"i am learning Data science\")\n"
   ]
  },
  {
   "cell_type": "markdown",
   "id": "929e297a",
   "metadata": {},
   "source": [
    "7. Write a function called \"find_max\" that takes a list of numbers as input and returns the maximum value in that list.\n"
   ]
  },
  {
   "cell_type": "code",
   "execution_count": 41,
   "id": "c7e30c2c",
   "metadata": {},
   "outputs": [],
   "source": [
    "def find_max(a):\n",
    "    print(max(a))\n",
    "a =[1,4,7,9,10,2]"
   ]
  },
  {
   "cell_type": "code",
   "execution_count": 42,
   "id": "8998752c",
   "metadata": {},
   "outputs": [
    {
     "name": "stdout",
     "output_type": "stream",
     "text": [
      "10\n"
     ]
    }
   ],
   "source": [
    "find_max(a)"
   ]
  },
  {
   "cell_type": "markdown",
   "id": "00922b96",
   "metadata": {},
   "source": [
    "8. Write a function called \"find_min\" that takes a list of numbers as input and returns the minimum value in that list."
   ]
  },
  {
   "cell_type": "code",
   "execution_count": 43,
   "id": "1cfd7b4a",
   "metadata": {},
   "outputs": [],
   "source": [
    "def find_min(b):\n",
    "    print(min(b))\n",
    "b = [3,4,2,5,8,10,7]"
   ]
  },
  {
   "cell_type": "code",
   "execution_count": 44,
   "id": "86146f75",
   "metadata": {},
   "outputs": [
    {
     "name": "stdout",
     "output_type": "stream",
     "text": [
      "2\n"
     ]
    }
   ],
   "source": [
    "find_min(b)"
   ]
  },
  {
   "cell_type": "code",
   "execution_count": null,
   "id": "f715fec6",
   "metadata": {},
   "outputs": [],
   "source": []
  }
 ],
 "metadata": {
  "kernelspec": {
   "display_name": "Python 3 (ipykernel)",
   "language": "python",
   "name": "python3"
  },
  "language_info": {
   "codemirror_mode": {
    "name": "ipython",
    "version": 3
   },
   "file_extension": ".py",
   "mimetype": "text/x-python",
   "name": "python",
   "nbconvert_exporter": "python",
   "pygments_lexer": "ipython3",
   "version": "3.11.4"
  }
 },
 "nbformat": 4,
 "nbformat_minor": 5
}
