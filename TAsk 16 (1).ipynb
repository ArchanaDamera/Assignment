{
 "cells": [
  {
   "cell_type": "markdown",
   "id": "fd99fb02",
   "metadata": {},
   "source": [
    "**Task 1**:\n",
    "1. Load the file 'about_python.txt'into your jupyter notebook.\n",
    "    a. Correct wrong statements about python fatures\n",
    "    b. How many charactaers present in the data\n",
    "    c. How many times 'Python' word is repeated.\n",
    "    d. after correcting all ..print complete valid features of the python.\n",
    "    \n",
    "**Task2**:\n",
    "\n",
    "2. Create a file 'File.txt'which expalains python file handling whatever you have learnt today(creating,reading,wring and appending...etc) in detail.That reaload the saved file(i.e File.txt) to jupyter notebook."
   ]
  },
  {
   "cell_type": "markdown",
   "id": "fb3c8a88",
   "metadata": {},
   "source": [
    "# **Task 1**:\n"
   ]
  },
  {
   "cell_type": "markdown",
   "id": "3ae8598c",
   "metadata": {},
   "source": [
    "1. Load the file 'about_python.txt'into your jupyter notebook.\n",
    "    a. Correct wrong statements about python fatures\n",
    "    b. How many charactaers present in the data\n",
    "    c. How many times 'Python' word is repeated.\n",
    "    d. after correcting all ..print complete valid features of the python.\n",
    " "
   ]
  },
  {
   "cell_type": "code",
   "execution_count": 57,
   "id": "91e3f001",
   "metadata": {},
   "outputs": [],
   "source": [
    "file = open(r\"C:\\Users\\pc\\OneDrive\\Desktop\\Demo.txt.txt\")"
   ]
  },
  {
   "cell_type": "code",
   "execution_count": 58,
   "id": "d80748a5",
   "metadata": {},
   "outputs": [],
   "source": [
    "var = file.read()\n"
   ]
  },
  {
   "cell_type": "code",
   "execution_count": 59,
   "id": "8327087e",
   "metadata": {},
   "outputs": [],
   "source": [
    "var = var.replace('compiled','interpreted')\n",
    "var = var.replace('paid','open source')\n",
    "var = var.replace('statically','Dynamical')\n",
    "var = var.replace('double','single,double and triple')\n",
    "var = var.replace('web development','web development,software development and web scraping')\n",
    "var = var.replace('Elon Musk','Guido Van Rossum')\n"
   ]
  },
  {
   "cell_type": "code",
   "execution_count": 60,
   "id": "54ef60b8",
   "metadata": {},
   "outputs": [
    {
     "data": {
      "text/plain": [
       "473"
      ]
     },
     "execution_count": 60,
     "metadata": {},
     "output_type": "execute_result"
    }
   ],
   "source": [
    "len(var)"
   ]
  },
  {
   "cell_type": "code",
   "execution_count": 61,
   "id": "92d0b387",
   "metadata": {},
   "outputs": [],
   "source": [
    "file.close()\n"
   ]
  },
  {
   "cell_type": "code",
   "execution_count": 62,
   "id": "de58f9fb",
   "metadata": {},
   "outputs": [
    {
     "data": {
      "text/plain": [
       "9"
      ]
     },
     "execution_count": 62,
     "metadata": {},
     "output_type": "execute_result"
    }
   ],
   "source": [
    "var.count('Python')\n"
   ]
  },
  {
   "cell_type": "code",
   "execution_count": 63,
   "id": "d42bf812",
   "metadata": {},
   "outputs": [
    {
     "name": "stdout",
     "output_type": "stream",
     "text": [
      "Python supports object-oriented programming (OOP) concepts.\n",
      "Python is a interpreted language.\n",
      "Python has a rich ecosystem of third-party libraries.\n",
      "Python is a open source programming language\n",
      "Python uses indentation for code block structuring.\n",
      "Python is Dynamical Typed Language\n",
      "Python only supports single,double and triple quotes for string literals.\n",
      "Python can only be used for web development,software development and web scraping.\n",
      "Python was createdÂ byÂ ElonÂ Musk.\n",
      "\n"
     ]
    }
   ],
   "source": [
    "print(var)"
   ]
  },
  {
   "cell_type": "markdown",
   "id": "87b682a4",
   "metadata": {},
   "source": [
    "# Task 2"
   ]
  },
  {
   "cell_type": "markdown",
   "id": "6056aa00",
   "metadata": {},
   "source": [
    "2. Create a file 'File.txt'which expalains python file handling whatever you have learnt today(creating,reading,wring and appending...etc) in detail.That reaload the saved file(i.e File.txt) to jupyter notebook."
   ]
  },
  {
   "cell_type": "code",
   "execution_count": 27,
   "id": "1fcf4e71",
   "metadata": {},
   "outputs": [],
   "source": [
    "file = open('file1.txt','x')"
   ]
  },
  {
   "cell_type": "code",
   "execution_count": 28,
   "id": "e93998a0",
   "metadata": {},
   "outputs": [
    {
     "data": {
      "text/plain": [
       "421"
      ]
     },
     "execution_count": 28,
     "metadata": {},
     "output_type": "execute_result"
    }
   ],
   "source": [
    "file.write(\"File handling\\nFile handling helps to Create, Write, Read, append a file\\nCreate:\\nIt creates a new file and if we given any existing file name then it shows error\\nWrite:\\nBy using this we can add text to the file. If the file name is new then it creates the file, if not it over writes the text in the old file\\nRead:\\nIt is used to read the contents present in the file\\nAppend:\\nit is used to add the data to the existing file\")\n"
   ]
  },
  {
   "cell_type": "code",
   "execution_count": 29,
   "id": "272f7390",
   "metadata": {},
   "outputs": [],
   "source": [
    "file.close()\n"
   ]
  },
  {
   "cell_type": "code",
   "execution_count": 30,
   "id": "dc87b099",
   "metadata": {},
   "outputs": [],
   "source": [
    "file1 = open('File1.txt','r')"
   ]
  },
  {
   "cell_type": "code",
   "execution_count": 31,
   "id": "11e2fd25",
   "metadata": {},
   "outputs": [],
   "source": [
    "a = file1.read()"
   ]
  },
  {
   "cell_type": "code",
   "execution_count": 32,
   "id": "feda1ae9",
   "metadata": {},
   "outputs": [
    {
     "name": "stdout",
     "output_type": "stream",
     "text": [
      "File handling\n",
      "File handling helps to Create, Write, Read, append a file\n",
      "Create:\n",
      "It creates a new file and if we given any existing file name then it shows error\n",
      "Write:\n",
      "By using this we can add text to the file. If the file name is new then it creates the file, if not it over writes the text in the old file\n",
      "Read:\n",
      "It is used to read the contents present in the file\n",
      "Append:\n",
      "it is used to add the data to the existing file\n"
     ]
    }
   ],
   "source": [
    "print(a)"
   ]
  },
  {
   "cell_type": "code",
   "execution_count": null,
   "id": "83c29b80",
   "metadata": {},
   "outputs": [],
   "source": []
  }
 ],
 "metadata": {
  "kernelspec": {
   "display_name": "Python 3 (ipykernel)",
   "language": "python",
   "name": "python3"
  },
  "language_info": {
   "codemirror_mode": {
    "name": "ipython",
    "version": 3
   },
   "file_extension": ".py",
   "mimetype": "text/x-python",
   "name": "python",
   "nbconvert_exporter": "python",
   "pygments_lexer": "ipython3",
   "version": "3.11.4"
  }
 },
 "nbformat": 4,
 "nbformat_minor": 5
}
