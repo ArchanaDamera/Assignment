{
 "cells": [
  {
   "cell_type": "markdown",
   "id": "e30e91f8",
   "metadata": {},
   "source": [
    "\n",
    "\n",
    "**Assignment Task 1:** Tuple BasicsCreate a Python tuple containing the names of your favorite fruits. Write a Python program to print `each fruit` name from the tuple.\n",
    "\n",
    "**Assignment Task 2:** Tuple OperationsGiven two tuples, write a Python program to `concatenate` them into a `single` tuple and then find the `length` of the resulting tuple.\n",
    "\n",
    "**Assignment Task 3:** Set CreationCreate a Python set containing the first 10 `even` numbers (2, 4, 6, ...). Write a program to `display` this set.\n",
    "\n",
    "**Assignment Task 4:** Set CreationCreate a Python set containing the first 10 `even` numbers (2, 4, 6, ...). Write a program to `display` this set.\n",
    "\n",
    "**Assignment Task 5:** Tuple and Set ConversionWrite a Python program that takes a `tuple` of integers and converts it into a `set`. Then, find and print the `maximum and minimum` values from the set.\n",
    "\n",
    "**Assignment Task 6:** Tuple Immutability Explain the concept of immutability in Python tuples with examples. Discuss why tuples are considered immutable data structures.\n",
    "\n",
    "**Assignment Task 7:** Set Operations and MethodsWrite a Python program that takes a set of numbers and performs the following operations:\n",
    "   - Add a new number to the set.\n",
    "   - Remove a number from the set.\n",
    "   - Check if a specific number is in the set.\n",
    "   - Find the size of the set.\n",
    "\n",
    "**Assignment Task 8:** Tuple SlicingGiven a tuple of 10 elements, write a Python program to print the elements from the `3rd to the 7th `position using slicing.\n",
    "\n",
    "**Assignment Task 9:** Set Operations with ListsCreate a Python list with duplicate elements and convert it into a set to remove duplicates. Then, write a program to count how many duplicates were removed.\n",
    "\n",
    "**Assignment Task 10:** Tuple and Set Combinations Create a `tuple` containing the names of your friend's favorite movies and a `set` containing the names of your favorite movies. Write a Python program to find and display common elements (movies that feature your "
   ]
  },
  {
   "cell_type": "markdown",
   "id": "cad39908",
   "metadata": {},
   "source": [
    "# Assignment Task 1"
   ]
  },
  {
   "cell_type": "markdown",
   "id": "871d8252",
   "metadata": {},
   "source": [
    "1 Tuple BasicsCreate a Python tuple containing the names of your favorite fruits. Write a Python program to print `each fruit` name from the tuple.\n"
   ]
  },
  {
   "cell_type": "code",
   "execution_count": 2,
   "id": "748b7f90",
   "metadata": {},
   "outputs": [],
   "source": [
    "fruits = ('Apple','Mango','Orange','cheery','Papaya')"
   ]
  },
  {
   "cell_type": "code",
   "execution_count": 3,
   "id": "9e303865",
   "metadata": {},
   "outputs": [
    {
     "data": {
      "text/plain": [
       "tuple"
      ]
     },
     "execution_count": 3,
     "metadata": {},
     "output_type": "execute_result"
    }
   ],
   "source": [
    "type(fruits)"
   ]
  },
  {
   "cell_type": "code",
   "execution_count": 5,
   "id": "9f8f94ed",
   "metadata": {},
   "outputs": [
    {
     "data": {
      "text/plain": [
       "'Apple'"
      ]
     },
     "execution_count": 5,
     "metadata": {},
     "output_type": "execute_result"
    }
   ],
   "source": [
    "fruits[0]"
   ]
  },
  {
   "cell_type": "code",
   "execution_count": 6,
   "id": "0a5d0d87",
   "metadata": {},
   "outputs": [
    {
     "data": {
      "text/plain": [
       "'Mango'"
      ]
     },
     "execution_count": 6,
     "metadata": {},
     "output_type": "execute_result"
    }
   ],
   "source": [
    "fruits[1]"
   ]
  },
  {
   "cell_type": "code",
   "execution_count": 7,
   "id": "3a3be199",
   "metadata": {},
   "outputs": [
    {
     "data": {
      "text/plain": [
       "'Orange'"
      ]
     },
     "execution_count": 7,
     "metadata": {},
     "output_type": "execute_result"
    }
   ],
   "source": [
    "fruits[2]"
   ]
  },
  {
   "cell_type": "code",
   "execution_count": 8,
   "id": "53585665",
   "metadata": {},
   "outputs": [
    {
     "data": {
      "text/plain": [
       "'cheery'"
      ]
     },
     "execution_count": 8,
     "metadata": {},
     "output_type": "execute_result"
    }
   ],
   "source": [
    "fruits[3]"
   ]
  },
  {
   "cell_type": "code",
   "execution_count": 9,
   "id": "5c458ddf",
   "metadata": {},
   "outputs": [
    {
     "data": {
      "text/plain": [
       "'Papaya'"
      ]
     },
     "execution_count": 9,
     "metadata": {},
     "output_type": "execute_result"
    }
   ],
   "source": [
    "fruits[4]"
   ]
  },
  {
   "cell_type": "markdown",
   "id": "387bdf56",
   "metadata": {},
   "source": [
    "# Assignment Task 2"
   ]
  },
  {
   "cell_type": "markdown",
   "id": "bbd653fb",
   "metadata": {},
   "source": [
    "2 Tuple OperationsGiven two tuples, write a Python program to `concatenate` them into a `single` tuple and then find the `length` of the resulting tuple.\n"
   ]
  },
  {
   "cell_type": "code",
   "execution_count": 10,
   "id": "5a1cd5be",
   "metadata": {},
   "outputs": [],
   "source": [
    "tuple1 = (1,3,5,7,9,11)\n",
    "tuple2 = (2,4,6,8,10,12)"
   ]
  },
  {
   "cell_type": "code",
   "execution_count": 11,
   "id": "e548e7e9",
   "metadata": {},
   "outputs": [],
   "source": [
    "val = tuple1+tuple2"
   ]
  },
  {
   "cell_type": "code",
   "execution_count": 12,
   "id": "c5363633",
   "metadata": {},
   "outputs": [
    {
     "data": {
      "text/plain": [
       "(1, 3, 5, 7, 9, 11, 2, 4, 6, 8, 10, 12)"
      ]
     },
     "execution_count": 12,
     "metadata": {},
     "output_type": "execute_result"
    }
   ],
   "source": [
    "val"
   ]
  },
  {
   "cell_type": "code",
   "execution_count": 13,
   "id": "c491e2c5",
   "metadata": {},
   "outputs": [
    {
     "data": {
      "text/plain": [
       "12"
      ]
     },
     "execution_count": 13,
     "metadata": {},
     "output_type": "execute_result"
    }
   ],
   "source": [
    "len(val)"
   ]
  },
  {
   "cell_type": "markdown",
   "id": "5619fd22",
   "metadata": {},
   "source": [
    "# Assignment Task 3"
   ]
  },
  {
   "cell_type": "markdown",
   "id": "7519020b",
   "metadata": {},
   "source": [
    "3 Set CreationCreate a Python set containing the first 10 `even` numbers (2, 4, 6, ...). Write a program to `display` this set."
   ]
  },
  {
   "cell_type": "code",
   "execution_count": 14,
   "id": "28b721ed",
   "metadata": {},
   "outputs": [],
   "source": [
    "val = {2,4,6,8,10,12,14,16,18,20}\n"
   ]
  },
  {
   "cell_type": "code",
   "execution_count": 15,
   "id": "883596cd",
   "metadata": {},
   "outputs": [
    {
     "data": {
      "text/plain": [
       "{2, 4, 6, 8, 10, 12, 14, 16, 18, 20}"
      ]
     },
     "execution_count": 15,
     "metadata": {},
     "output_type": "execute_result"
    }
   ],
   "source": [
    "val"
   ]
  },
  {
   "cell_type": "code",
   "execution_count": 16,
   "id": "b2f13a22",
   "metadata": {},
   "outputs": [
    {
     "data": {
      "text/plain": [
       "set"
      ]
     },
     "execution_count": 16,
     "metadata": {},
     "output_type": "execute_result"
    }
   ],
   "source": [
    "type(val)"
   ]
  },
  {
   "cell_type": "markdown",
   "id": "796e1c9b",
   "metadata": {},
   "source": [
    "# Assignment Task 4"
   ]
  },
  {
   "cell_type": "markdown",
   "id": "5c76e511",
   "metadata": {},
   "source": [
    "4 Set CreationCreate a Python set containing the first 10 `even` numbers (2, 4, 6, ...). Write a program to `display` this set."
   ]
  },
  {
   "cell_type": "code",
   "execution_count": 17,
   "id": "c862f2b5",
   "metadata": {},
   "outputs": [],
   "source": [
    "set1 = {1,2,3,4,5,6,7,8,9,10}\n",
    "set2 = {6,7,8,9,10,}"
   ]
  },
  {
   "cell_type": "code",
   "execution_count": 18,
   "id": "b10f1798",
   "metadata": {},
   "outputs": [
    {
     "data": {
      "text/plain": [
       "{1, 2, 3, 4, 5, 6, 7, 8, 9, 10}"
      ]
     },
     "execution_count": 18,
     "metadata": {},
     "output_type": "execute_result"
    }
   ],
   "source": [
    "set1.union(set2)  #union"
   ]
  },
  {
   "cell_type": "code",
   "execution_count": 19,
   "id": "615e6be9",
   "metadata": {},
   "outputs": [
    {
     "data": {
      "text/plain": [
       "{6, 7, 8, 9, 10}"
      ]
     },
     "execution_count": 19,
     "metadata": {},
     "output_type": "execute_result"
    }
   ],
   "source": [
    "set1.intersection(set2)"
   ]
  },
  {
   "cell_type": "code",
   "execution_count": 20,
   "id": "c680488e",
   "metadata": {},
   "outputs": [
    {
     "data": {
      "text/plain": [
       "{1, 2, 3, 4, 5}"
      ]
     },
     "execution_count": 20,
     "metadata": {},
     "output_type": "execute_result"
    }
   ],
   "source": [
    "set1.difference(set2)"
   ]
  },
  {
   "cell_type": "markdown",
   "id": "759aa5fa",
   "metadata": {},
   "source": [
    "# Assignment Task 5 "
   ]
  },
  {
   "cell_type": "markdown",
   "id": "e31fce94",
   "metadata": {},
   "source": [
    "5 Tuple and Set ConversionWrite a Python program that takes a `tuple` of integers and converts it into a `set`. Then, find and print the `maximum and minimum` values from the set.\n"
   ]
  },
  {
   "cell_type": "code",
   "execution_count": 21,
   "id": "a4407a27",
   "metadata": {},
   "outputs": [],
   "source": [
    "A = (2,3,4,6,5,7,9,8,10,13,15)"
   ]
  },
  {
   "cell_type": "code",
   "execution_count": 22,
   "id": "31916767",
   "metadata": {},
   "outputs": [
    {
     "data": {
      "text/plain": [
       "tuple"
      ]
     },
     "execution_count": 22,
     "metadata": {},
     "output_type": "execute_result"
    }
   ],
   "source": [
    "type(A)"
   ]
  },
  {
   "cell_type": "code",
   "execution_count": 23,
   "id": "a51cae91",
   "metadata": {},
   "outputs": [],
   "source": [
    "val = set(A)"
   ]
  },
  {
   "cell_type": "code",
   "execution_count": 24,
   "id": "e4c1ac25",
   "metadata": {},
   "outputs": [
    {
     "data": {
      "text/plain": [
       "{2, 3, 4, 5, 6, 7, 8, 9, 10, 13, 15}"
      ]
     },
     "execution_count": 24,
     "metadata": {},
     "output_type": "execute_result"
    }
   ],
   "source": [
    "val"
   ]
  },
  {
   "cell_type": "code",
   "execution_count": 25,
   "id": "2a7fa2d9",
   "metadata": {},
   "outputs": [
    {
     "data": {
      "text/plain": [
       "set"
      ]
     },
     "execution_count": 25,
     "metadata": {},
     "output_type": "execute_result"
    }
   ],
   "source": [
    "type(val)"
   ]
  },
  {
   "cell_type": "code",
   "execution_count": 26,
   "id": "a0c78abf",
   "metadata": {},
   "outputs": [
    {
     "data": {
      "text/plain": [
       "15"
      ]
     },
     "execution_count": 26,
     "metadata": {},
     "output_type": "execute_result"
    }
   ],
   "source": [
    "max(val) #maximum value"
   ]
  },
  {
   "cell_type": "code",
   "execution_count": 28,
   "id": "c7087728",
   "metadata": {},
   "outputs": [
    {
     "data": {
      "text/plain": [
       "2"
      ]
     },
     "execution_count": 28,
     "metadata": {},
     "output_type": "execute_result"
    }
   ],
   "source": [
    "min(val)  #minimum value"
   ]
  },
  {
   "cell_type": "markdown",
   "id": "49d79e3b",
   "metadata": {},
   "source": [
    "# Assignment Task 6"
   ]
  },
  {
   "cell_type": "markdown",
   "id": "cfedfbc7",
   "metadata": {},
   "source": [
    "6 Tuple Immutability Explain the concept of immutability in Python tuples with examples. Discuss why tuples are considered immutable data structures.\n"
   ]
  },
  {
   "cell_type": "code",
   "execution_count": 29,
   "id": "1e3505a4",
   "metadata": {},
   "outputs": [],
   "source": [
    "tuple = (1,2,3,4)"
   ]
  },
  {
   "cell_type": "code",
   "execution_count": 30,
   "id": "4e31509e",
   "metadata": {},
   "outputs": [
    {
     "ename": "NameError",
     "evalue": "name 'tup' is not defined",
     "output_type": "error",
     "traceback": [
      "\u001b[1;31m---------------------------------------------------------------------------\u001b[0m",
      "\u001b[1;31mNameError\u001b[0m                                 Traceback (most recent call last)",
      "Cell \u001b[1;32mIn[30], line 1\u001b[0m\n\u001b[1;32m----> 1\u001b[0m tup\u001b[38;5;241m.\u001b[39madd(\u001b[38;5;241m5\u001b[39m)\n",
      "\u001b[1;31mNameError\u001b[0m: name 'tup' is not defined"
     ]
    }
   ],
   "source": [
    "tup.add(5)"
   ]
  },
  {
   "cell_type": "code",
   "execution_count": 31,
   "id": "107b9ec0",
   "metadata": {},
   "outputs": [
    {
     "ename": "NameError",
     "evalue": "name 'tup' is not defined",
     "output_type": "error",
     "traceback": [
      "\u001b[1;31m---------------------------------------------------------------------------\u001b[0m",
      "\u001b[1;31mNameError\u001b[0m                                 Traceback (most recent call last)",
      "Cell \u001b[1;32mIn[31], line 1\u001b[0m\n\u001b[1;32m----> 1\u001b[0m tup\u001b[38;5;241m.\u001b[39mremove(\u001b[38;5;241m4\u001b[39m)\n",
      "\u001b[1;31mNameError\u001b[0m: name 'tup' is not defined"
     ]
    }
   ],
   "source": [
    "tup.remove(4)"
   ]
  },
  {
   "cell_type": "markdown",
   "id": "4e825e30",
   "metadata": {},
   "source": [
    "# Assignment Task 7"
   ]
  },
  {
   "cell_type": "markdown",
   "id": "70cc10b9",
   "metadata": {},
   "source": [
    "7  Set Operations and MethodsWrite a Python program that takes a set of numbers and performs the following operations:\n",
    "   - Add a new number to the set.\n",
    "   - Remove a number from the set.\n",
    "   - Check if a specific number is in the set.\n",
    "   - Find the size of the set.\n"
   ]
  },
  {
   "cell_type": "code",
   "execution_count": 32,
   "id": "dde3c8ce",
   "metadata": {},
   "outputs": [],
   "source": [
    "s = {1,2,4,6,8,10,12}"
   ]
  },
  {
   "cell_type": "code",
   "execution_count": 33,
   "id": "7c71ff29",
   "metadata": {},
   "outputs": [],
   "source": [
    "s.add(5)"
   ]
  },
  {
   "cell_type": "code",
   "execution_count": 34,
   "id": "43b1308c",
   "metadata": {},
   "outputs": [
    {
     "data": {
      "text/plain": [
       "{1, 2, 4, 5, 6, 8, 10, 12}"
      ]
     },
     "execution_count": 34,
     "metadata": {},
     "output_type": "execute_result"
    }
   ],
   "source": [
    "s"
   ]
  },
  {
   "cell_type": "code",
   "execution_count": 35,
   "id": "b2cd5348",
   "metadata": {},
   "outputs": [],
   "source": [
    "s.remove(4)"
   ]
  },
  {
   "cell_type": "code",
   "execution_count": 36,
   "id": "a6d43e34",
   "metadata": {},
   "outputs": [
    {
     "data": {
      "text/plain": [
       "{1, 2, 5, 6, 8, 10, 12}"
      ]
     },
     "execution_count": 36,
     "metadata": {},
     "output_type": "execute_result"
    }
   ],
   "source": [
    "s"
   ]
  },
  {
   "cell_type": "code",
   "execution_count": 37,
   "id": "45bcae97",
   "metadata": {},
   "outputs": [
    {
     "data": {
      "text/plain": [
       "True"
      ]
     },
     "execution_count": 37,
     "metadata": {},
     "output_type": "execute_result"
    }
   ],
   "source": [
    "10 in s"
   ]
  },
  {
   "cell_type": "code",
   "execution_count": 38,
   "id": "76aac186",
   "metadata": {},
   "outputs": [
    {
     "data": {
      "text/plain": [
       "7"
      ]
     },
     "execution_count": 38,
     "metadata": {},
     "output_type": "execute_result"
    }
   ],
   "source": [
    "len(s)"
   ]
  },
  {
   "cell_type": "markdown",
   "id": "fbdfdb1a",
   "metadata": {},
   "source": [
    "# Assignment Task 8"
   ]
  },
  {
   "cell_type": "markdown",
   "id": "a8899c64",
   "metadata": {},
   "source": [
    "8 Tuple SlicingGiven a tuple of 10 elements, write a Python program to print the elements from the `3rd to the 7th `position using slicing.\n"
   ]
  },
  {
   "cell_type": "code",
   "execution_count": 39,
   "id": "236835c0",
   "metadata": {},
   "outputs": [],
   "source": [
    "tup = (1,2,3,4,5,6,7,8,9,10)"
   ]
  },
  {
   "cell_type": "code",
   "execution_count": 40,
   "id": "ced9edbf",
   "metadata": {},
   "outputs": [
    {
     "data": {
      "text/plain": [
       "(4, 5, 6, 7, 8)"
      ]
     },
     "execution_count": 40,
     "metadata": {},
     "output_type": "execute_result"
    }
   ],
   "source": [
    "tup[3:8]"
   ]
  },
  {
   "cell_type": "markdown",
   "id": "dd5a2535",
   "metadata": {},
   "source": [
    "# Assignment Task 9"
   ]
  },
  {
   "cell_type": "markdown",
   "id": "580f8d17",
   "metadata": {},
   "source": [
    "9 Set Operations with ListsCreate a Python list with duplicate elements and convert it into a set to remove duplicates. Then, write a program to count how many duplicates were removed.\n"
   ]
  },
  {
   "cell_type": "code",
   "execution_count": 41,
   "id": "2831327e",
   "metadata": {},
   "outputs": [],
   "source": [
    "list1 = [1,2,3,3,4,4,5,5,6,6]"
   ]
  },
  {
   "cell_type": "code",
   "execution_count": 42,
   "id": "527c8780",
   "metadata": {},
   "outputs": [],
   "source": [
    "B = set(list1)"
   ]
  },
  {
   "cell_type": "code",
   "execution_count": 43,
   "id": "780ae749",
   "metadata": {},
   "outputs": [
    {
     "data": {
      "text/plain": [
       "{1, 2, 3, 4, 5, 6}"
      ]
     },
     "execution_count": 43,
     "metadata": {},
     "output_type": "execute_result"
    }
   ],
   "source": [
    "B"
   ]
  },
  {
   "cell_type": "code",
   "execution_count": 44,
   "id": "dff600c3",
   "metadata": {},
   "outputs": [],
   "source": [
    "duplicates = len(list1)-len(B)"
   ]
  },
  {
   "cell_type": "code",
   "execution_count": 45,
   "id": "076d0193",
   "metadata": {},
   "outputs": [
    {
     "data": {
      "text/plain": [
       "4"
      ]
     },
     "execution_count": 45,
     "metadata": {},
     "output_type": "execute_result"
    }
   ],
   "source": [
    "duplicates"
   ]
  },
  {
   "cell_type": "markdown",
   "id": "1b6b8037",
   "metadata": {},
   "source": [
    "# Assignment Task 10"
   ]
  },
  {
   "cell_type": "markdown",
   "id": "23a1f847",
   "metadata": {},
   "source": [
    "10 Tuple and Set Combinations Create a `tuple` containing the names of your friend's favorite movies and a `set` containing the names of your favorite movies. Write a Python program to find and display common elements (movies that feature your "
   ]
  },
  {
   "cell_type": "code",
   "execution_count": 89,
   "id": "0b3545aa",
   "metadata": {},
   "outputs": [],
   "source": [
    "friends_favorite = (\"Sye\",\"Legend\",\"Darling\",\"kushi\",\"Bro\")\n"
   ]
  },
  {
   "cell_type": "code",
   "execution_count": 90,
   "id": "4acbd93c",
   "metadata": {},
   "outputs": [],
   "source": [
    "my_favs = {\"Yogi\",\"Darling\",\"Arjun Reddy\",\"Sitaramam\",\"sye\"}"
   ]
  },
  {
   "cell_type": "code",
   "execution_count": 91,
   "id": "44425e7a",
   "metadata": {},
   "outputs": [],
   "source": [
    "common = set(friends_favorite).intersection(my_favs)"
   ]
  },
  {
   "cell_type": "code",
   "execution_count": 92,
   "id": "3b5906ea",
   "metadata": {},
   "outputs": [
    {
     "data": {
      "text/plain": [
       "{'Darling'}"
      ]
     },
     "execution_count": 92,
     "metadata": {},
     "output_type": "execute_result"
    }
   ],
   "source": [
    "common "
   ]
  },
  {
   "cell_type": "code",
   "execution_count": null,
   "id": "7c614753",
   "metadata": {},
   "outputs": [],
   "source": []
  }
 ],
 "metadata": {
  "kernelspec": {
   "display_name": "Python 3 (ipykernel)",
   "language": "python",
   "name": "python3"
  },
  "language_info": {
   "codemirror_mode": {
    "name": "ipython",
    "version": 3
   },
   "file_extension": ".py",
   "mimetype": "text/x-python",
   "name": "python",
   "nbconvert_exporter": "python",
   "pygments_lexer": "ipython3",
   "version": "3.11.4"
  }
 },
 "nbformat": 4,
 "nbformat_minor": 5
}
