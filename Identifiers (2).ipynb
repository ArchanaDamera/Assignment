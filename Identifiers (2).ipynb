{
 "cells": [
  {
   "cell_type": "markdown",
   "id": "6d2dfc2d",
   "metadata": {},
   "source": [
    "# Check the valid Identifiers and invalid identifers using Python"
   ]
  },
  {
   "cell_type": "markdown",
   "id": "aebe5a40",
   "metadata": {},
   "source": [
    "1. **Run all the identifiers and seprate valid and Invalid Identifiers?**\n",
    "\n",
    "2. **Why Python treating them as invalid Identifers.Explain?**"
   ]
  },
  {
   "cell_type": "markdown",
   "id": "77c112d3",
   "metadata": {},
   "source": [
    "* my_variable = 25\n",
    "valid  \n",
    "           Note: Because it is integer. \n",
    "\n",
    "* counter = 40.7\n",
    "\n",
    "valid\n",
    "\n",
    "* _total = \"Hello\"\n",
    "\n",
    "valid \n",
    "\n",
    " - 123abc   = 34 \n",
    "   \n",
    "**invalid\n",
    "             Note : Because its  starting  with numbers\n",
    "   \n",
    " - my variable   =6.7\n",
    " \n",
    "**invalid \n",
    "             Note : Because of space       \n",
    "       \n",
    "         \n",
    " - @count  = \"hi\" \n",
    " \n",
    "**invalid  \n",
    "            Note : Because its starting with speacial character\n",
    "   \n",
    "   \n",
    " - for   = \"True\"\n",
    " \n",
    "**invalid\n",
    "               Note : Because its a keyword \n",
    "\n",
    "* Name123 = 136\n",
    "\n",
    "Valid\n",
    "  \n",
    "* myFunction = True\n",
    "  \n",
    "valid\n",
    " \n",
    "* _data = False\n",
    "\n",
    "valid\n",
    " \n",
    "- if_condition? = \"Innomatics\"\n",
    "\n",
    "**invalid \n",
    "          Note :Because its starting with keyword and it is having speacial character \n",
    "  \n",
    "- class = \"Hyderaba\"\n",
    "**invalid\n",
    "          Note: Because its a keyword"
   ]
  },
  {
   "cell_type": "markdown",
   "id": "35c32a6f",
   "metadata": {},
   "source": [
    "### Use different identifiers and assign the below values"
   ]
  },
  {
   "cell_type": "code",
   "execution_count": null,
   "id": "37f1ad62",
   "metadata": {},
   "outputs": [],
   "source": [
    "1o\n",
    "\n",
    "-5\n",
    "\n",
    "3.14159\n",
    "\n",
    "-0.12345\n",
    "\n",
    "1000\n",
    "\n",
    "\"Hello, World!\"\n",
    "\n",
    "\"Python\"\n",
    "\n",
    "\"I am learning\"\n",
    "\n",
    "\"Text type\"\n",
    "\n",
    "\"String\"\n",
    "\n",
    "True\n",
    "\n",
    "False\n",
    "\n",
    "True\n",
    "\n",
    "False\n",
    "\n",
    "True\n",
    "\n"
   ]
  },
  {
   "cell_type": "code",
   "execution_count": 120,
   "id": "7c22fe91",
   "metadata": {},
   "outputs": [
    {
     "name": "stdout",
     "output_type": "stream",
     "text": [
      "10\n"
     ]
    }
   ],
   "source": [
    "num = 10\n",
    "print(num)"
   ]
  },
  {
   "cell_type": "code",
   "execution_count": 43,
   "id": "264c5f4a",
   "metadata": {},
   "outputs": [
    {
     "data": {
      "text/plain": [
       "4"
      ]
     },
     "execution_count": 43,
     "metadata": {},
     "output_type": "execute_result"
    }
   ],
   "source": [
    "~-5 "
   ]
  },
  {
   "cell_type": "code",
   "execution_count": 51,
   "id": "2cfda803",
   "metadata": {},
   "outputs": [
    {
     "name": "stdout",
     "output_type": "stream",
     "text": [
      "3.14159\n"
     ]
    }
   ],
   "source": [
    "a = 3.14159\n",
    "print(a)\n"
   ]
  },
  {
   "cell_type": "code",
   "execution_count": 86,
   "id": "315c4e55",
   "metadata": {},
   "outputs": [
    {
     "name": "stdout",
     "output_type": "stream",
     "text": [
      "-0.12345\n"
     ]
    }
   ],
   "source": [
    "x = -0.12345\n",
    "print(x)\n"
   ]
  },
  {
   "cell_type": "code",
   "execution_count": 87,
   "id": "0447c7dc",
   "metadata": {},
   "outputs": [
    {
     "name": "stdout",
     "output_type": "stream",
     "text": [
      "1000\n"
     ]
    }
   ],
   "source": [
    "a = 1000 \n",
    "print(a)"
   ]
  },
  {
   "cell_type": "code",
   "execution_count": 119,
   "id": "1d29af60",
   "metadata": {},
   "outputs": [
    {
     "data": {
      "text/plain": [
       "'Hello, World!'"
      ]
     },
     "execution_count": 119,
     "metadata": {},
     "output_type": "execute_result"
    }
   ],
   "source": [
    "a = \"Hello,\"\n",
    "b = \" World!\"\n",
    "a + b"
   ]
  },
  {
   "cell_type": "code",
   "execution_count": 113,
   "id": "f1d887cf",
   "metadata": {},
   "outputs": [
    {
     "name": "stdout",
     "output_type": "stream",
     "text": [
      "python\n"
     ]
    }
   ],
   "source": [
    "course =\"python\"\n",
    "print(course)"
   ]
  },
  {
   "cell_type": "code",
   "execution_count": 100,
   "id": "94353467",
   "metadata": {},
   "outputs": [
    {
     "name": "stdout",
     "output_type": "stream",
     "text": [
      "I am learning\n"
     ]
    }
   ],
   "source": [
    "python =\"I am learning\"\n",
    "print(python)"
   ]
  },
  {
   "cell_type": "code",
   "execution_count": 96,
   "id": "b9e68998",
   "metadata": {},
   "outputs": [
    {
     "name": "stdout",
     "output_type": "stream",
     "text": [
      "Text type\n"
     ]
    }
   ],
   "source": [
    "text = \"Text type\"\n",
    "print(text)\n"
   ]
  },
  {
   "cell_type": "code",
   "execution_count": 92,
   "id": "0f5c06a8",
   "metadata": {},
   "outputs": [
    {
     "name": "stdout",
     "output_type": "stream",
     "text": [
      "String\n"
     ]
    }
   ],
   "source": [
    "a =\"String\"\n",
    "print(a)\n"
   ]
  },
  {
   "cell_type": "code",
   "execution_count": 101,
   "id": "92370993",
   "metadata": {},
   "outputs": [
    {
     "name": "stdout",
     "output_type": "stream",
     "text": [
      "True\n"
     ]
    }
   ],
   "source": [
    "bool = True\n",
    "print(bool)"
   ]
  },
  {
   "cell_type": "code",
   "execution_count": 104,
   "id": "72eaed59",
   "metadata": {},
   "outputs": [
    {
     "name": "stdout",
     "output_type": "stream",
     "text": [
      "False\n"
     ]
    }
   ],
   "source": [
    "false = False\n",
    "print(false)"
   ]
  },
  {
   "cell_type": "code",
   "execution_count": 105,
   "id": "75797bcf",
   "metadata": {},
   "outputs": [
    {
     "name": "stdout",
     "output_type": "stream",
     "text": [
      "True\n"
     ]
    }
   ],
   "source": [
    "z = True\n",
    "print(z)"
   ]
  },
  {
   "cell_type": "code",
   "execution_count": 109,
   "id": "684aec25",
   "metadata": {},
   "outputs": [
    {
     "name": "stdout",
     "output_type": "stream",
     "text": [
      "False\n"
     ]
    }
   ],
   "source": [
    "z_2 = False\n",
    "print(z_2)"
   ]
  },
  {
   "cell_type": "code",
   "execution_count": 111,
   "id": "2bbeabfd",
   "metadata": {},
   "outputs": [
    {
     "name": "stdout",
     "output_type": "stream",
     "text": [
      "True\n"
     ]
    }
   ],
   "source": [
    "_ishu = True\n",
    "print(_ishu)"
   ]
  },
  {
   "cell_type": "code",
   "execution_count": null,
   "id": "a7d0e069",
   "metadata": {},
   "outputs": [],
   "source": []
  }
 ],
 "metadata": {
  "kernelspec": {
   "display_name": "Python 3 (ipykernel)",
   "language": "python",
   "name": "python3"
  },
  "language_info": {
   "codemirror_mode": {
    "name": "ipython",
    "version": 3
   },
   "file_extension": ".py",
   "mimetype": "text/x-python",
   "name": "python",
   "nbconvert_exporter": "python",
   "pygments_lexer": "ipython3",
   "version": "3.11.4"
  }
 },
 "nbformat": 4,
 "nbformat_minor": 5
}
