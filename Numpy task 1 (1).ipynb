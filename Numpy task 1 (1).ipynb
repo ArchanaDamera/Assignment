{
 "cells": [
  {
   "cell_type": "code",
   "execution_count": 4,
   "id": "f75b840c",
   "metadata": {},
   "outputs": [],
   "source": [
    "import numpy as np"
   ]
  },
  {
   "cell_type": "markdown",
   "id": "756b4d5e",
   "metadata": {},
   "source": [
    "# creating an array"
   ]
  },
  {
   "cell_type": "code",
   "execution_count": 5,
   "id": "f390f647",
   "metadata": {},
   "outputs": [
    {
     "data": {
      "text/plain": [
       "array([10, 12, 15, 24, 59, 78, 64, 12,  8, 91, 10])"
      ]
     },
     "execution_count": 5,
     "metadata": {},
     "output_type": "execute_result"
    }
   ],
   "source": [
    "arr = np.array([10,12,15,24,59,78,64,12,8,91,10])\n",
    "arr"
   ]
  },
  {
   "cell_type": "code",
   "execution_count": 6,
   "id": "ebe0d35a",
   "metadata": {},
   "outputs": [],
   "source": [
    "arr1 = [1,2,12,15,17,22]"
   ]
  },
  {
   "cell_type": "code",
   "execution_count": 7,
   "id": "5e4237c4",
   "metadata": {},
   "outputs": [
    {
     "data": {
      "text/plain": [
       "array([ 1,  2, 12, 15, 17, 22])"
      ]
     },
     "execution_count": 7,
     "metadata": {},
     "output_type": "execute_result"
    }
   ],
   "source": [
    "n = np.array(arr1)\n",
    "n"
   ]
  },
  {
   "cell_type": "code",
   "execution_count": 8,
   "id": "5ac320f7",
   "metadata": {},
   "outputs": [
    {
     "data": {
      "text/plain": [
       "array([66, 12,  6,  8,  9, 23, 30])"
      ]
     },
     "execution_count": 8,
     "metadata": {},
     "output_type": "execute_result"
    }
   ],
   "source": [
    "tup = (66,12,6,8,9,23,30)          \n",
    "arr2 = np.array(tup)\n",
    "arr2"
   ]
  },
  {
   "cell_type": "code",
   "execution_count": 9,
   "id": "c941ab71",
   "metadata": {},
   "outputs": [
    {
     "data": {
      "text/plain": [
       "array([0., 0., 0., 0., 0., 0., 0., 0.])"
      ]
     },
     "execution_count": 9,
     "metadata": {},
     "output_type": "execute_result"
    }
   ],
   "source": [
    "np.zeros(8)"
   ]
  },
  {
   "cell_type": "code",
   "execution_count": 10,
   "id": "de96f156",
   "metadata": {},
   "outputs": [
    {
     "data": {
      "text/plain": [
       "array([1., 1., 1., 1., 1., 1., 1., 1., 1., 1., 1., 1., 1., 1., 1., 1., 1.,\n",
       "       1., 1., 1., 1., 1., 1.])"
      ]
     },
     "execution_count": 10,
     "metadata": {},
     "output_type": "execute_result"
    }
   ],
   "source": [
    "np.ones(23)"
   ]
  },
  {
   "cell_type": "code",
   "execution_count": 11,
   "id": "eac58bca",
   "metadata": {},
   "outputs": [
    {
     "data": {
      "text/plain": [
       "array([ 1,  2,  3,  4,  5,  6,  7,  8,  9, 10, 11, 12, 13, 14, 15, 16, 17,\n",
       "       18, 19, 20, 21, 22])"
      ]
     },
     "execution_count": 11,
     "metadata": {},
     "output_type": "execute_result"
    }
   ],
   "source": [
    "np.arange(1,23)"
   ]
  },
  {
   "cell_type": "code",
   "execution_count": 12,
   "id": "8ee4c89c",
   "metadata": {},
   "outputs": [
    {
     "data": {
      "text/plain": [
       "array([ 0.        ,  4.44444444,  8.88888889, 13.33333333, 17.77777778,\n",
       "       22.22222222, 26.66666667, 31.11111111, 35.55555556, 40.        ])"
      ]
     },
     "execution_count": 12,
     "metadata": {},
     "output_type": "execute_result"
    }
   ],
   "source": [
    "np.linspace(0,40,10)"
   ]
  },
  {
   "cell_type": "markdown",
   "id": "dc87c58d",
   "metadata": {},
   "source": [
    "# 2. Create a 1D NumPy array containing the first 12 positive integer as arr1"
   ]
  },
  {
   "cell_type": "code",
   "execution_count": 13,
   "id": "f543f90b",
   "metadata": {},
   "outputs": [
    {
     "data": {
      "text/plain": [
       "array([ 1,  2,  3,  4,  5,  6,  7,  8,  9, 10, 11, 12])"
      ]
     },
     "execution_count": 13,
     "metadata": {},
     "output_type": "execute_result"
    }
   ],
   "source": [
    "arr1 = np.array(range(1,13))\n",
    "arr1"
   ]
  },
  {
   "cell_type": "markdown",
   "id": "b59ed7d4",
   "metadata": {},
   "source": [
    "# Create an array containing 20 elements from 0 to 12 using linspace"
   ]
  },
  {
   "cell_type": "code",
   "execution_count": 98,
   "id": "2712dd9e",
   "metadata": {},
   "outputs": [
    {
     "data": {
      "text/plain": [
       "array([ 0.        ,  0.63157895,  1.26315789,  1.89473684,  2.52631579,\n",
       "        3.15789474,  3.78947368,  4.42105263,  5.05263158,  5.68421053,\n",
       "        6.31578947,  6.94736842,  7.57894737,  8.21052632,  8.84210526,\n",
       "        9.47368421, 10.10526316, 10.73684211, 11.36842105, 12.        ])"
      ]
     },
     "execution_count": 98,
     "metadata": {},
     "output_type": "execute_result"
    }
   ],
   "source": [
    "array2 = np.linspace(0,12,20)\n",
    "array2"
   ]
  },
  {
   "cell_type": "markdown",
   "id": "833fd69b",
   "metadata": {},
   "source": [
    "# Find all the attributes of array1 and array2"
   ]
  },
  {
   "cell_type": "markdown",
   "id": "d99fd622",
   "metadata": {},
   "source": [
    "# array 1"
   ]
  },
  {
   "cell_type": "code",
   "execution_count": 15,
   "id": "ed00616b",
   "metadata": {},
   "outputs": [
    {
     "data": {
      "text/plain": [
       "dtype('int32')"
      ]
     },
     "execution_count": 15,
     "metadata": {},
     "output_type": "execute_result"
    }
   ],
   "source": [
    "arr1.dtype"
   ]
  },
  {
   "cell_type": "code",
   "execution_count": 16,
   "id": "92d73e84",
   "metadata": {},
   "outputs": [
    {
     "data": {
      "text/plain": [
       "48"
      ]
     },
     "execution_count": 16,
     "metadata": {},
     "output_type": "execute_result"
    }
   ],
   "source": [
    "arr1.nbytes"
   ]
  },
  {
   "cell_type": "code",
   "execution_count": 17,
   "id": "f6ba9564",
   "metadata": {},
   "outputs": [
    {
     "data": {
      "text/plain": [
       "1"
      ]
     },
     "execution_count": 17,
     "metadata": {},
     "output_type": "execute_result"
    }
   ],
   "source": [
    "arr1.ndim"
   ]
  },
  {
   "cell_type": "code",
   "execution_count": 18,
   "id": "ef252c1d",
   "metadata": {},
   "outputs": [
    {
     "data": {
      "text/plain": [
       "1"
      ]
     },
     "execution_count": 18,
     "metadata": {},
     "output_type": "execute_result"
    }
   ],
   "source": [
    "arr1.min()"
   ]
  },
  {
   "cell_type": "code",
   "execution_count": 19,
   "id": "9a235eb3",
   "metadata": {},
   "outputs": [
    {
     "data": {
      "text/plain": [
       "12"
      ]
     },
     "execution_count": 19,
     "metadata": {},
     "output_type": "execute_result"
    }
   ],
   "source": [
    "arr1.max()"
   ]
  },
  {
   "cell_type": "code",
   "execution_count": 28,
   "id": "236576d0",
   "metadata": {},
   "outputs": [
    {
     "data": {
      "text/plain": [
       "4"
      ]
     },
     "execution_count": 28,
     "metadata": {},
     "output_type": "execute_result"
    }
   ],
   "source": [
    "arr1.itemsize"
   ]
  },
  {
   "cell_type": "code",
   "execution_count": 33,
   "id": "774ab3ab",
   "metadata": {},
   "outputs": [
    {
     "data": {
      "text/plain": [
       "12"
      ]
     },
     "execution_count": 33,
     "metadata": {},
     "output_type": "execute_result"
    }
   ],
   "source": [
    "arr1.size"
   ]
  },
  {
   "cell_type": "markdown",
   "id": "a501f0c7",
   "metadata": {},
   "source": [
    "# array 2"
   ]
  },
  {
   "cell_type": "code",
   "execution_count": 20,
   "id": "41b72c00",
   "metadata": {},
   "outputs": [
    {
     "data": {
      "text/plain": [
       "dtype('float64')"
      ]
     },
     "execution_count": 20,
     "metadata": {},
     "output_type": "execute_result"
    }
   ],
   "source": [
    "array2.dtype"
   ]
  },
  {
   "cell_type": "code",
   "execution_count": 21,
   "id": "3f3f6cbc",
   "metadata": {},
   "outputs": [
    {
     "data": {
      "text/plain": [
       "160"
      ]
     },
     "execution_count": 21,
     "metadata": {},
     "output_type": "execute_result"
    }
   ],
   "source": [
    "array2.nbytes"
   ]
  },
  {
   "cell_type": "code",
   "execution_count": 22,
   "id": "363fe95f",
   "metadata": {},
   "outputs": [
    {
     "data": {
      "text/plain": [
       "1"
      ]
     },
     "execution_count": 22,
     "metadata": {},
     "output_type": "execute_result"
    }
   ],
   "source": [
    "array2.ndim"
   ]
  },
  {
   "cell_type": "code",
   "execution_count": 23,
   "id": "f9d1278b",
   "metadata": {},
   "outputs": [
    {
     "data": {
      "text/plain": [
       "12.0"
      ]
     },
     "execution_count": 23,
     "metadata": {},
     "output_type": "execute_result"
    }
   ],
   "source": [
    "array2.max()"
   ]
  },
  {
   "cell_type": "code",
   "execution_count": 24,
   "id": "746eeddd",
   "metadata": {},
   "outputs": [
    {
     "data": {
      "text/plain": [
       "0.0"
      ]
     },
     "execution_count": 24,
     "metadata": {},
     "output_type": "execute_result"
    }
   ],
   "source": [
    "array2.min()"
   ]
  },
  {
   "cell_type": "code",
   "execution_count": 31,
   "id": "5ef3344e",
   "metadata": {},
   "outputs": [
    {
     "data": {
      "text/plain": [
       "8"
      ]
     },
     "execution_count": 31,
     "metadata": {},
     "output_type": "execute_result"
    }
   ],
   "source": [
    "array2.itemsize"
   ]
  },
  {
   "cell_type": "code",
   "execution_count": 32,
   "id": "7dc6f0c5",
   "metadata": {},
   "outputs": [
    {
     "data": {
      "text/plain": [
       "20"
      ]
     },
     "execution_count": 32,
     "metadata": {},
     "output_type": "execute_result"
    }
   ],
   "source": [
    "array2.size"
   ]
  },
  {
   "cell_type": "markdown",
   "id": "75599119",
   "metadata": {},
   "source": [
    "# Apply measure and describe the data (attributes and descriptive statistics) to above arrays"
   ]
  },
  {
   "cell_type": "code",
   "execution_count": 34,
   "id": "32dda026",
   "metadata": {},
   "outputs": [
    {
     "data": {
      "text/plain": [
       "array([ 1,  2,  3,  4,  5,  6,  7,  8,  9, 10, 11, 12])"
      ]
     },
     "execution_count": 34,
     "metadata": {},
     "output_type": "execute_result"
    }
   ],
   "source": [
    "arr1"
   ]
  },
  {
   "cell_type": "markdown",
   "id": "1b0d3c26",
   "metadata": {},
   "source": [
    "# measure of tendency of arr1"
   ]
  },
  {
   "cell_type": "code",
   "execution_count": 37,
   "id": "f87467ce",
   "metadata": {},
   "outputs": [
    {
     "data": {
      "text/plain": [
       "6.5"
      ]
     },
     "execution_count": 37,
     "metadata": {},
     "output_type": "execute_result"
    }
   ],
   "source": [
    "np.mean(arr1)"
   ]
  },
  {
   "cell_type": "code",
   "execution_count": 39,
   "id": "b43afad3",
   "metadata": {},
   "outputs": [
    {
     "data": {
      "text/plain": [
       "6.5"
      ]
     },
     "execution_count": 39,
     "metadata": {},
     "output_type": "execute_result"
    }
   ],
   "source": [
    "np.median(arr1)"
   ]
  },
  {
   "cell_type": "markdown",
   "id": "156b5336",
   "metadata": {},
   "source": [
    "# measure of spread of arr1"
   ]
  },
  {
   "cell_type": "code",
   "execution_count": 44,
   "id": "bed48d72",
   "metadata": {},
   "outputs": [
    {
     "data": {
      "text/plain": [
       "12"
      ]
     },
     "execution_count": 44,
     "metadata": {},
     "output_type": "execute_result"
    }
   ],
   "source": [
    "#range\n",
    "np.max(arr1)"
   ]
  },
  {
   "cell_type": "code",
   "execution_count": 45,
   "id": "7dd2848b",
   "metadata": {},
   "outputs": [
    {
     "data": {
      "text/plain": [
       "1"
      ]
     },
     "execution_count": 45,
     "metadata": {},
     "output_type": "execute_result"
    }
   ],
   "source": [
    "np.min(arr1)\n"
   ]
  },
  {
   "cell_type": "code",
   "execution_count": 46,
   "id": "535c5347",
   "metadata": {},
   "outputs": [
    {
     "data": {
      "text/plain": [
       "11"
      ]
     },
     "execution_count": 46,
     "metadata": {},
     "output_type": "execute_result"
    }
   ],
   "source": [
    "range = np.max(arr1) - np.min(arr1)\n",
    "range"
   ]
  },
  {
   "cell_type": "code",
   "execution_count": 47,
   "id": "87e236fb",
   "metadata": {},
   "outputs": [
    {
     "data": {
      "text/plain": [
       "11.916666666666666"
      ]
     },
     "execution_count": 47,
     "metadata": {},
     "output_type": "execute_result"
    }
   ],
   "source": [
    "# variance\n",
    "np.var(arr1)"
   ]
  },
  {
   "cell_type": "code",
   "execution_count": 48,
   "id": "ea785090",
   "metadata": {},
   "outputs": [
    {
     "data": {
      "text/plain": [
       "3.452052529534663"
      ]
     },
     "execution_count": 48,
     "metadata": {},
     "output_type": "execute_result"
    }
   ],
   "source": [
    "# standard deviation\n",
    "np.std(arr1)"
   ]
  },
  {
   "cell_type": "markdown",
   "id": "39bbed78",
   "metadata": {},
   "source": [
    "# IQR for arr1"
   ]
  },
  {
   "cell_type": "code",
   "execution_count": 49,
   "id": "8261ff6b",
   "metadata": {},
   "outputs": [
    {
     "data": {
      "text/plain": [
       "array([ 1,  2,  3,  4,  5,  6,  7,  8,  9, 10, 11, 12])"
      ]
     },
     "execution_count": 49,
     "metadata": {},
     "output_type": "execute_result"
    }
   ],
   "source": [
    "arr1"
   ]
  },
  {
   "cell_type": "code",
   "execution_count": 50,
   "id": "31713ac9",
   "metadata": {},
   "outputs": [
    {
     "data": {
      "text/plain": [
       "3.75"
      ]
     },
     "execution_count": 50,
     "metadata": {},
     "output_type": "execute_result"
    }
   ],
   "source": [
    "q1 = np.percentile(arr1,25)\n",
    "q1"
   ]
  },
  {
   "cell_type": "code",
   "execution_count": 52,
   "id": "b3cf3e22",
   "metadata": {},
   "outputs": [
    {
     "data": {
      "text/plain": [
       "6.5"
      ]
     },
     "execution_count": 52,
     "metadata": {},
     "output_type": "execute_result"
    }
   ],
   "source": [
    "q2 = np.percentile(arr1,50)\n",
    "q2"
   ]
  },
  {
   "cell_type": "code",
   "execution_count": 53,
   "id": "0a21861e",
   "metadata": {},
   "outputs": [
    {
     "data": {
      "text/plain": [
       "9.25"
      ]
     },
     "execution_count": 53,
     "metadata": {},
     "output_type": "execute_result"
    }
   ],
   "source": [
    "q3 = np.percentile(arr1,75)\n",
    "q3"
   ]
  },
  {
   "cell_type": "code",
   "execution_count": 54,
   "id": "3a0d8793",
   "metadata": {},
   "outputs": [
    {
     "data": {
      "text/plain": [
       "5.5"
      ]
     },
     "execution_count": 54,
     "metadata": {},
     "output_type": "execute_result"
    }
   ],
   "source": [
    "IQR = q3 - q1\n",
    "IQR"
   ]
  },
  {
   "cell_type": "code",
   "execution_count": 55,
   "id": "e21fdef1",
   "metadata": {},
   "outputs": [
    {
     "data": {
      "text/plain": [
       "-4.5"
      ]
     },
     "execution_count": 55,
     "metadata": {},
     "output_type": "execute_result"
    }
   ],
   "source": [
    "lower_limit = q1 - (1.5 * IQR)\n",
    "lower_limit"
   ]
  },
  {
   "cell_type": "code",
   "execution_count": 56,
   "id": "de0d42a4",
   "metadata": {},
   "outputs": [
    {
     "data": {
      "text/plain": [
       "17.5"
      ]
     },
     "execution_count": 56,
     "metadata": {},
     "output_type": "execute_result"
    }
   ],
   "source": [
    "upper_limit = q3 + (1.5 * IQR)\n",
    "upper_limit\n"
   ]
  },
  {
   "cell_type": "markdown",
   "id": "949a9e6e",
   "metadata": {},
   "source": [
    "# measure of central tendency of array2\n"
   ]
  },
  {
   "cell_type": "code",
   "execution_count": 57,
   "id": "e8f723ea",
   "metadata": {},
   "outputs": [
    {
     "data": {
      "text/plain": [
       "5.999999999999999"
      ]
     },
     "execution_count": 57,
     "metadata": {},
     "output_type": "execute_result"
    }
   ],
   "source": [
    "np.mean(array2)"
   ]
  },
  {
   "cell_type": "code",
   "execution_count": 58,
   "id": "809f89a3",
   "metadata": {},
   "outputs": [
    {
     "data": {
      "text/plain": [
       "6.0"
      ]
     },
     "execution_count": 58,
     "metadata": {},
     "output_type": "execute_result"
    }
   ],
   "source": [
    "np.median(array2)"
   ]
  },
  {
   "cell_type": "markdown",
   "id": "db4778f8",
   "metadata": {},
   "source": [
    "# measure of spread for array2"
   ]
  },
  {
   "cell_type": "code",
   "execution_count": 59,
   "id": "44534845",
   "metadata": {},
   "outputs": [
    {
     "data": {
      "text/plain": [
       "12.0"
      ]
     },
     "execution_count": 59,
     "metadata": {},
     "output_type": "execute_result"
    }
   ],
   "source": [
    "# range\n",
    "np.max(array2)\n"
   ]
  },
  {
   "cell_type": "code",
   "execution_count": 60,
   "id": "6a7624ed",
   "metadata": {},
   "outputs": [
    {
     "data": {
      "text/plain": [
       "0.0"
      ]
     },
     "execution_count": 60,
     "metadata": {},
     "output_type": "execute_result"
    }
   ],
   "source": [
    "np.min(array2)"
   ]
  },
  {
   "cell_type": "code",
   "execution_count": 61,
   "id": "e6218acd",
   "metadata": {},
   "outputs": [
    {
     "data": {
      "text/plain": [
       "12.0"
      ]
     },
     "execution_count": 61,
     "metadata": {},
     "output_type": "execute_result"
    }
   ],
   "source": [
    "range = np.max(array2) - np.min(array2)\n",
    "range"
   ]
  },
  {
   "cell_type": "code",
   "execution_count": 62,
   "id": "d84ac11b",
   "metadata": {},
   "outputs": [
    {
     "data": {
      "text/plain": [
       "13.26315789473684"
      ]
     },
     "execution_count": 62,
     "metadata": {},
     "output_type": "execute_result"
    }
   ],
   "source": [
    "### variance\n",
    "np.var(array2)"
   ]
  },
  {
   "cell_type": "code",
   "execution_count": 63,
   "id": "58cd883d",
   "metadata": {},
   "outputs": [
    {
     "data": {
      "text/plain": [
       "3.6418618720013036"
      ]
     },
     "execution_count": 63,
     "metadata": {},
     "output_type": "execute_result"
    }
   ],
   "source": [
    "### standard deviation\n",
    "np.std(array2)"
   ]
  },
  {
   "cell_type": "markdown",
   "id": "4be060cd",
   "metadata": {},
   "source": [
    "# IQR for array2"
   ]
  },
  {
   "cell_type": "code",
   "execution_count": 66,
   "id": "8bc9b611",
   "metadata": {},
   "outputs": [
    {
     "data": {
      "text/plain": [
       "3.0"
      ]
     },
     "execution_count": 66,
     "metadata": {},
     "output_type": "execute_result"
    }
   ],
   "source": [
    "q1 = np.percentile(array2,25)\n",
    "q1"
   ]
  },
  {
   "cell_type": "code",
   "execution_count": 67,
   "id": "6747f03d",
   "metadata": {},
   "outputs": [
    {
     "data": {
      "text/plain": [
       "6.0"
      ]
     },
     "execution_count": 67,
     "metadata": {},
     "output_type": "execute_result"
    }
   ],
   "source": [
    "q2 = np.percentile(array2,50)\n",
    "q2"
   ]
  },
  {
   "cell_type": "code",
   "execution_count": 71,
   "id": "d9d9af1b",
   "metadata": {},
   "outputs": [
    {
     "data": {
      "text/plain": [
       "9.0"
      ]
     },
     "execution_count": 71,
     "metadata": {},
     "output_type": "execute_result"
    }
   ],
   "source": [
    "q3= np.percentile(array2,75)\n",
    "q3"
   ]
  },
  {
   "cell_type": "code",
   "execution_count": 74,
   "id": "c8a12e85",
   "metadata": {},
   "outputs": [
    {
     "data": {
      "text/plain": [
       "6.0"
      ]
     },
     "execution_count": 74,
     "metadata": {},
     "output_type": "execute_result"
    }
   ],
   "source": [
    "IQR = q3 - q1\n",
    "IQR"
   ]
  },
  {
   "cell_type": "code",
   "execution_count": 75,
   "id": "97344002",
   "metadata": {},
   "outputs": [
    {
     "data": {
      "text/plain": [
       "-6.0"
      ]
     },
     "execution_count": 75,
     "metadata": {},
     "output_type": "execute_result"
    }
   ],
   "source": [
    "lower_limit = q1 - (1.5 * IQR)\n",
    "lower_limit"
   ]
  },
  {
   "cell_type": "code",
   "execution_count": 76,
   "id": "d5314ae7",
   "metadata": {},
   "outputs": [
    {
     "data": {
      "text/plain": [
       "18.0"
      ]
     },
     "execution_count": 76,
     "metadata": {},
     "output_type": "execute_result"
    }
   ],
   "source": [
    "upper_limit = q3 + (1.5 * IQR)\n",
    "upper_limit"
   ]
  },
  {
   "cell_type": "code",
   "execution_count": null,
   "id": "b4641793",
   "metadata": {},
   "outputs": [],
   "source": []
  }
 ],
 "metadata": {
  "kernelspec": {
   "display_name": "Python 3 (ipykernel)",
   "language": "python",
   "name": "python3"
  },
  "language_info": {
   "codemirror_mode": {
    "name": "ipython",
    "version": 3
   },
   "file_extension": ".py",
   "mimetype": "text/x-python",
   "name": "python",
   "nbconvert_exporter": "python",
   "pygments_lexer": "ipython3",
   "version": "3.11.4"
  }
 },
 "nbformat": 4,
 "nbformat_minor": 5
}
