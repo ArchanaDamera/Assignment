{
 "cells": [
  {
   "cell_type": "markdown",
   "id": "d88f2bd2",
   "metadata": {},
   "source": [
    "\n",
    "**Task 1: Basic If-Else Statements**\n",
    "Write a Python program that takes an `integer as input` from the user and prints whether it is `multiple of 3 or not` using if-else statements.\n",
    "\n",
    "**Task 2: Nested If Statements**\n",
    "Create a program that `asks the user` for their `age` and `nationality`. Depending on their age and nationality, display a different message using nested if statements. For example, if they are under 18 and from the USA, display `\"You are a minor from the USA.\"`\n",
    "\n",
    "**Task 3: Grade Calculator**\n",
    "Write a program that takes a student's score as input and converts it to a letter grade (A, B, C, D, or F) using if-elif-else statements. Use the following grading scale:\n",
    "- A: 90-100\n",
    "- B: 80-89\n",
    "- C: 70-79\n",
    "- D: 60-69\n",
    "- F: Below 60\n",
    "\n",
    "**Task 4: Leap Year Checker**\n",
    "Create a Python program that checks if a given year is a leap year or not. Use conditional statements to determine whether the year is divisible by 4, 100, and 400 to decide if it's a leap year.\n",
    "\n",
    "**Task 5: BMI Calculator**\n",
    "Write a program that calculates a person's Body Mass Index (BMI) based on their height and weight. Then, use conditional statements to categorize the BMI as Underweight, Normal, Overweight, or Obese. Provide guidance on the healthy range for BMI.(use BMI Formula)\n",
    "\n",
    "**Task 6: Calculator with Menu**\n",
    "Build a simple calculator program that provides a menu with options for addition, subtraction, multiplication, and division. `Take user input for two numbers`and an `operation choice`. Use conditional statements to perform the selected operation and display the result.\n",
    "\n",
    "**Task 7: Temperature Converter**\n",
    "Write a program that `converts temperatures between Celsius and Fahrenhei`t. Allow the user to `choose` the conversion direction and input the temperature value. Use conditional statements to perform the conversion based on the `user's choice`.(Do with conversion formula)\n"
   ]
  },
  {
   "cell_type": "markdown",
   "id": "fbad1c37",
   "metadata": {},
   "source": [
    "1 Task 1 Write a Python program that takes an `integer as input` from the user and prints whether it is `multiple of 3 or not` using if-else statements.\n"
   ]
  },
  {
   "cell_type": "code",
   "execution_count": 2,
   "id": "01a476c0",
   "metadata": {},
   "outputs": [
    {
     "name": "stdout",
     "output_type": "stream",
     "text": [
      "enter a number:: 32\n",
      "it is not a multiple of 3\n"
     ]
    }
   ],
   "source": [
    "num = int(input(\"enter a number:: \"))\n",
    "if num%3 ==0:\n",
    "    print(\"it is multiple of 3\")\n",
    "else:\n",
    "    print(\"it is not a multiple of 3\")\n",
    "\n"
   ]
  },
  {
   "cell_type": "markdown",
   "id": "79c627e8",
   "metadata": {},
   "source": [
    "2.Task 2: Nested If Statements Create a program that asks the user for their age and nationality. Depending on their age and nationality, display a different message using nested if statements. For example, if they are under 18 and from the USA, display \"You are a minor from the USA.\"\n"
   ]
  },
  {
   "cell_type": "code",
   "execution_count": 12,
   "id": "720157b6",
   "metadata": {},
   "outputs": [
    {
     "name": "stdout",
     "output_type": "stream",
     "text": [
      "enter a age: 28\n",
      "enter therir nationality:indian\n",
      "we are majors from indian\n"
     ]
    }
   ],
   "source": [
    "age = int(input(\"enter a age: \"))\n",
    "if (age>18):\n",
    "    nationality = input(\"enter therir nationality:\")\n",
    "    if (nationality == 'indian'):\n",
    "      print(\"we are majors from indian\")\n",
    "else:\n",
    "    print(\"they are minors\")"
   ]
  },
  {
   "cell_type": "markdown",
   "id": "b2b66d5c",
   "metadata": {},
   "source": [
    "3.ask 3: Grade Calculator Write a program that takes a student's score as input and converts it to a letter grade (A, B, C, D, or F) using if-elif-else statements. Use the following grading scale:"
   ]
  },
  {
   "cell_type": "markdown",
   "id": "7ac00ce6",
   "metadata": {},
   "source": [
    "- A: 90-100\n",
    "- B: 80-89\n",
    "- C: 70-79\n",
    "- D: 60-69\n",
    "- F: Below 60\n"
   ]
  },
  {
   "cell_type": "code",
   "execution_count": 13,
   "id": "b2b07b54",
   "metadata": {},
   "outputs": [
    {
     "name": "stdout",
     "output_type": "stream",
     "text": [
      "enter a grade::32\n",
      "grade F\n"
     ]
    }
   ],
   "source": [
    "score = int(input(\"enter a grade::\"))\n",
    "if (score>=90) and (score<=100):\n",
    "    print(\"grade A\")\n",
    "elif (score>=80) and (score<=89):\n",
    "    print(\"grade B\")\n",
    "elif (score>=70) and (score<=79):\n",
    "    print(\"grade C\")\n",
    "elif (score>=60) and (score<=69):\n",
    "    print(\"grade D\")\n",
    "elif (score>100) or (score<0):\n",
    "    print(\"enter valid score\")\n",
    "else:\n",
    "    print(\"grade F\")"
   ]
  },
  {
   "cell_type": "markdown",
   "id": "76005775",
   "metadata": {},
   "source": [
    "4.Task 4: Leap Year Checker Create a Python program that checks if a given year is a leap year or not. Use conditional statements to determine whether the year is divisible by 4, 100, and 400 to decide if it's a leap year.\n"
   ]
  },
  {
   "cell_type": "code",
   "execution_count": 14,
   "id": "3766f9f2",
   "metadata": {},
   "outputs": [
    {
     "name": "stdout",
     "output_type": "stream",
     "text": [
      "enter a year::2002\n",
      "it is not a leap year\n"
     ]
    }
   ],
   "source": [
    "year = int(input(\"enter a year::\"))\n",
    "if (year %4 ==0) or (year % 100==0) or (year % 400==0):\n",
    "    print(\"it is leap year\")\n",
    "else:\n",
    "    print(\"it is not a leap year\")\n"
   ]
  },
  {
   "cell_type": "markdown",
   "id": "bd07a874",
   "metadata": {},
   "source": [
    "5.Task 5: BMI Calculator Write a program that calculates a person's Body Mass Index (BMI) based on their height and weight. Then, use conditional statements to categorize the BMI as Underweight, Normal, Overweight, or Obese. Provide guidance on the healthy range for BMI.(use BMI Formula)\n"
   ]
  },
  {
   "cell_type": "code",
   "execution_count": 15,
   "id": "64182761",
   "metadata": {},
   "outputs": [
    {
     "name": "stdout",
     "output_type": "stream",
     "text": [
      "enter heights:6\n",
      "enter a weight:52\n",
      "underweight\n"
     ]
    }
   ],
   "source": [
    "height = float(input(\"enter heights:\"))\n",
    "weight = int(input(\"enter a weight:\"))\n",
    "BMI = weight/(height**2)\n",
    "if (BMI > 18) and (BMI < 24) :\n",
    "    print(\"normal\")\n",
    "elif (BMI > 30):\n",
    "    print(\"over weight\")\n",
    "elif (BMI < 18):\n",
    "    print(\"underweight\")\n",
    "else:\n",
    "        print(\"obsse\") \n"
   ]
  },
  {
   "cell_type": "markdown",
   "id": "80d6a859",
   "metadata": {},
   "source": [
    "Task 6: Calculator with Menu Build a simple calculator program that provides a menu with options for addition, subtraction, multiplication, and division. Take user input for two numbersand an operation choice. Use conditional statements to perform the selected operation and display the result\n"
   ]
  },
  {
   "cell_type": "code",
   "execution_count": 16,
   "id": "25fc28a9",
   "metadata": {},
   "outputs": [
    {
     "name": "stdout",
     "output_type": "stream",
     "text": [
      "enter num1::9\n",
      "enter num2::10\n",
      " +,-,*,/*\n",
      "multiplication 90\n"
     ]
    }
   ],
   "source": [
    "num1 = int(input(\"enter num1::\"))\n",
    "num2 = int(input(\"enter num2::\"))\n",
    "operation= input(\"\"\" +,-,*,/\"\"\")\n",
    "if (operation == '+'):\n",
    "    print(\"addition\",num1+num2)\n",
    "elif (operation == '-'):\n",
    "    print(\"subtraction\",num1-num2)\n",
    "elif (operation == '*')  :\n",
    "    print(\"multiplication\",num1*num2)\n",
    "elif (operation == '/') :\n",
    "    print(\"division\",num/num2)\n",
    "else:\n",
    "    print(\"it is not valid\")\n",
    "\n"
   ]
  },
  {
   "cell_type": "markdown",
   "id": "7cb4ce71",
   "metadata": {},
   "source": [
    "Task 7: Temperature Converter Write a program that converts temperatures between Celsius and Fahrenheit. Allow the user to choose the conversion direction and input the temperature value. Use conditional statements to perform the conversion based on the user's choice.(Do with conversion formula)\n"
   ]
  },
  {
   "cell_type": "code",
   "execution_count": 1,
   "id": "7c5803fb",
   "metadata": {},
   "outputs": [
    {
     "name": "stdout",
     "output_type": "stream",
     "text": [
      "enter a temp :32\n",
      " enter conversion:f\n",
      " temp in fahrenhit 89.6\n"
     ]
    }
   ],
   "source": [
    "temp= float(input(\"enter a temp :\")) \n",
    "convert=input(\" enter conversion:\")\n",
    "if (convert=='f') :\n",
    "    f= temp * 1.8 + 32\n",
    "    print(\" temp in fahrenhit\",f)  \n",
    "elif (convert == 'c') :\n",
    "      c= (temp-32)/1.8\n",
    "      print(\"temp in celsius\",c) \n",
    "else:           \n",
    "    print(\"valid\")       \n"
   ]
  },
  {
   "cell_type": "code",
   "execution_count": null,
   "id": "2c0185f4",
   "metadata": {},
   "outputs": [],
   "source": []
  }
 ],
 "metadata": {
  "kernelspec": {
   "display_name": "Python 3 (ipykernel)",
   "language": "python",
   "name": "python3"
  },
  "language_info": {
   "codemirror_mode": {
    "name": "ipython",
    "version": 3
   },
   "file_extension": ".py",
   "mimetype": "text/x-python",
   "name": "python",
   "nbconvert_exporter": "python",
   "pygments_lexer": "ipython3",
   "version": "3.11.4"
  }
 },
 "nbformat": 4,
 "nbformat_minor": 5
}
