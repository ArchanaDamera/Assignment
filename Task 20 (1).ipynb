{
 "cells": [
  {
   "cell_type": "markdown",
   "id": "185da15a",
   "metadata": {},
   "source": [
    "A restaurant management system is a software application that helps streamline various restaurant operations and facilitates efficient management. Here are some typical attributes and methods that such a system might have:\n",
    "\n",
    "**Take minimum 5 attributes and atleast 4 methods**\n",
    "\n",
    "Attributes:\n",
    "1. Menu: Represents the list of food and beverage items available in the restaurant, along with their prices and categories (appetizers, main courses, desserts, etc.).\n",
    "2. Tables: Contains information about the restaurant's seating arrangement, including table numbers, seating capacity, and current occupancy status.\n",
    "3. Orders: Keeps track of customer orders, including the items ordered, quantities, table number, total amount, and order status (in progress, served, completed, etc.).\n",
    "4. Staff: Contains information about restaurant employees, such as waiters, chefs, managers, and their respective roles, shifts, and contact details.\n",
    "5. Reservations: Tracks table reservations made by customers, including reservation time, date, party size, and customer contact information.\n",
    "6. Payments: Stores details of transactions, including payment method, total amount, payment status, and any applicable discounts or promotions.\n",
    "\n",
    "Methods:\n",
    "1. Display Menu: Allows restaurant staff to view and update the menu, including adding new items, modifying prices, and removing discontinued items.\n",
    "2. Take Order: Enables waiters to take customer orders, add items to the order, specify quantities, and send the order to the kitchen for preparation.\n",
    "3. Manage Table Occupancy: Tracks table availability and occupancy status, allowing staff to assign tables to customers and mark tables as occupied or vacant.\n",
    "4. Process Order: Allows kitchen staff to view incoming orders, mark items as prepared, and inform the waiters when the order is ready for serving.\n",
    "5. Manage Reservations: Facilitates the process of making, modifying, and canceling table reservations based on customer requests and availability.\n",
    "6. Generate Bills: Calculates the total bill amount for each table based on the items ordered, applicable taxes, and any additional charges.\n",
    "\n"
   ]
  },
  {
   "cell_type": "code",
   "execution_count": 38,
   "id": "70929956",
   "metadata": {},
   "outputs": [],
   "source": [
    "class Restaurant:\n",
    "    '''you are welcome to restaurant'''\n",
    "    def __init__(Aishu,branch,menu,order,reservation,transaction):\n",
    "        Aishu.branch = branch\n",
    "        Aishu.menu = menu\n",
    "        Aishu.order = order\n",
    "        Aishu.reservation = reservation\n",
    "        Aishu.transaction = transaction\n",
    "        \n",
    "    def display_menu(Aishu):\n",
    "        '''this is the menu of our restaurant templates '''\n",
    "        Aishu.menu = input(\"enter a menu of the restaurent items::\")\n",
    "        print(\"our menucard  is : \", Aishu.menu)\n",
    "        \n",
    "    def order(Aishu):\n",
    "        '''please give me a order '''\n",
    "        Aishu.order = input(\"enter the items do you want to order::\")\n",
    "        print(\" customer orders are : \",Aishu.order)\n",
    "        \n",
    "    def occupancy_space(Aishu):\n",
    "        '''plese enter a integer value to the table'''\n",
    "        occupancy_space = int(input(\"enter a given table number::\"))\n",
    "        print(\"please have your seats at left side of the wall beside the table number::\")\n",
    "        \n",
    "    def process_order(Aishu):\n",
    "        process_order = input(\"please check weather the  order is ready or not\")\n",
    "        if  process_order == True:\n",
    "            print(\"then the waiter should serve food to the guest\")\n",
    "        else:\n",
    "            print(\"order is not ready\")\n",
    "            \n",
    "    def Payment_bill(Aishu):\n",
    "        '''please tell the payment mood'''\n",
    "        payment_bill = int(input(\"enter a bill amount::\"))\n",
    "        print(\"the amount is succefully debited \")\n",
    "    \n",
    "        \n"
   ]
  },
  {
   "cell_type": "code",
   "execution_count": 39,
   "id": "1bf78c5c",
   "metadata": {},
   "outputs": [],
   "source": [
    "mehfil = Restaurant('JNTU','Chicken Biryani','Prawns biryani','1:30pm',3000)\n"
   ]
  },
  {
   "cell_type": "code",
   "execution_count": 40,
   "id": "e2530788",
   "metadata": {},
   "outputs": [
    {
     "data": {
      "text/plain": [
       "'JNTU'"
      ]
     },
     "execution_count": 40,
     "metadata": {},
     "output_type": "execute_result"
    }
   ],
   "source": [
    "mehfil.branch"
   ]
  },
  {
   "cell_type": "code",
   "execution_count": 41,
   "id": "df5d3524",
   "metadata": {},
   "outputs": [
    {
     "name": "stdout",
     "output_type": "stream",
     "text": [
      "enter a menu of the restaurent items::paneer tikka\n",
      "our menucard  is :  paneer tikka\n"
     ]
    }
   ],
   "source": [
    "mehfil.display_menu()"
   ]
  },
  {
   "cell_type": "code",
   "execution_count": 42,
   "id": "6aac434d",
   "metadata": {},
   "outputs": [
    {
     "data": {
      "text/plain": [
       "'paneer tikka'"
      ]
     },
     "execution_count": 42,
     "metadata": {},
     "output_type": "execute_result"
    }
   ],
   "source": [
    "mehfil.menu"
   ]
  },
  {
   "cell_type": "code",
   "execution_count": 43,
   "id": "40b609a3",
   "metadata": {},
   "outputs": [
    {
     "name": "stdout",
     "output_type": "stream",
     "text": [
      "enter a given table number::5\n",
      "please have your seats at left side of the wall beside the table number::\n"
     ]
    }
   ],
   "source": [
    "mehfil.occupancy_space()"
   ]
  },
  {
   "cell_type": "code",
   "execution_count": 44,
   "id": "c373deb7",
   "metadata": {},
   "outputs": [
    {
     "data": {
      "text/plain": [
       "'Prawns biryani'"
      ]
     },
     "execution_count": 44,
     "metadata": {},
     "output_type": "execute_result"
    }
   ],
   "source": [
    "mehfil.order"
   ]
  },
  {
   "cell_type": "code",
   "execution_count": 45,
   "id": "747b6173",
   "metadata": {},
   "outputs": [
    {
     "name": "stdout",
     "output_type": "stream",
     "text": [
      "enter a bill amount::2500\n",
      "the amount is succefully debited \n"
     ]
    }
   ],
   "source": [
    "mehfil.Payment_bill()"
   ]
  },
  {
   "cell_type": "code",
   "execution_count": 46,
   "id": "148948d6",
   "metadata": {},
   "outputs": [
    {
     "name": "stdout",
     "output_type": "stream",
     "text": [
      "please check weather the  order is ready or notTrue\n",
      "order is not ready\n"
     ]
    }
   ],
   "source": [
    "mehfil.process_order()"
   ]
  },
  {
   "cell_type": "code",
   "execution_count": 47,
   "id": "73a62f4a",
   "metadata": {},
   "outputs": [
    {
     "data": {
      "text/plain": [
       "'1:30pm'"
      ]
     },
     "execution_count": 47,
     "metadata": {},
     "output_type": "execute_result"
    }
   ],
   "source": [
    "mehfil.reservation"
   ]
  },
  {
   "cell_type": "code",
   "execution_count": 48,
   "id": "ab4373de",
   "metadata": {},
   "outputs": [
    {
     "data": {
      "text/plain": [
       "3000"
      ]
     },
     "execution_count": 48,
     "metadata": {},
     "output_type": "execute_result"
    }
   ],
   "source": [
    "mehfil.transaction"
   ]
  },
  {
   "cell_type": "code",
   "execution_count": null,
   "id": "ec572781",
   "metadata": {},
   "outputs": [],
   "source": []
  }
 ],
 "metadata": {
  "kernelspec": {
   "display_name": "Python 3 (ipykernel)",
   "language": "python",
   "name": "python3"
  },
  "language_info": {
   "codemirror_mode": {
    "name": "ipython",
    "version": 3
   },
   "file_extension": ".py",
   "mimetype": "text/x-python",
   "name": "python",
   "nbconvert_exporter": "python",
   "pygments_lexer": "ipython3",
   "version": "3.11.4"
  }
 },
 "nbformat": 4,
 "nbformat_minor": 5
}
