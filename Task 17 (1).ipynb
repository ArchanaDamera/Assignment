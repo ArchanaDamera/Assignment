{
 "cells": [
  {
   "cell_type": "markdown",
   "id": "8dc8a778",
   "metadata": {},
   "source": [
    "\n",
    "`use context manager`\n",
    "\n",
    "**Create a file**\n",
    "Write a Python program that creates a text file named \"data.txt\" and add data about python programming (should contain at least 5 lineS)\n",
    "\n",
    "**Read and display files context**\n",
    "Write a Python program that reads a text file named \"data.txt\" and displays its contents on the screen.\n",
    "\n",
    "**Count Words in a File**\n",
    "Write a Python program that reads a text file named \"data.txt\" and counts the total number of words in the file. Display the word count on the screen.\n",
    "\n",
    "**Search and Replace**\n",
    "Create a Python program that reads a text file named \"data.txt\" and asks the user to enter a word to search for. If the word is found in the file, replace all occurrences of the word with a new word provided by the user.\n",
    "\n",
    "**Append to a File**\n",
    "Write a Python program that prompts the user to enter a sentence. Append this sentence to an existing file named \"notes.txt\". Make sure the newly added sentence starts on a new line.\n",
    "\n",
    "\n"
   ]
  },
  {
   "cell_type": "markdown",
   "id": "acee4355",
   "metadata": {},
   "source": [
    "# **Create a file**\n"
   ]
  },
  {
   "cell_type": "markdown",
   "id": "c578e1ec",
   "metadata": {},
   "source": [
    "Write a Python program that creates a text file named \"data.txt\" and add data about python programming (should contain at least 5 lines)\n"
   ]
  },
  {
   "cell_type": "code",
   "execution_count": 1,
   "id": "019408ec",
   "metadata": {},
   "outputs": [],
   "source": [
    "with open(\"data.txt\",'w+') as n:\n",
    "    n.write(\"Python is a high-level, general-purpose programming language. Its design philosophy emphasizes code readability with the use of significant indentation. Python is dynamically typed and garbage-collected. It supports multiple programming paradigms, including structured, object-oriented and functional programming.\")\n"
   ]
  },
  {
   "cell_type": "markdown",
   "id": "970ea768",
   "metadata": {},
   "source": [
    "# Read and display files context\n"
   ]
  },
  {
   "cell_type": "markdown",
   "id": "5bf84a97",
   "metadata": {},
   "source": [
    "Write a Python program that reads a text file named \"data.txt\" and displays its contents on the screen.\n"
   ]
  },
  {
   "cell_type": "code",
   "execution_count": 14,
   "id": "920457eb",
   "metadata": {},
   "outputs": [
    {
     "name": "stdout",
     "output_type": "stream",
     "text": [
      "Python is a high-level, general-purpose programming language. Its design philosophy emphasizes code readability with the use of significant indentation. Python is dynamically typed and garbage-collected. It supports multiple programming paradigms, including structured, object-oriented and functional programming.\n"
     ]
    }
   ],
   "source": [
    "with open(\"data.txt\",'r') as f1:\n",
    "    print(f1.read())\n"
   ]
  },
  {
   "cell_type": "markdown",
   "id": "bc1be929",
   "metadata": {},
   "source": [
    "# Count Words in a File"
   ]
  },
  {
   "cell_type": "markdown",
   "id": "fb8557a0",
   "metadata": {},
   "source": [
    "File Write a Python program that reads a text file named \"data.txt\" and counts the total number of words in the file. Display the word count on the screen.\n"
   ]
  },
  {
   "cell_type": "code",
   "execution_count": 3,
   "id": "ee94ce5b",
   "metadata": {},
   "outputs": [],
   "source": [
    "with open(\"data.txt\",'r') as f2:\n",
    "    f3 = f2.read()\n",
    "    f4 = f3.split()"
   ]
  },
  {
   "cell_type": "code",
   "execution_count": 5,
   "id": "ebad254a",
   "metadata": {},
   "outputs": [
    {
     "name": "stdout",
     "output_type": "stream",
     "text": [
      "['Python', 'is', 'a', 'high-level,', 'general-purpose', 'programming', 'language.', 'Its', 'design', 'philosophy', 'emphasizes', 'code', 'readability', 'with', 'the', 'use', 'of', 'significant', 'indentation.', 'Python', 'is', 'dynamically', 'typed', 'and', 'garbage-collected.', 'It', 'supports', 'multiple', 'programming', 'paradigms,', 'including', 'structured,', 'object-oriented', 'and', 'functional', 'programming.']\n"
     ]
    }
   ],
   "source": [
    "print(f4)"
   ]
  },
  {
   "cell_type": "code",
   "execution_count": 6,
   "id": "320c5e32",
   "metadata": {},
   "outputs": [
    {
     "data": {
      "text/plain": [
       "36"
      ]
     },
     "execution_count": 6,
     "metadata": {},
     "output_type": "execute_result"
    }
   ],
   "source": [
    "len(f4)"
   ]
  },
  {
   "cell_type": "markdown",
   "id": "74851176",
   "metadata": {},
   "source": [
    "# Search and Replace"
   ]
  },
  {
   "cell_type": "markdown",
   "id": "1927594c",
   "metadata": {},
   "source": [
    "Create a Python program that reads a text file named \"data.txt\" and asks the user to enter a word to search for. If the word is found in the file, replace all occurrences of the word with a new word provided by the user.\n"
   ]
  },
  {
   "cell_type": "code",
   "execution_count": 15,
   "id": "a1bc9cfc",
   "metadata": {},
   "outputs": [
    {
     "name": "stdout",
     "output_type": "stream",
     "text": [
      "Enter the word :: python\n",
      "Enter the new word to replace :: PYTHON\n"
     ]
    }
   ],
   "source": [
    "with open(\"data.txt\",'r') as f5:\n",
    "    f6 =f5.read()\n",
    "    word = input(\"Enter the word :: \")\n",
    "    new_word = input(\"Enter the new word to replace :: \")\n",
    "    if word in f6:\n",
    "        print(f6.replace(word,new_word))\n"
   ]
  },
  {
   "cell_type": "code",
   "execution_count": 11,
   "id": "0b6acdb7",
   "metadata": {},
   "outputs": [
    {
     "name": "stdout",
     "output_type": "stream",
     "text": [
      "Python is a high-level, general-purpose programming language. Its design philosophy emphasizes code readability with the use of significant indentation. Python is dynamically typed and garbage-collected. It supports multiple programming paradigms, including structured, object-oriented and functional programming.\n"
     ]
    }
   ],
   "source": [
    "print(f6)"
   ]
  },
  {
   "cell_type": "markdown",
   "id": "d60c433a",
   "metadata": {},
   "source": [
    "# Append to a File\n"
   ]
  },
  {
   "cell_type": "markdown",
   "id": "1474fb8a",
   "metadata": {},
   "source": [
    "Write a Python program that prompts the user to enter a sentence. Append this sentence to an existing file named \"notes.txt\". Make sure the newly added sentence starts on a new line.\n"
   ]
  },
  {
   "cell_type": "code",
   "execution_count": 12,
   "id": "59fc3346",
   "metadata": {},
   "outputs": [
    {
     "name": "stdout",
     "output_type": "stream",
     "text": [
      "enter your sentence:  Hello world\n"
     ]
    }
   ],
   "source": [
    "with open(\"notes.txt\",\"a+\") as file1:\n",
    "    file1.write(\"python program is easy to learn for beginner\")\n",
    "    new=input(\"enter your sentence:  \")\n",
    "    file1.write(f\"\\n{new}\")\n"
   ]
  },
  {
   "cell_type": "code",
   "execution_count": 13,
   "id": "53b573e5",
   "metadata": {},
   "outputs": [
    {
     "name": "stdout",
     "output_type": "stream",
     "text": [
      "python program is easy to learn for beginner\n",
      "Hello worldpython program is easy to learn for beginner\n",
      "Hello world\n"
     ]
    }
   ],
   "source": [
    "file1 = open(\"notes.txt\")\n",
    "print(file1.read())\n"
   ]
  },
  {
   "cell_type": "code",
   "execution_count": null,
   "id": "894c8753",
   "metadata": {},
   "outputs": [],
   "source": []
  }
 ],
 "metadata": {
  "kernelspec": {
   "display_name": "Python 3 (ipykernel)",
   "language": "python",
   "name": "python3"
  },
  "language_info": {
   "codemirror_mode": {
    "name": "ipython",
    "version": 3
   },
   "file_extension": ".py",
   "mimetype": "text/x-python",
   "name": "python",
   "nbconvert_exporter": "python",
   "pygments_lexer": "ipython3",
   "version": "3.11.4"
  }
 },
 "nbformat": 4,
 "nbformat_minor": 5
}
