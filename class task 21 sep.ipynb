{
 "cells": [
  {
   "cell_type": "markdown",
   "id": "ea5d9f01",
   "metadata": {},
   "source": [
    "# 1Take integers ,float , strings print only float values\n",
    "\n",
    "# 2 print only strings\n",
    "\n",
    "# 3  Replace integer values with a name is called \"integer\" ,float values with a name is called \"float\" ,string values with a name is called \"string\""
   ]
  },
  {
   "cell_type": "markdown",
   "id": "820564e3",
   "metadata": {},
   "source": [
    "# 1 Take integers ,float , strings print only float values\n"
   ]
  },
  {
   "cell_type": "code",
   "execution_count": 8,
   "id": "961d3e86",
   "metadata": {},
   "outputs": [],
   "source": [
    "A = [\"I am leraning\",11,27.5,\"Python\",10,2.3]"
   ]
  },
  {
   "cell_type": "code",
   "execution_count": 9,
   "id": "4418b325",
   "metadata": {},
   "outputs": [],
   "source": [
    "def flo(n):\n",
    "    if type(n)==float:\n",
    "        return n"
   ]
  },
  {
   "cell_type": "code",
   "execution_count": 10,
   "id": "39bbe05f",
   "metadata": {},
   "outputs": [
    {
     "data": {
      "text/plain": [
       "[27.5, 2.3]"
      ]
     },
     "execution_count": 10,
     "metadata": {},
     "output_type": "execute_result"
    }
   ],
   "source": [
    "list(filter(flo,A))"
   ]
  },
  {
   "cell_type": "markdown",
   "id": "c08b59e2",
   "metadata": {},
   "source": [
    "# 2 print only strings\n"
   ]
  },
  {
   "cell_type": "code",
   "execution_count": 17,
   "id": "c7e4a91f",
   "metadata": {},
   "outputs": [],
   "source": [
    "A = [\"I am leraning\",11,27.5,\"Python\",10,2.3]"
   ]
  },
  {
   "cell_type": "code",
   "execution_count": 18,
   "id": "736a227e",
   "metadata": {},
   "outputs": [],
   "source": [
    "def flo(n):\n",
    "    if type(n)==str:\n",
    "        return n"
   ]
  },
  {
   "cell_type": "code",
   "execution_count": 19,
   "id": "18bdf3b7",
   "metadata": {},
   "outputs": [
    {
     "data": {
      "text/plain": [
       "['I am leraning', 'Python']"
      ]
     },
     "execution_count": 19,
     "metadata": {},
     "output_type": "execute_result"
    }
   ],
   "source": [
    "list(filter(flo,A))"
   ]
  },
  {
   "cell_type": "markdown",
   "id": "330d1dd0",
   "metadata": {},
   "source": [
    "# 3  Replace integer values with a name is called \"integer\" ,float values with a name is called \"float\" ,string values with a name is called \"string\""
   ]
  },
  {
   "cell_type": "code",
   "execution_count": 45,
   "id": "5aa6ada7",
   "metadata": {},
   "outputs": [],
   "source": [
    "A = [\"I am leraning\",11,27.5,\"Python\",10,2.3]"
   ]
  },
  {
   "cell_type": "code",
   "execution_count": 46,
   "id": "c6c1ea22",
   "metadata": {},
   "outputs": [],
   "source": [
    "def flo(n):\n",
    "    if type(n)==int:\n",
    "        return \"integer\"\n",
    "    elif type(n)==float:\n",
    "        return \"float\"\n",
    "    else:\n",
    "        return \"string\""
   ]
  },
  {
   "cell_type": "code",
   "execution_count": 47,
   "id": "46decd69",
   "metadata": {},
   "outputs": [
    {
     "data": {
      "text/plain": [
       "['string', 'string', 'float', 'string', 'string', 'float']"
      ]
     },
     "execution_count": 47,
     "metadata": {},
     "output_type": "execute_result"
    }
   ],
   "source": [
    "list(map(flo,A))"
   ]
  },
  {
   "cell_type": "markdown",
   "id": "77b5ff70",
   "metadata": {},
   "source": [
    "# practice eg:"
   ]
  },
  {
   "cell_type": "code",
   "execution_count": 1,
   "id": "510c858d",
   "metadata": {},
   "outputs": [
    {
     "data": {
      "text/plain": [
       "['I am leraning', 'integer', 27.5, 'Python', 'integer', 2.3]"
      ]
     },
     "execution_count": 1,
     "metadata": {},
     "output_type": "execute_result"
    }
   ],
   "source": [
    "A = [\"I am leraning\",11,27.5,\"Python\",10,2.3]\n",
    "def flo(n):\n",
    "    if type(n)==int:\n",
    "        return \"integer\"\n",
    "    elif type(n)==float:\n",
    "        return n\n",
    "    else:\n",
    "        return n\n",
    "list(map(flo,A))"
   ]
  },
  {
   "cell_type": "code",
   "execution_count": null,
   "id": "64911508",
   "metadata": {},
   "outputs": [],
   "source": []
  }
 ],
 "metadata": {
  "kernelspec": {
   "display_name": "Python 3 (ipykernel)",
   "language": "python",
   "name": "python3"
  },
  "language_info": {
   "codemirror_mode": {
    "name": "ipython",
    "version": 3
   },
   "file_extension": ".py",
   "mimetype": "text/x-python",
   "name": "python",
   "nbconvert_exporter": "python",
   "pygments_lexer": "ipython3",
   "version": "3.11.4"
  }
 },
 "nbformat": 4,
 "nbformat_minor": 5
}
