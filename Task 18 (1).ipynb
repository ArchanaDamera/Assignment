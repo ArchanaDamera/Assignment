{
 "cells": [
  {
   "cell_type": "markdown",
   "id": "c9fb96f1",
   "metadata": {},
   "source": [
    "In this assignment, you will create a Python program to calculate the average grade of students in a function. However, the program should handle various exceptions that might occur during user input and grade calculation.\n",
    "**Requirements:**\n",
    "1. Your program should prompt the user to enter the total number of students.\n",
    "2. For each student, prompt the user to enter their name and three subject marks (out of 100).\n",
    "3. Handle the following exceptions\n",
    ":\n",
    "    a. ValueError: If the user enters a non-numeric value for the number of students or subject marks.\n",
    "    b. ZeroDivisionError: If any student's average marks cannot be calculated due to division by zero (e.g., no subject marks\n",
    "provided). c. NegativeValueError: If any student's marks are negative.\n",
    "4. Display appropriate error messages for each exception and prompt the user to try again.\n",
    "5. Use a try-except block for exception handling.\n",
    "6. Calculate the average marks for each student and display their names along with their average marks.\n",
    "7. Calculate and display the overall class average.\n",
    "8. Implement a loop so that the user can re-enter data if an exception occurs or continue calculating for another class.\n",
    "9. Include a graceful exit message when the user decides to stop.\n",
    "\n",
    "**Custom(User Defined) Exceptions:**\n",
    "Define two custom exception classes:\n",
    "1. `NegativeValueError: This exception should be raised when any of the subject marks are negative.\n",
    "2. `InvalidNumber Error: This exception should be raised when the user enters an invalid number for the total number of students (e.g., a negative number)."
   ]
  },
  {
   "cell_type": "code",
   "execution_count": 2,
   "id": "5ffd3646",
   "metadata": {},
   "outputs": [
    {
     "name": "stdout",
     "output_type": "stream",
     "text": [
      "enter a total number of students present in the class::3\n",
      "enter a name of a student1::ank\n",
      "enter a biology1 score of student1::89\n",
      "enter a Science1 score of student1::88\n",
      "enter a maths1 score of student1::98\n",
      "91.66666666666667\n",
      "enter a name of a student2::ipl\n",
      "enter a biology2 score of student2::78\n",
      "enter a Science2 score  of student2::89\n",
      "enter a Maths2 score of student2::88\n",
      "196.33333333333334\n",
      "enter a name of student3::aap\n",
      "enter a biology3 score of student3::78\n",
      "enter a Science3 score  of student3::89\n",
      "enter a Maths3 score of student3::88\n",
      "196.33333333333334\n",
      "total class average :: 353.44444444444446\n",
      "Thank You\n"
     ]
    }
   ],
   "source": [
    "try:\n",
    "    total_students = int(input(\"enter a total number of students present in the class::\"))\n",
    "    \n",
    "    def student_average(total_students):\n",
    "        \n",
    "    \n",
    "        if total_students<=o:\n",
    "            raise InvalidNumberError(\"please enter a valid number\")  \n",
    "        \n",
    "    student1 = input(\"enter a name of a student1::\")\n",
    "    biology1 = int(input(\"enter a biology1 score of student1::\"))\n",
    "    Science1 = int(input(\"enter a Science1 score of student1::\"))\n",
    "    Maths1 = int(input(\"enter a maths1 score of student1::\"))\n",
    "\n",
    "    student1_score = dict(biology ={biology1}  , Science = {Science1}  , Maths = {Maths1})\n",
    "    \n",
    "    student1_average =((biology1+Science1+Maths1)/3)\n",
    "    print(student1_average)\n",
    "    \n",
    "    student2 = input(\"enter a name of a student2::\")\n",
    "    biology2 = int(input(\"enter a biology2 score of student2::\"))\n",
    "    Science2 = int(input(\"enter a Science2 score  of student2::\"))\n",
    "    Maths2 = int(input(\"enter a Maths2 score of student2::\"))\n",
    "                         \n",
    "    student2_score = dict(biology ={biology2}, Science = {Science2},  Maths ={Maths2})\n",
    "    \n",
    "    student2_average = (biology2+Science2+Maths2/3)\n",
    "    print(student2_average)\n",
    "    \n",
    "    student3 = input(\"enter a name of student3::\")\n",
    "    biology3 = int(input(\"enter a biology3 score of student3::\"))\n",
    "    Science3 = int(input(\"enter a Science3 score  of student3::\"))\n",
    "    Maths3 = int(input(\"enter a Maths3 score of student3::\"))\n",
    "    \n",
    "    student3_score = dict(biology ={biology3}  , Science = {Science3}  , Maths = {Maths3})\n",
    "    \n",
    "    \n",
    "    student3_average = (biology3+Science3+Maths3/3)\n",
    "    print(student3_average)\n",
    "    \n",
    "    total_average = (student1_average+student2_average+student3_average/3)\n",
    "    print(f\"total class average :: {total_average}\")\n",
    "      \n",
    "          \n",
    "    \n",
    "except ValueError:\n",
    "    print(\"please enter a numeric::\") \n",
    "except ZeroDivisionError:\n",
    "    print(\"enter a valid details::\")\n",
    "except NegativeValueError:\n",
    "    print(\"enter a only positive numbers::\")\n",
    "finally:\n",
    "    print(\"Thank You\")\n",
    "   "
   ]
  },
  {
   "cell_type": "code",
   "execution_count": null,
   "id": "6752f4f7",
   "metadata": {},
   "outputs": [],
   "source": []
  }
 ],
 "metadata": {
  "kernelspec": {
   "display_name": "Python 3 (ipykernel)",
   "language": "python",
   "name": "python3"
  },
  "language_info": {
   "codemirror_mode": {
    "name": "ipython",
    "version": 3
   },
   "file_extension": ".py",
   "mimetype": "text/x-python",
   "name": "python",
   "nbconvert_exporter": "python",
   "pygments_lexer": "ipython3",
   "version": "3.11.4"
  }
 },
 "nbformat": 4,
 "nbformat_minor": 5
}
