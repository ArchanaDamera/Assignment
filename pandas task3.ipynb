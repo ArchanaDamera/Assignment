{
 "cells": [
  {
   "cell_type": "code",
   "execution_count": null,
   "id": "9edc3bcc",
   "metadata": {},
   "outputs": [],
   "source": [
    "1. Find all Statistic Measures\n",
    "2. Which subject has highest average ?\n",
    "3. What are the Student IDs who got more tham 80% GPA?\n",
    "4. How many female students are there in the class?\n",
    "5. What is the ratio of male students and female students?\n",
    "6. What are the marks of male students in statistics ?\n",
    "7. What is the ID of the class topper ?\n",
    "8. What is the gender of probabilty topper?\n",
    "9. Create Pivot Table for gender and class?\n",
    "10. Which subject got least average marks.?\n",
    "11. How many male and female students are there ?\n",
    "12. How many female student are there from class A?\n",
    "13. Which class has more strength ?\n",
    "14.Sort the data as per algebra ?\n",
    "15. How many students got exactly 64 marks from functional analysis?\n"
   ]
  },
  {
   "cell_type": "code",
   "execution_count": 96,
   "id": "5d23ac3e",
   "metadata": {},
   "outputs": [],
   "source": [
    "import numpy as np\n",
    "import pandas as pd"
   ]
  },
  {
   "cell_type": "code",
   "execution_count": 97,
   "id": "56d0003c",
   "metadata": {},
   "outputs": [],
   "source": [
    "df = pd.read_csv(r\"C:\\Users\\pc\\Downloads\\studens_data.csv\")"
   ]
  },
  {
   "cell_type": "code",
   "execution_count": 98,
   "id": "9a881311",
   "metadata": {},
   "outputs": [
    {
     "data": {
      "text/html": [
       "<div>\n",
       "<style scoped>\n",
       "    .dataframe tbody tr th:only-of-type {\n",
       "        vertical-align: middle;\n",
       "    }\n",
       "\n",
       "    .dataframe tbody tr th {\n",
       "        vertical-align: top;\n",
       "    }\n",
       "\n",
       "    .dataframe thead th {\n",
       "        text-align: right;\n",
       "    }\n",
       "</style>\n",
       "<table border=\"1\" class=\"dataframe\">\n",
       "  <thead>\n",
       "    <tr style=\"text-align: right;\">\n",
       "      <th></th>\n",
       "      <th>ID</th>\n",
       "      <th>class</th>\n",
       "      <th>gender</th>\n",
       "      <th>GPA</th>\n",
       "      <th>Algebra</th>\n",
       "      <th>Calculus1</th>\n",
       "      <th>Calculus2</th>\n",
       "      <th>Statistics</th>\n",
       "      <th>Probability</th>\n",
       "      <th>Measure</th>\n",
       "      <th>Functional_analysis</th>\n",
       "    </tr>\n",
       "  </thead>\n",
       "  <tbody>\n",
       "    <tr>\n",
       "      <th>0</th>\n",
       "      <td>1141</td>\n",
       "      <td>A</td>\n",
       "      <td>male</td>\n",
       "      <td>73.47</td>\n",
       "      <td>64</td>\n",
       "      <td>81</td>\n",
       "      <td>87</td>\n",
       "      <td>60</td>\n",
       "      <td>74</td>\n",
       "      <td>71</td>\n",
       "      <td>60</td>\n",
       "    </tr>\n",
       "    <tr>\n",
       "      <th>1</th>\n",
       "      <td>1142</td>\n",
       "      <td>A</td>\n",
       "      <td>female</td>\n",
       "      <td>71.22</td>\n",
       "      <td>57</td>\n",
       "      <td>50</td>\n",
       "      <td>51</td>\n",
       "      <td>51</td>\n",
       "      <td>55</td>\n",
       "      <td>62</td>\n",
       "      <td>61</td>\n",
       "    </tr>\n",
       "    <tr>\n",
       "      <th>2</th>\n",
       "      <td>1143</td>\n",
       "      <td>A</td>\n",
       "      <td>female</td>\n",
       "      <td>74.56</td>\n",
       "      <td>47</td>\n",
       "      <td>48</td>\n",
       "      <td>71</td>\n",
       "      <td>60</td>\n",
       "      <td>61</td>\n",
       "      <td>68</td>\n",
       "      <td>64</td>\n",
       "    </tr>\n",
       "    <tr>\n",
       "      <th>3</th>\n",
       "      <td>1144</td>\n",
       "      <td>A</td>\n",
       "      <td>female</td>\n",
       "      <td>72.89</td>\n",
       "      <td>46</td>\n",
       "      <td>72</td>\n",
       "      <td>38</td>\n",
       "      <td>60</td>\n",
       "      <td>29</td>\n",
       "      <td>54</td>\n",
       "      <td>51</td>\n",
       "    </tr>\n",
       "    <tr>\n",
       "      <th>4</th>\n",
       "      <td>1145</td>\n",
       "      <td>A</td>\n",
       "      <td>female</td>\n",
       "      <td>70.11</td>\n",
       "      <td>49</td>\n",
       "      <td>45</td>\n",
       "      <td>63</td>\n",
       "      <td>60</td>\n",
       "      <td>66</td>\n",
       "      <td>66</td>\n",
       "      <td>61</td>\n",
       "    </tr>\n",
       "    <tr>\n",
       "      <th>...</th>\n",
       "      <td>...</td>\n",
       "      <td>...</td>\n",
       "      <td>...</td>\n",
       "      <td>...</td>\n",
       "      <td>...</td>\n",
       "      <td>...</td>\n",
       "      <td>...</td>\n",
       "      <td>...</td>\n",
       "      <td>...</td>\n",
       "      <td>...</td>\n",
       "      <td>...</td>\n",
       "    </tr>\n",
       "    <tr>\n",
       "      <th>100</th>\n",
       "      <td>1241</td>\n",
       "      <td>A</td>\n",
       "      <td>female</td>\n",
       "      <td>88.34</td>\n",
       "      <td>87</td>\n",
       "      <td>83</td>\n",
       "      <td>92</td>\n",
       "      <td>98</td>\n",
       "      <td>93</td>\n",
       "      <td>86</td>\n",
       "      <td>90</td>\n",
       "    </tr>\n",
       "    <tr>\n",
       "      <th>101</th>\n",
       "      <td>1242</td>\n",
       "      <td>B</td>\n",
       "      <td>male</td>\n",
       "      <td>89.84</td>\n",
       "      <td>98</td>\n",
       "      <td>77</td>\n",
       "      <td>95</td>\n",
       "      <td>98</td>\n",
       "      <td>96</td>\n",
       "      <td>88</td>\n",
       "      <td>100</td>\n",
       "    </tr>\n",
       "    <tr>\n",
       "      <th>102</th>\n",
       "      <td>1243</td>\n",
       "      <td>B</td>\n",
       "      <td>male</td>\n",
       "      <td>88.82</td>\n",
       "      <td>83</td>\n",
       "      <td>80</td>\n",
       "      <td>91</td>\n",
       "      <td>98</td>\n",
       "      <td>93</td>\n",
       "      <td>95</td>\n",
       "      <td>71</td>\n",
       "    </tr>\n",
       "    <tr>\n",
       "      <th>103</th>\n",
       "      <td>1244</td>\n",
       "      <td>A</td>\n",
       "      <td>male</td>\n",
       "      <td>86.60</td>\n",
       "      <td>92</td>\n",
       "      <td>82</td>\n",
       "      <td>91</td>\n",
       "      <td>99</td>\n",
       "      <td>94</td>\n",
       "      <td>82</td>\n",
       "      <td>78</td>\n",
       "    </tr>\n",
       "    <tr>\n",
       "      <th>104</th>\n",
       "      <td>1245</td>\n",
       "      <td>A</td>\n",
       "      <td>male</td>\n",
       "      <td>93.71</td>\n",
       "      <td>93</td>\n",
       "      <td>97</td>\n",
       "      <td>99</td>\n",
       "      <td>100</td>\n",
       "      <td>97</td>\n",
       "      <td>90</td>\n",
       "      <td>90</td>\n",
       "    </tr>\n",
       "  </tbody>\n",
       "</table>\n",
       "<p>105 rows × 11 columns</p>\n",
       "</div>"
      ],
      "text/plain": [
       "       ID class  gender    GPA  Algebra  Calculus1  Calculus2  Statistics  \\\n",
       "0    1141     A    male  73.47       64         81         87          60   \n",
       "1    1142     A  female  71.22       57         50         51          51   \n",
       "2    1143     A  female  74.56       47         48         71          60   \n",
       "3    1144     A  female  72.89       46         72         38          60   \n",
       "4    1145     A  female  70.11       49         45         63          60   \n",
       "..    ...   ...     ...    ...      ...        ...        ...         ...   \n",
       "100  1241     A  female  88.34       87         83         92          98   \n",
       "101  1242     B    male  89.84       98         77         95          98   \n",
       "102  1243     B    male  88.82       83         80         91          98   \n",
       "103  1244     A    male  86.60       92         82         91          99   \n",
       "104  1245     A    male  93.71       93         97         99         100   \n",
       "\n",
       "     Probability  Measure  Functional_analysis  \n",
       "0             74       71                   60  \n",
       "1             55       62                   61  \n",
       "2             61       68                   64  \n",
       "3             29       54                   51  \n",
       "4             66       66                   61  \n",
       "..           ...      ...                  ...  \n",
       "100           93       86                   90  \n",
       "101           96       88                  100  \n",
       "102           93       95                   71  \n",
       "103           94       82                   78  \n",
       "104           97       90                   90  \n",
       "\n",
       "[105 rows x 11 columns]"
      ]
     },
     "execution_count": 98,
     "metadata": {},
     "output_type": "execute_result"
    }
   ],
   "source": [
    "df"
   ]
  },
  {
   "cell_type": "markdown",
   "id": "1ba1457e",
   "metadata": {},
   "source": [
    "# 1.Find all Statistic Measures"
   ]
  },
  {
   "cell_type": "code",
   "execution_count": 99,
   "id": "7b26caa9",
   "metadata": {},
   "outputs": [
    {
     "data": {
      "text/html": [
       "<div>\n",
       "<style scoped>\n",
       "    .dataframe tbody tr th:only-of-type {\n",
       "        vertical-align: middle;\n",
       "    }\n",
       "\n",
       "    .dataframe tbody tr th {\n",
       "        vertical-align: top;\n",
       "    }\n",
       "\n",
       "    .dataframe thead th {\n",
       "        text-align: right;\n",
       "    }\n",
       "</style>\n",
       "<table border=\"1\" class=\"dataframe\">\n",
       "  <thead>\n",
       "    <tr style=\"text-align: right;\">\n",
       "      <th></th>\n",
       "      <th>class</th>\n",
       "      <th>gender</th>\n",
       "      <th>GPA</th>\n",
       "      <th>Algebra</th>\n",
       "      <th>Calculus1</th>\n",
       "      <th>Calculus2</th>\n",
       "      <th>Statistics</th>\n",
       "      <th>Probability</th>\n",
       "      <th>Measure</th>\n",
       "      <th>Functional_analysis</th>\n",
       "    </tr>\n",
       "  </thead>\n",
       "  <tbody>\n",
       "    <tr>\n",
       "      <th>0</th>\n",
       "      <td>A</td>\n",
       "      <td>male</td>\n",
       "      <td>73.47</td>\n",
       "      <td>64</td>\n",
       "      <td>81</td>\n",
       "      <td>87</td>\n",
       "      <td>60</td>\n",
       "      <td>74</td>\n",
       "      <td>71</td>\n",
       "      <td>60</td>\n",
       "    </tr>\n",
       "    <tr>\n",
       "      <th>1</th>\n",
       "      <td>A</td>\n",
       "      <td>female</td>\n",
       "      <td>71.22</td>\n",
       "      <td>57</td>\n",
       "      <td>50</td>\n",
       "      <td>51</td>\n",
       "      <td>51</td>\n",
       "      <td>55</td>\n",
       "      <td>62</td>\n",
       "      <td>61</td>\n",
       "    </tr>\n",
       "    <tr>\n",
       "      <th>2</th>\n",
       "      <td>A</td>\n",
       "      <td>female</td>\n",
       "      <td>74.56</td>\n",
       "      <td>47</td>\n",
       "      <td>48</td>\n",
       "      <td>71</td>\n",
       "      <td>60</td>\n",
       "      <td>61</td>\n",
       "      <td>68</td>\n",
       "      <td>64</td>\n",
       "    </tr>\n",
       "    <tr>\n",
       "      <th>3</th>\n",
       "      <td>A</td>\n",
       "      <td>female</td>\n",
       "      <td>72.89</td>\n",
       "      <td>46</td>\n",
       "      <td>72</td>\n",
       "      <td>38</td>\n",
       "      <td>60</td>\n",
       "      <td>29</td>\n",
       "      <td>54</td>\n",
       "      <td>51</td>\n",
       "    </tr>\n",
       "    <tr>\n",
       "      <th>4</th>\n",
       "      <td>A</td>\n",
       "      <td>female</td>\n",
       "      <td>70.11</td>\n",
       "      <td>49</td>\n",
       "      <td>45</td>\n",
       "      <td>63</td>\n",
       "      <td>60</td>\n",
       "      <td>66</td>\n",
       "      <td>66</td>\n",
       "      <td>61</td>\n",
       "    </tr>\n",
       "    <tr>\n",
       "      <th>...</th>\n",
       "      <td>...</td>\n",
       "      <td>...</td>\n",
       "      <td>...</td>\n",
       "      <td>...</td>\n",
       "      <td>...</td>\n",
       "      <td>...</td>\n",
       "      <td>...</td>\n",
       "      <td>...</td>\n",
       "      <td>...</td>\n",
       "      <td>...</td>\n",
       "    </tr>\n",
       "    <tr>\n",
       "      <th>100</th>\n",
       "      <td>A</td>\n",
       "      <td>female</td>\n",
       "      <td>88.34</td>\n",
       "      <td>87</td>\n",
       "      <td>83</td>\n",
       "      <td>92</td>\n",
       "      <td>98</td>\n",
       "      <td>93</td>\n",
       "      <td>86</td>\n",
       "      <td>90</td>\n",
       "    </tr>\n",
       "    <tr>\n",
       "      <th>101</th>\n",
       "      <td>B</td>\n",
       "      <td>male</td>\n",
       "      <td>89.84</td>\n",
       "      <td>98</td>\n",
       "      <td>77</td>\n",
       "      <td>95</td>\n",
       "      <td>98</td>\n",
       "      <td>96</td>\n",
       "      <td>88</td>\n",
       "      <td>100</td>\n",
       "    </tr>\n",
       "    <tr>\n",
       "      <th>102</th>\n",
       "      <td>B</td>\n",
       "      <td>male</td>\n",
       "      <td>88.82</td>\n",
       "      <td>83</td>\n",
       "      <td>80</td>\n",
       "      <td>91</td>\n",
       "      <td>98</td>\n",
       "      <td>93</td>\n",
       "      <td>95</td>\n",
       "      <td>71</td>\n",
       "    </tr>\n",
       "    <tr>\n",
       "      <th>103</th>\n",
       "      <td>A</td>\n",
       "      <td>male</td>\n",
       "      <td>86.60</td>\n",
       "      <td>92</td>\n",
       "      <td>82</td>\n",
       "      <td>91</td>\n",
       "      <td>99</td>\n",
       "      <td>94</td>\n",
       "      <td>82</td>\n",
       "      <td>78</td>\n",
       "    </tr>\n",
       "    <tr>\n",
       "      <th>104</th>\n",
       "      <td>A</td>\n",
       "      <td>male</td>\n",
       "      <td>93.71</td>\n",
       "      <td>93</td>\n",
       "      <td>97</td>\n",
       "      <td>99</td>\n",
       "      <td>100</td>\n",
       "      <td>97</td>\n",
       "      <td>90</td>\n",
       "      <td>90</td>\n",
       "    </tr>\n",
       "  </tbody>\n",
       "</table>\n",
       "<p>105 rows × 10 columns</p>\n",
       "</div>"
      ],
      "text/plain": [
       "    class  gender    GPA  Algebra  Calculus1  Calculus2  Statistics  \\\n",
       "0       A    male  73.47       64         81         87          60   \n",
       "1       A  female  71.22       57         50         51          51   \n",
       "2       A  female  74.56       47         48         71          60   \n",
       "3       A  female  72.89       46         72         38          60   \n",
       "4       A  female  70.11       49         45         63          60   \n",
       "..    ...     ...    ...      ...        ...        ...         ...   \n",
       "100     A  female  88.34       87         83         92          98   \n",
       "101     B    male  89.84       98         77         95          98   \n",
       "102     B    male  88.82       83         80         91          98   \n",
       "103     A    male  86.60       92         82         91          99   \n",
       "104     A    male  93.71       93         97         99         100   \n",
       "\n",
       "     Probability  Measure  Functional_analysis  \n",
       "0             74       71                   60  \n",
       "1             55       62                   61  \n",
       "2             61       68                   64  \n",
       "3             29       54                   51  \n",
       "4             66       66                   61  \n",
       "..           ...      ...                  ...  \n",
       "100           93       86                   90  \n",
       "101           96       88                  100  \n",
       "102           93       95                   71  \n",
       "103           94       82                   78  \n",
       "104           97       90                   90  \n",
       "\n",
       "[105 rows x 10 columns]"
      ]
     },
     "execution_count": 99,
     "metadata": {},
     "output_type": "execute_result"
    }
   ],
   "source": [
    "df.drop('ID',axis = 1)"
   ]
  },
  {
   "cell_type": "code",
   "execution_count": 100,
   "id": "d03d2455",
   "metadata": {},
   "outputs": [
    {
     "data": {
      "text/html": [
       "<div>\n",
       "<style scoped>\n",
       "    .dataframe tbody tr th:only-of-type {\n",
       "        vertical-align: middle;\n",
       "    }\n",
       "\n",
       "    .dataframe tbody tr th {\n",
       "        vertical-align: top;\n",
       "    }\n",
       "\n",
       "    .dataframe thead th {\n",
       "        text-align: right;\n",
       "    }\n",
       "</style>\n",
       "<table border=\"1\" class=\"dataframe\">\n",
       "  <thead>\n",
       "    <tr style=\"text-align: right;\">\n",
       "      <th></th>\n",
       "      <th>ID</th>\n",
       "      <th>GPA</th>\n",
       "      <th>Algebra</th>\n",
       "      <th>Calculus1</th>\n",
       "      <th>Calculus2</th>\n",
       "      <th>Statistics</th>\n",
       "      <th>Probability</th>\n",
       "      <th>Measure</th>\n",
       "      <th>Functional_analysis</th>\n",
       "    </tr>\n",
       "  </thead>\n",
       "  <tbody>\n",
       "    <tr>\n",
       "      <th>count</th>\n",
       "      <td>105.000000</td>\n",
       "      <td>105.000000</td>\n",
       "      <td>105.000000</td>\n",
       "      <td>105.000000</td>\n",
       "      <td>105.000000</td>\n",
       "      <td>105.000000</td>\n",
       "      <td>105.000000</td>\n",
       "      <td>105.000000</td>\n",
       "      <td>105.000000</td>\n",
       "    </tr>\n",
       "    <tr>\n",
       "      <th>mean</th>\n",
       "      <td>1193.000000</td>\n",
       "      <td>82.957048</td>\n",
       "      <td>76.057143</td>\n",
       "      <td>71.961905</td>\n",
       "      <td>78.942857</td>\n",
       "      <td>85.133333</td>\n",
       "      <td>83.876190</td>\n",
       "      <td>80.761905</td>\n",
       "      <td>75.323810</td>\n",
       "    </tr>\n",
       "    <tr>\n",
       "      <th>std</th>\n",
       "      <td>30.454885</td>\n",
       "      <td>6.053187</td>\n",
       "      <td>11.722618</td>\n",
       "      <td>12.197039</td>\n",
       "      <td>14.997326</td>\n",
       "      <td>10.269509</td>\n",
       "      <td>10.514363</td>\n",
       "      <td>10.296119</td>\n",
       "      <td>13.003324</td>\n",
       "    </tr>\n",
       "    <tr>\n",
       "      <th>min</th>\n",
       "      <td>1141.000000</td>\n",
       "      <td>63.490000</td>\n",
       "      <td>46.000000</td>\n",
       "      <td>38.000000</td>\n",
       "      <td>17.000000</td>\n",
       "      <td>51.000000</td>\n",
       "      <td>29.000000</td>\n",
       "      <td>54.000000</td>\n",
       "      <td>9.000000</td>\n",
       "    </tr>\n",
       "    <tr>\n",
       "      <th>25%</th>\n",
       "      <td>1167.000000</td>\n",
       "      <td>79.340000</td>\n",
       "      <td>67.000000</td>\n",
       "      <td>64.000000</td>\n",
       "      <td>71.000000</td>\n",
       "      <td>80.000000</td>\n",
       "      <td>79.000000</td>\n",
       "      <td>74.000000</td>\n",
       "      <td>67.000000</td>\n",
       "    </tr>\n",
       "    <tr>\n",
       "      <th>50%</th>\n",
       "      <td>1193.000000</td>\n",
       "      <td>84.110000</td>\n",
       "      <td>76.000000</td>\n",
       "      <td>73.000000</td>\n",
       "      <td>83.000000</td>\n",
       "      <td>87.000000</td>\n",
       "      <td>85.000000</td>\n",
       "      <td>81.000000</td>\n",
       "      <td>76.000000</td>\n",
       "    </tr>\n",
       "    <tr>\n",
       "      <th>75%</th>\n",
       "      <td>1219.000000</td>\n",
       "      <td>87.300000</td>\n",
       "      <td>84.000000</td>\n",
       "      <td>80.000000</td>\n",
       "      <td>91.000000</td>\n",
       "      <td>92.000000</td>\n",
       "      <td>92.000000</td>\n",
       "      <td>89.000000</td>\n",
       "      <td>85.000000</td>\n",
       "    </tr>\n",
       "    <tr>\n",
       "      <th>max</th>\n",
       "      <td>1245.000000</td>\n",
       "      <td>93.710000</td>\n",
       "      <td>98.000000</td>\n",
       "      <td>100.000000</td>\n",
       "      <td>99.000000</td>\n",
       "      <td>100.000000</td>\n",
       "      <td>97.000000</td>\n",
       "      <td>100.000000</td>\n",
       "      <td>100.000000</td>\n",
       "    </tr>\n",
       "  </tbody>\n",
       "</table>\n",
       "</div>"
      ],
      "text/plain": [
       "                ID         GPA     Algebra   Calculus1   Calculus2  \\\n",
       "count   105.000000  105.000000  105.000000  105.000000  105.000000   \n",
       "mean   1193.000000   82.957048   76.057143   71.961905   78.942857   \n",
       "std      30.454885    6.053187   11.722618   12.197039   14.997326   \n",
       "min    1141.000000   63.490000   46.000000   38.000000   17.000000   \n",
       "25%    1167.000000   79.340000   67.000000   64.000000   71.000000   \n",
       "50%    1193.000000   84.110000   76.000000   73.000000   83.000000   \n",
       "75%    1219.000000   87.300000   84.000000   80.000000   91.000000   \n",
       "max    1245.000000   93.710000   98.000000  100.000000   99.000000   \n",
       "\n",
       "       Statistics  Probability     Measure  Functional_analysis  \n",
       "count  105.000000   105.000000  105.000000           105.000000  \n",
       "mean    85.133333    83.876190   80.761905            75.323810  \n",
       "std     10.269509    10.514363   10.296119            13.003324  \n",
       "min     51.000000    29.000000   54.000000             9.000000  \n",
       "25%     80.000000    79.000000   74.000000            67.000000  \n",
       "50%     87.000000    85.000000   81.000000            76.000000  \n",
       "75%     92.000000    92.000000   89.000000            85.000000  \n",
       "max    100.000000    97.000000  100.000000           100.000000  "
      ]
     },
     "execution_count": 100,
     "metadata": {},
     "output_type": "execute_result"
    }
   ],
   "source": [
    "df.describe()"
   ]
  },
  {
   "cell_type": "code",
   "execution_count": 101,
   "id": "fbc1e61a",
   "metadata": {},
   "outputs": [
    {
     "name": "stdout",
     "output_type": "stream",
     "text": [
      "<class 'pandas.core.frame.DataFrame'>\n",
      "RangeIndex: 105 entries, 0 to 104\n",
      "Data columns (total 11 columns):\n",
      " #   Column               Non-Null Count  Dtype  \n",
      "---  ------               --------------  -----  \n",
      " 0   ID                   105 non-null    int64  \n",
      " 1   class                105 non-null    object \n",
      " 2   gender               105 non-null    object \n",
      " 3   GPA                  105 non-null    float64\n",
      " 4   Algebra              105 non-null    int64  \n",
      " 5   Calculus1            105 non-null    int64  \n",
      " 6   Calculus2            105 non-null    int64  \n",
      " 7   Statistics           105 non-null    int64  \n",
      " 8   Probability          105 non-null    int64  \n",
      " 9   Measure              105 non-null    int64  \n",
      " 10  Functional_analysis  105 non-null    int64  \n",
      "dtypes: float64(1), int64(8), object(2)\n",
      "memory usage: 9.2+ KB\n"
     ]
    }
   ],
   "source": [
    "df.info()"
   ]
  },
  {
   "cell_type": "code",
   "execution_count": 102,
   "id": "2d854168",
   "metadata": {},
   "outputs": [
    {
     "data": {
      "text/html": [
       "<div>\n",
       "<style scoped>\n",
       "    .dataframe tbody tr th:only-of-type {\n",
       "        vertical-align: middle;\n",
       "    }\n",
       "\n",
       "    .dataframe tbody tr th {\n",
       "        vertical-align: top;\n",
       "    }\n",
       "\n",
       "    .dataframe thead th {\n",
       "        text-align: right;\n",
       "    }\n",
       "</style>\n",
       "<table border=\"1\" class=\"dataframe\">\n",
       "  <thead>\n",
       "    <tr style=\"text-align: right;\">\n",
       "      <th></th>\n",
       "      <th>ID</th>\n",
       "      <th>class</th>\n",
       "      <th>gender</th>\n",
       "      <th>GPA</th>\n",
       "      <th>Algebra</th>\n",
       "      <th>Calculus1</th>\n",
       "      <th>Calculus2</th>\n",
       "      <th>Statistics</th>\n",
       "      <th>Probability</th>\n",
       "      <th>Measure</th>\n",
       "      <th>Functional_analysis</th>\n",
       "    </tr>\n",
       "  </thead>\n",
       "  <tbody>\n",
       "    <tr>\n",
       "      <th>0</th>\n",
       "      <td>1141</td>\n",
       "      <td>A</td>\n",
       "      <td>male</td>\n",
       "      <td>73.47</td>\n",
       "      <td>64</td>\n",
       "      <td>81</td>\n",
       "      <td>87</td>\n",
       "      <td>60</td>\n",
       "      <td>74</td>\n",
       "      <td>71</td>\n",
       "      <td>60</td>\n",
       "    </tr>\n",
       "    <tr>\n",
       "      <th>1</th>\n",
       "      <td>1142</td>\n",
       "      <td>A</td>\n",
       "      <td>female</td>\n",
       "      <td>71.22</td>\n",
       "      <td>57</td>\n",
       "      <td>50</td>\n",
       "      <td>51</td>\n",
       "      <td>51</td>\n",
       "      <td>55</td>\n",
       "      <td>62</td>\n",
       "      <td>61</td>\n",
       "    </tr>\n",
       "    <tr>\n",
       "      <th>2</th>\n",
       "      <td>1143</td>\n",
       "      <td>A</td>\n",
       "      <td>female</td>\n",
       "      <td>74.56</td>\n",
       "      <td>47</td>\n",
       "      <td>48</td>\n",
       "      <td>71</td>\n",
       "      <td>60</td>\n",
       "      <td>61</td>\n",
       "      <td>68</td>\n",
       "      <td>64</td>\n",
       "    </tr>\n",
       "    <tr>\n",
       "      <th>3</th>\n",
       "      <td>1144</td>\n",
       "      <td>A</td>\n",
       "      <td>female</td>\n",
       "      <td>72.89</td>\n",
       "      <td>46</td>\n",
       "      <td>72</td>\n",
       "      <td>38</td>\n",
       "      <td>60</td>\n",
       "      <td>29</td>\n",
       "      <td>54</td>\n",
       "      <td>51</td>\n",
       "    </tr>\n",
       "    <tr>\n",
       "      <th>4</th>\n",
       "      <td>1145</td>\n",
       "      <td>A</td>\n",
       "      <td>female</td>\n",
       "      <td>70.11</td>\n",
       "      <td>49</td>\n",
       "      <td>45</td>\n",
       "      <td>63</td>\n",
       "      <td>60</td>\n",
       "      <td>66</td>\n",
       "      <td>66</td>\n",
       "      <td>61</td>\n",
       "    </tr>\n",
       "  </tbody>\n",
       "</table>\n",
       "</div>"
      ],
      "text/plain": [
       "     ID class  gender    GPA  Algebra  Calculus1  Calculus2  Statistics  \\\n",
       "0  1141     A    male  73.47       64         81         87          60   \n",
       "1  1142     A  female  71.22       57         50         51          51   \n",
       "2  1143     A  female  74.56       47         48         71          60   \n",
       "3  1144     A  female  72.89       46         72         38          60   \n",
       "4  1145     A  female  70.11       49         45         63          60   \n",
       "\n",
       "   Probability  Measure  Functional_analysis  \n",
       "0           74       71                   60  \n",
       "1           55       62                   61  \n",
       "2           61       68                   64  \n",
       "3           29       54                   51  \n",
       "4           66       66                   61  "
      ]
     },
     "execution_count": 102,
     "metadata": {},
     "output_type": "execute_result"
    }
   ],
   "source": [
    "df.head()"
   ]
  },
  {
   "cell_type": "code",
   "execution_count": 103,
   "id": "7709e465",
   "metadata": {},
   "outputs": [
    {
     "data": {
      "text/html": [
       "<div>\n",
       "<style scoped>\n",
       "    .dataframe tbody tr th:only-of-type {\n",
       "        vertical-align: middle;\n",
       "    }\n",
       "\n",
       "    .dataframe tbody tr th {\n",
       "        vertical-align: top;\n",
       "    }\n",
       "\n",
       "    .dataframe thead th {\n",
       "        text-align: right;\n",
       "    }\n",
       "</style>\n",
       "<table border=\"1\" class=\"dataframe\">\n",
       "  <thead>\n",
       "    <tr style=\"text-align: right;\">\n",
       "      <th></th>\n",
       "      <th>ID</th>\n",
       "      <th>class</th>\n",
       "      <th>gender</th>\n",
       "      <th>GPA</th>\n",
       "      <th>Algebra</th>\n",
       "      <th>Calculus1</th>\n",
       "      <th>Calculus2</th>\n",
       "      <th>Statistics</th>\n",
       "      <th>Probability</th>\n",
       "      <th>Measure</th>\n",
       "      <th>Functional_analysis</th>\n",
       "    </tr>\n",
       "  </thead>\n",
       "  <tbody>\n",
       "    <tr>\n",
       "      <th>100</th>\n",
       "      <td>1241</td>\n",
       "      <td>A</td>\n",
       "      <td>female</td>\n",
       "      <td>88.34</td>\n",
       "      <td>87</td>\n",
       "      <td>83</td>\n",
       "      <td>92</td>\n",
       "      <td>98</td>\n",
       "      <td>93</td>\n",
       "      <td>86</td>\n",
       "      <td>90</td>\n",
       "    </tr>\n",
       "    <tr>\n",
       "      <th>101</th>\n",
       "      <td>1242</td>\n",
       "      <td>B</td>\n",
       "      <td>male</td>\n",
       "      <td>89.84</td>\n",
       "      <td>98</td>\n",
       "      <td>77</td>\n",
       "      <td>95</td>\n",
       "      <td>98</td>\n",
       "      <td>96</td>\n",
       "      <td>88</td>\n",
       "      <td>100</td>\n",
       "    </tr>\n",
       "    <tr>\n",
       "      <th>102</th>\n",
       "      <td>1243</td>\n",
       "      <td>B</td>\n",
       "      <td>male</td>\n",
       "      <td>88.82</td>\n",
       "      <td>83</td>\n",
       "      <td>80</td>\n",
       "      <td>91</td>\n",
       "      <td>98</td>\n",
       "      <td>93</td>\n",
       "      <td>95</td>\n",
       "      <td>71</td>\n",
       "    </tr>\n",
       "    <tr>\n",
       "      <th>103</th>\n",
       "      <td>1244</td>\n",
       "      <td>A</td>\n",
       "      <td>male</td>\n",
       "      <td>86.60</td>\n",
       "      <td>92</td>\n",
       "      <td>82</td>\n",
       "      <td>91</td>\n",
       "      <td>99</td>\n",
       "      <td>94</td>\n",
       "      <td>82</td>\n",
       "      <td>78</td>\n",
       "    </tr>\n",
       "    <tr>\n",
       "      <th>104</th>\n",
       "      <td>1245</td>\n",
       "      <td>A</td>\n",
       "      <td>male</td>\n",
       "      <td>93.71</td>\n",
       "      <td>93</td>\n",
       "      <td>97</td>\n",
       "      <td>99</td>\n",
       "      <td>100</td>\n",
       "      <td>97</td>\n",
       "      <td>90</td>\n",
       "      <td>90</td>\n",
       "    </tr>\n",
       "  </tbody>\n",
       "</table>\n",
       "</div>"
      ],
      "text/plain": [
       "       ID class  gender    GPA  Algebra  Calculus1  Calculus2  Statistics  \\\n",
       "100  1241     A  female  88.34       87         83         92          98   \n",
       "101  1242     B    male  89.84       98         77         95          98   \n",
       "102  1243     B    male  88.82       83         80         91          98   \n",
       "103  1244     A    male  86.60       92         82         91          99   \n",
       "104  1245     A    male  93.71       93         97         99         100   \n",
       "\n",
       "     Probability  Measure  Functional_analysis  \n",
       "100           93       86                   90  \n",
       "101           96       88                  100  \n",
       "102           93       95                   71  \n",
       "103           94       82                   78  \n",
       "104           97       90                   90  "
      ]
     },
     "execution_count": 103,
     "metadata": {},
     "output_type": "execute_result"
    }
   ],
   "source": [
    "df.tail()"
   ]
  },
  {
   "cell_type": "code",
   "execution_count": 104,
   "id": "6afddd88",
   "metadata": {},
   "outputs": [
    {
     "data": {
      "text/plain": [
       "Index(['ID', 'class', 'gender', 'GPA', 'Algebra', 'Calculus1', 'Calculus2',\n",
       "       'Statistics', 'Probability', 'Measure', 'Functional_analysis'],\n",
       "      dtype='object')"
      ]
     },
     "execution_count": 104,
     "metadata": {},
     "output_type": "execute_result"
    }
   ],
   "source": [
    "df.columns"
   ]
  },
  {
   "cell_type": "code",
   "execution_count": 105,
   "id": "9c9b9512",
   "metadata": {},
   "outputs": [
    {
     "data": {
      "text/plain": [
       "ID                       int64\n",
       "class                   object\n",
       "gender                  object\n",
       "GPA                    float64\n",
       "Algebra                  int64\n",
       "Calculus1                int64\n",
       "Calculus2                int64\n",
       "Statistics               int64\n",
       "Probability              int64\n",
       "Measure                  int64\n",
       "Functional_analysis      int64\n",
       "dtype: object"
      ]
     },
     "execution_count": 105,
     "metadata": {},
     "output_type": "execute_result"
    }
   ],
   "source": [
    "df.dtypes"
   ]
  },
  {
   "cell_type": "markdown",
   "id": "8edb7c44",
   "metadata": {},
   "source": [
    "# GPA"
   ]
  },
  {
   "cell_type": "code",
   "execution_count": 106,
   "id": "46fc1625",
   "metadata": {},
   "outputs": [
    {
     "data": {
      "text/plain": [
       "0      73.47\n",
       "1      71.22\n",
       "2      74.56\n",
       "3      72.89\n",
       "4      70.11\n",
       "       ...  \n",
       "100    88.34\n",
       "101    89.84\n",
       "102    88.82\n",
       "103    86.60\n",
       "104    93.71\n",
       "Name: GPA, Length: 105, dtype: float64"
      ]
     },
     "execution_count": 106,
     "metadata": {},
     "output_type": "execute_result"
    }
   ],
   "source": [
    "gpa = df['GPA']\n",
    "gpa"
   ]
  },
  {
   "cell_type": "code",
   "execution_count": 107,
   "id": "10127513",
   "metadata": {},
   "outputs": [
    {
     "data": {
      "text/plain": [
       "82.95704761904761"
      ]
     },
     "execution_count": 107,
     "metadata": {},
     "output_type": "execute_result"
    }
   ],
   "source": [
    "gpa.mean()"
   ]
  },
  {
   "cell_type": "code",
   "execution_count": 108,
   "id": "986fdc1f",
   "metadata": {},
   "outputs": [
    {
     "data": {
      "text/plain": [
       "84.11"
      ]
     },
     "execution_count": 108,
     "metadata": {},
     "output_type": "execute_result"
    }
   ],
   "source": [
    "gpa.median()"
   ]
  },
  {
   "cell_type": "code",
   "execution_count": 109,
   "id": "75eef9f9",
   "metadata": {},
   "outputs": [
    {
     "data": {
      "text/plain": [
       "36.64106716117216"
      ]
     },
     "execution_count": 109,
     "metadata": {},
     "output_type": "execute_result"
    }
   ],
   "source": [
    "gpa.var()"
   ]
  },
  {
   "cell_type": "code",
   "execution_count": 110,
   "id": "b5ec41a5",
   "metadata": {},
   "outputs": [
    {
     "data": {
      "text/plain": [
       "6.053186529520808"
      ]
     },
     "execution_count": 110,
     "metadata": {},
     "output_type": "execute_result"
    }
   ],
   "source": [
    "gpa.std()"
   ]
  },
  {
   "cell_type": "code",
   "execution_count": 139,
   "id": "105502cc",
   "metadata": {},
   "outputs": [
    {
     "data": {
      "text/plain": [
       "30.21999999999999"
      ]
     },
     "execution_count": 139,
     "metadata": {},
     "output_type": "execute_result"
    }
   ],
   "source": [
    "range1 = gpa.max() - gpa.min()\n",
    "range1"
   ]
  },
  {
   "cell_type": "code",
   "execution_count": 140,
   "id": "3cfc5b40",
   "metadata": {},
   "outputs": [
    {
     "data": {
      "text/plain": [
       "79.34"
      ]
     },
     "execution_count": 140,
     "metadata": {},
     "output_type": "execute_result"
    }
   ],
   "source": [
    "q1 = np.percentile(gpa,25)\n",
    "q1"
   ]
  },
  {
   "cell_type": "code",
   "execution_count": 141,
   "id": "02f43384",
   "metadata": {},
   "outputs": [
    {
     "data": {
      "text/plain": [
       "84.11"
      ]
     },
     "execution_count": 141,
     "metadata": {},
     "output_type": "execute_result"
    }
   ],
   "source": [
    "q2 = np.percentile(gpa,50)\n",
    "q2"
   ]
  },
  {
   "cell_type": "code",
   "execution_count": 142,
   "id": "e9bf3288",
   "metadata": {},
   "outputs": [
    {
     "data": {
      "text/plain": [
       "87.3"
      ]
     },
     "execution_count": 142,
     "metadata": {},
     "output_type": "execute_result"
    }
   ],
   "source": [
    "q3 = np.percentile(gpa,75)\n",
    "q3"
   ]
  },
  {
   "cell_type": "code",
   "execution_count": 143,
   "id": "882be8b4",
   "metadata": {},
   "outputs": [
    {
     "data": {
      "text/plain": [
       "7.959999999999994"
      ]
     },
     "execution_count": 143,
     "metadata": {},
     "output_type": "execute_result"
    }
   ],
   "source": [
    "iqr = q3 -q1\n",
    "iqr"
   ]
  },
  {
   "cell_type": "code",
   "execution_count": 144,
   "id": "f7ef1df5",
   "metadata": {},
   "outputs": [
    {
     "data": {
      "text/plain": [
       "218.25"
      ]
     },
     "execution_count": 144,
     "metadata": {},
     "output_type": "execute_result"
    }
   ],
   "source": [
    "upper_limit =q3+(1.5*q3)\n",
    "upper_limit"
   ]
  },
  {
   "cell_type": "code",
   "execution_count": 145,
   "id": "99b7975b",
   "metadata": {},
   "outputs": [
    {
     "data": {
      "text/plain": [
       "-39.67"
      ]
     },
     "execution_count": 145,
     "metadata": {},
     "output_type": "execute_result"
    }
   ],
   "source": [
    "lower_limit =q1-(1.5*q1)\n",
    "lower_limit"
   ]
  },
  {
   "cell_type": "markdown",
   "id": "685cdb59",
   "metadata": {},
   "source": [
    "# Algebra"
   ]
  },
  {
   "cell_type": "code",
   "execution_count": 146,
   "id": "ef7c5f7d",
   "metadata": {},
   "outputs": [
    {
     "data": {
      "text/plain": [
       "0      64\n",
       "1      57\n",
       "2      47\n",
       "3      46\n",
       "4      49\n",
       "       ..\n",
       "100    87\n",
       "101    98\n",
       "102    83\n",
       "103    92\n",
       "104    93\n",
       "Name: Algebra, Length: 105, dtype: int64"
      ]
     },
     "execution_count": 146,
     "metadata": {},
     "output_type": "execute_result"
    }
   ],
   "source": [
    "algebra = df['Algebra']\n",
    "algebra"
   ]
  },
  {
   "cell_type": "code",
   "execution_count": 147,
   "id": "ef2638ac",
   "metadata": {},
   "outputs": [
    {
     "data": {
      "text/plain": [
       "76.05714285714286"
      ]
     },
     "execution_count": 147,
     "metadata": {},
     "output_type": "execute_result"
    }
   ],
   "source": [
    "algebra.mean()\n"
   ]
  },
  {
   "cell_type": "code",
   "execution_count": 148,
   "id": "3536ad3f",
   "metadata": {},
   "outputs": [
    {
     "data": {
      "text/plain": [
       "76.0"
      ]
     },
     "execution_count": 148,
     "metadata": {},
     "output_type": "execute_result"
    }
   ],
   "source": [
    "algebra.median()"
   ]
  },
  {
   "cell_type": "code",
   "execution_count": 149,
   "id": "d7904a75",
   "metadata": {},
   "outputs": [
    {
     "data": {
      "text/plain": [
       "137.41978021978016"
      ]
     },
     "execution_count": 149,
     "metadata": {},
     "output_type": "execute_result"
    }
   ],
   "source": [
    "algebra.var()"
   ]
  },
  {
   "cell_type": "code",
   "execution_count": 150,
   "id": "6ab131a1",
   "metadata": {},
   "outputs": [
    {
     "data": {
      "text/plain": [
       "11.722618317585034"
      ]
     },
     "execution_count": 150,
     "metadata": {},
     "output_type": "execute_result"
    }
   ],
   "source": [
    "algebra.std()"
   ]
  },
  {
   "cell_type": "code",
   "execution_count": 151,
   "id": "d3f12af0",
   "metadata": {},
   "outputs": [
    {
     "data": {
      "text/plain": [
       "52"
      ]
     },
     "execution_count": 151,
     "metadata": {},
     "output_type": "execute_result"
    }
   ],
   "source": [
    "range2 = algebra.max() - algebra.min()\n",
    "range2"
   ]
  },
  {
   "cell_type": "code",
   "execution_count": 152,
   "id": "abc5db34",
   "metadata": {},
   "outputs": [
    {
     "data": {
      "text/plain": [
       "67.0"
      ]
     },
     "execution_count": 152,
     "metadata": {},
     "output_type": "execute_result"
    }
   ],
   "source": [
    "q1 = np.percentile(algebra,25)\n",
    "q1"
   ]
  },
  {
   "cell_type": "code",
   "execution_count": 153,
   "id": "9e753871",
   "metadata": {},
   "outputs": [
    {
     "data": {
      "text/plain": [
       "76.0"
      ]
     },
     "execution_count": 153,
     "metadata": {},
     "output_type": "execute_result"
    }
   ],
   "source": [
    "q2 = np.percentile(algebra,50)\n",
    "q2"
   ]
  },
  {
   "cell_type": "code",
   "execution_count": 154,
   "id": "779cf419",
   "metadata": {},
   "outputs": [
    {
     "data": {
      "text/plain": [
       "84.0"
      ]
     },
     "execution_count": 154,
     "metadata": {},
     "output_type": "execute_result"
    }
   ],
   "source": [
    "q3 = np.percentile(algebra,75)\n",
    "q3"
   ]
  },
  {
   "cell_type": "code",
   "execution_count": 155,
   "id": "ce79c963",
   "metadata": {},
   "outputs": [
    {
     "data": {
      "text/plain": [
       "17.0"
      ]
     },
     "execution_count": 155,
     "metadata": {},
     "output_type": "execute_result"
    }
   ],
   "source": [
    "iqr = q3 - q1\n",
    "iqr\n"
   ]
  },
  {
   "cell_type": "code",
   "execution_count": 156,
   "id": "07db2cd8",
   "metadata": {},
   "outputs": [
    {
     "data": {
      "text/plain": [
       "210.0"
      ]
     },
     "execution_count": 156,
     "metadata": {},
     "output_type": "execute_result"
    }
   ],
   "source": [
    "upper_limit =q3+(1.5*q3)\n",
    "upper_limit"
   ]
  },
  {
   "cell_type": "code",
   "execution_count": 157,
   "id": "e76e2c90",
   "metadata": {},
   "outputs": [
    {
     "data": {
      "text/plain": [
       "-33.5"
      ]
     },
     "execution_count": 157,
     "metadata": {},
     "output_type": "execute_result"
    }
   ],
   "source": [
    "lower_limit =q1-(1.5*q1)\n",
    "lower_limit"
   ]
  },
  {
   "cell_type": "markdown",
   "id": "6b46f055",
   "metadata": {},
   "source": [
    "# Calculus1"
   ]
  },
  {
   "cell_type": "code",
   "execution_count": 158,
   "id": "bc8e1e8e",
   "metadata": {},
   "outputs": [
    {
     "data": {
      "text/plain": [
       "0      81\n",
       "1      50\n",
       "2      48\n",
       "3      72\n",
       "4      45\n",
       "       ..\n",
       "100    83\n",
       "101    77\n",
       "102    80\n",
       "103    82\n",
       "104    97\n",
       "Name: Calculus1, Length: 105, dtype: int64"
      ]
     },
     "execution_count": 158,
     "metadata": {},
     "output_type": "execute_result"
    }
   ],
   "source": [
    "calculus1 = df['Calculus1']\n",
    "calculus1"
   ]
  },
  {
   "cell_type": "code",
   "execution_count": 159,
   "id": "58d64f73",
   "metadata": {},
   "outputs": [
    {
     "data": {
      "text/plain": [
       "71.96190476190476"
      ]
     },
     "execution_count": 159,
     "metadata": {},
     "output_type": "execute_result"
    }
   ],
   "source": [
    "calculus1.mean()"
   ]
  },
  {
   "cell_type": "code",
   "execution_count": 160,
   "id": "273bc510",
   "metadata": {},
   "outputs": [
    {
     "data": {
      "text/plain": [
       "73.0"
      ]
     },
     "execution_count": 160,
     "metadata": {},
     "output_type": "execute_result"
    }
   ],
   "source": [
    "calculus1.median()"
   ]
  },
  {
   "cell_type": "code",
   "execution_count": 161,
   "id": "e10a93e8",
   "metadata": {},
   "outputs": [
    {
     "data": {
      "text/plain": [
       "148.76776556776557"
      ]
     },
     "execution_count": 161,
     "metadata": {},
     "output_type": "execute_result"
    }
   ],
   "source": [
    "calculus1.var()"
   ]
  },
  {
   "cell_type": "code",
   "execution_count": 162,
   "id": "e1454711",
   "metadata": {},
   "outputs": [
    {
     "data": {
      "text/plain": [
       "12.197039213176515"
      ]
     },
     "execution_count": 162,
     "metadata": {},
     "output_type": "execute_result"
    }
   ],
   "source": [
    "calculus1.std()"
   ]
  },
  {
   "cell_type": "code",
   "execution_count": 163,
   "id": "641176ec",
   "metadata": {},
   "outputs": [
    {
     "data": {
      "text/plain": [
       "62"
      ]
     },
     "execution_count": 163,
     "metadata": {},
     "output_type": "execute_result"
    }
   ],
   "source": [
    "range3 = calculus1.max() - calculus1.min()\n",
    "range3"
   ]
  },
  {
   "cell_type": "code",
   "execution_count": 164,
   "id": "86971a79",
   "metadata": {},
   "outputs": [
    {
     "data": {
      "text/plain": [
       "64.0"
      ]
     },
     "execution_count": 164,
     "metadata": {},
     "output_type": "execute_result"
    }
   ],
   "source": [
    "q1 = np.percentile(calculus1,25)\n",
    "q1"
   ]
  },
  {
   "cell_type": "code",
   "execution_count": 165,
   "id": "6319b510",
   "metadata": {},
   "outputs": [
    {
     "data": {
      "text/plain": [
       "73.0"
      ]
     },
     "execution_count": 165,
     "metadata": {},
     "output_type": "execute_result"
    }
   ],
   "source": [
    "q2 = np.percentile(calculus1,50)\n",
    "q2"
   ]
  },
  {
   "cell_type": "code",
   "execution_count": 167,
   "id": "72c0d261",
   "metadata": {},
   "outputs": [
    {
     "data": {
      "text/plain": [
       "80.0"
      ]
     },
     "execution_count": 167,
     "metadata": {},
     "output_type": "execute_result"
    }
   ],
   "source": [
    "q3 = np.percentile(calculus1,75)\n",
    "q3"
   ]
  },
  {
   "cell_type": "code",
   "execution_count": 168,
   "id": "cd0fcc90",
   "metadata": {},
   "outputs": [
    {
     "data": {
      "text/plain": [
       "16.0"
      ]
     },
     "execution_count": 168,
     "metadata": {},
     "output_type": "execute_result"
    }
   ],
   "source": [
    "iqr = q3 - q1\n",
    "iqr\n"
   ]
  },
  {
   "cell_type": "code",
   "execution_count": 169,
   "id": "63275358",
   "metadata": {},
   "outputs": [
    {
     "data": {
      "text/plain": [
       "200.0"
      ]
     },
     "execution_count": 169,
     "metadata": {},
     "output_type": "execute_result"
    }
   ],
   "source": [
    "upper_limit =q3+(1.5*q3)\n",
    "upper_limit"
   ]
  },
  {
   "cell_type": "code",
   "execution_count": 173,
   "id": "523fd09b",
   "metadata": {},
   "outputs": [
    {
     "data": {
      "text/plain": [
       "-32.0"
      ]
     },
     "execution_count": 173,
     "metadata": {},
     "output_type": "execute_result"
    }
   ],
   "source": [
    "lower_limit =q1-(1.5*q1)\n",
    "lower_limit"
   ]
  },
  {
   "cell_type": "markdown",
   "id": "6a7f1a89",
   "metadata": {},
   "source": [
    "# Calculus2"
   ]
  },
  {
   "cell_type": "code",
   "execution_count": 174,
   "id": "0b61a388",
   "metadata": {},
   "outputs": [
    {
     "data": {
      "text/plain": [
       "0      87\n",
       "1      51\n",
       "2      71\n",
       "3      38\n",
       "4      63\n",
       "       ..\n",
       "100    92\n",
       "101    95\n",
       "102    91\n",
       "103    91\n",
       "104    99\n",
       "Name: Calculus2, Length: 105, dtype: int64"
      ]
     },
     "execution_count": 174,
     "metadata": {},
     "output_type": "execute_result"
    }
   ],
   "source": [
    "calculus2 = df['Calculus2']\n",
    "calculus2"
   ]
  },
  {
   "cell_type": "code",
   "execution_count": 175,
   "id": "83e39f64",
   "metadata": {},
   "outputs": [
    {
     "data": {
      "text/plain": [
       "78.94285714285714"
      ]
     },
     "execution_count": 175,
     "metadata": {},
     "output_type": "execute_result"
    }
   ],
   "source": [
    "calculus2.mean()"
   ]
  },
  {
   "cell_type": "code",
   "execution_count": 176,
   "id": "5f4498c4",
   "metadata": {},
   "outputs": [
    {
     "data": {
      "text/plain": [
       "83.0"
      ]
     },
     "execution_count": 176,
     "metadata": {},
     "output_type": "execute_result"
    }
   ],
   "source": [
    "calculus2.median()"
   ]
  },
  {
   "cell_type": "code",
   "execution_count": 177,
   "id": "eda679dd",
   "metadata": {},
   "outputs": [
    {
     "data": {
      "text/plain": [
       "224.9197802197802"
      ]
     },
     "execution_count": 177,
     "metadata": {},
     "output_type": "execute_result"
    }
   ],
   "source": [
    "calculus2.var()"
   ]
  },
  {
   "cell_type": "code",
   "execution_count": 178,
   "id": "13903997",
   "metadata": {},
   "outputs": [
    {
     "data": {
      "text/plain": [
       "14.997325768942282"
      ]
     },
     "execution_count": 178,
     "metadata": {},
     "output_type": "execute_result"
    }
   ],
   "source": [
    "calculus2.std()"
   ]
  },
  {
   "cell_type": "code",
   "execution_count": 179,
   "id": "c6f13d1b",
   "metadata": {},
   "outputs": [
    {
     "data": {
      "text/plain": [
       "82"
      ]
     },
     "execution_count": 179,
     "metadata": {},
     "output_type": "execute_result"
    }
   ],
   "source": [
    "range4 = calculus2.max() - calculus2.min()\n",
    "range4"
   ]
  },
  {
   "cell_type": "code",
   "execution_count": 180,
   "id": "b5bfaa3b",
   "metadata": {},
   "outputs": [
    {
     "data": {
      "text/plain": [
       "71.0"
      ]
     },
     "execution_count": 180,
     "metadata": {},
     "output_type": "execute_result"
    }
   ],
   "source": [
    "q1 = np.percentile(calculus2,25)\n",
    "q1"
   ]
  },
  {
   "cell_type": "code",
   "execution_count": 181,
   "id": "09eba81e",
   "metadata": {},
   "outputs": [
    {
     "data": {
      "text/plain": [
       "83.0"
      ]
     },
     "execution_count": 181,
     "metadata": {},
     "output_type": "execute_result"
    }
   ],
   "source": [
    "q2 = np.percentile(calculus2,50)\n",
    "q2"
   ]
  },
  {
   "cell_type": "code",
   "execution_count": 182,
   "id": "1d2dd1f2",
   "metadata": {},
   "outputs": [
    {
     "data": {
      "text/plain": [
       "91.0"
      ]
     },
     "execution_count": 182,
     "metadata": {},
     "output_type": "execute_result"
    }
   ],
   "source": [
    "q3 = np.percentile(calculus2,75)\n",
    "q3"
   ]
  },
  {
   "cell_type": "code",
   "execution_count": 186,
   "id": "d96f2bf9",
   "metadata": {},
   "outputs": [
    {
     "data": {
      "text/plain": [
       "20.0"
      ]
     },
     "execution_count": 186,
     "metadata": {},
     "output_type": "execute_result"
    }
   ],
   "source": [
    "iqr = q3 - q1\n",
    "iqr"
   ]
  },
  {
   "cell_type": "code",
   "execution_count": 187,
   "id": "20a4ed96",
   "metadata": {},
   "outputs": [
    {
     "data": {
      "text/plain": [
       "227.5"
      ]
     },
     "execution_count": 187,
     "metadata": {},
     "output_type": "execute_result"
    }
   ],
   "source": [
    "upper_limit =q3+(1.5*q3)\n",
    "upper_limit"
   ]
  },
  {
   "cell_type": "code",
   "execution_count": 188,
   "id": "aac4d016",
   "metadata": {},
   "outputs": [
    {
     "data": {
      "text/plain": [
       "-35.5"
      ]
     },
     "execution_count": 188,
     "metadata": {},
     "output_type": "execute_result"
    }
   ],
   "source": [
    "lower_limit =q1-(1.5*q1)\n",
    "lower_limit"
   ]
  },
  {
   "cell_type": "markdown",
   "id": "685e11fc",
   "metadata": {},
   "source": [
    "# Statistics"
   ]
  },
  {
   "cell_type": "code",
   "execution_count": 189,
   "id": "087ef76b",
   "metadata": {},
   "outputs": [
    {
     "data": {
      "text/plain": [
       "0       60\n",
       "1       51\n",
       "2       60\n",
       "3       60\n",
       "4       60\n",
       "      ... \n",
       "100     98\n",
       "101     98\n",
       "102     98\n",
       "103     99\n",
       "104    100\n",
       "Name: Statistics, Length: 105, dtype: int64"
      ]
     },
     "execution_count": 189,
     "metadata": {},
     "output_type": "execute_result"
    }
   ],
   "source": [
    "statistics=df['Statistics']\n",
    "statistics\n"
   ]
  },
  {
   "cell_type": "code",
   "execution_count": 190,
   "id": "5f3ebb3c",
   "metadata": {},
   "outputs": [
    {
     "data": {
      "text/plain": [
       "85.13333333333334"
      ]
     },
     "execution_count": 190,
     "metadata": {},
     "output_type": "execute_result"
    }
   ],
   "source": [
    "statistics.mean()\n"
   ]
  },
  {
   "cell_type": "code",
   "execution_count": 191,
   "id": "b5837359",
   "metadata": {},
   "outputs": [
    {
     "data": {
      "text/plain": [
       "87.0"
      ]
     },
     "execution_count": 191,
     "metadata": {},
     "output_type": "execute_result"
    }
   ],
   "source": [
    "statistics.median()\n"
   ]
  },
  {
   "cell_type": "code",
   "execution_count": 192,
   "id": "10684dca",
   "metadata": {},
   "outputs": [
    {
     "data": {
      "text/plain": [
       "105.46282051282057"
      ]
     },
     "execution_count": 192,
     "metadata": {},
     "output_type": "execute_result"
    }
   ],
   "source": [
    "statistics.var()"
   ]
  },
  {
   "cell_type": "code",
   "execution_count": 193,
   "id": "010526d6",
   "metadata": {},
   "outputs": [
    {
     "data": {
      "text/plain": [
       "10.269509263485796"
      ]
     },
     "execution_count": 193,
     "metadata": {},
     "output_type": "execute_result"
    }
   ],
   "source": [
    "statistics.std()\n"
   ]
  },
  {
   "cell_type": "code",
   "execution_count": 195,
   "id": "e3c3c475",
   "metadata": {},
   "outputs": [
    {
     "data": {
      "text/plain": [
       "49"
      ]
     },
     "execution_count": 195,
     "metadata": {},
     "output_type": "execute_result"
    }
   ],
   "source": [
    "range5=statistics.max()-statistics.min()\n",
    "range5"
   ]
  },
  {
   "cell_type": "code",
   "execution_count": 196,
   "id": "ed442400",
   "metadata": {},
   "outputs": [
    {
     "data": {
      "text/plain": [
       "80.0"
      ]
     },
     "execution_count": 196,
     "metadata": {},
     "output_type": "execute_result"
    }
   ],
   "source": [
    "q1=np.percentile(statistics,25)\n",
    "q1"
   ]
  },
  {
   "cell_type": "code",
   "execution_count": 197,
   "id": "460de330",
   "metadata": {},
   "outputs": [
    {
     "data": {
      "text/plain": [
       "87.0"
      ]
     },
     "execution_count": 197,
     "metadata": {},
     "output_type": "execute_result"
    }
   ],
   "source": [
    "q2=np.percentile(statistics,50)\n",
    "q2"
   ]
  },
  {
   "cell_type": "code",
   "execution_count": 198,
   "id": "35540439",
   "metadata": {},
   "outputs": [
    {
     "data": {
      "text/plain": [
       "92.0"
      ]
     },
     "execution_count": 198,
     "metadata": {},
     "output_type": "execute_result"
    }
   ],
   "source": [
    "q3=np.percentile(statistics,75)\n",
    "q3"
   ]
  },
  {
   "cell_type": "code",
   "execution_count": 199,
   "id": "15d293d8",
   "metadata": {},
   "outputs": [
    {
     "data": {
      "text/plain": [
       "12.0"
      ]
     },
     "execution_count": 199,
     "metadata": {},
     "output_type": "execute_result"
    }
   ],
   "source": [
    "iqr = q3 - q1\n",
    "iqr"
   ]
  },
  {
   "cell_type": "code",
   "execution_count": 201,
   "id": "15df3088",
   "metadata": {},
   "outputs": [
    {
     "data": {
      "text/plain": [
       "230.0"
      ]
     },
     "execution_count": 201,
     "metadata": {},
     "output_type": "execute_result"
    }
   ],
   "source": [
    "upper_limit = q3+(1.5*q3)\n",
    "upper_limit"
   ]
  },
  {
   "cell_type": "code",
   "execution_count": 202,
   "id": "46de87bd",
   "metadata": {},
   "outputs": [
    {
     "data": {
      "text/plain": [
       "-40.0"
      ]
     },
     "execution_count": 202,
     "metadata": {},
     "output_type": "execute_result"
    }
   ],
   "source": [
    "lower_limit =q1-(1.5*q1)\n",
    "lower_limit"
   ]
  },
  {
   "cell_type": "markdown",
   "id": "435131a3",
   "metadata": {},
   "source": [
    "# Probability"
   ]
  },
  {
   "cell_type": "code",
   "execution_count": 203,
   "id": "a0a43bb9",
   "metadata": {},
   "outputs": [
    {
     "data": {
      "text/plain": [
       "0      74\n",
       "1      55\n",
       "2      61\n",
       "3      29\n",
       "4      66\n",
       "       ..\n",
       "100    93\n",
       "101    96\n",
       "102    93\n",
       "103    94\n",
       "104    97\n",
       "Name: Probability, Length: 105, dtype: int64"
      ]
     },
     "execution_count": 203,
     "metadata": {},
     "output_type": "execute_result"
    }
   ],
   "source": [
    "probability=df['Probability']\n",
    "probability"
   ]
  },
  {
   "cell_type": "code",
   "execution_count": 204,
   "id": "7b1fddc7",
   "metadata": {},
   "outputs": [
    {
     "data": {
      "text/plain": [
       "83.87619047619047"
      ]
     },
     "execution_count": 204,
     "metadata": {},
     "output_type": "execute_result"
    }
   ],
   "source": [
    "probability.mean()"
   ]
  },
  {
   "cell_type": "code",
   "execution_count": 205,
   "id": "2221ebef",
   "metadata": {},
   "outputs": [
    {
     "data": {
      "text/plain": [
       "85.0"
      ]
     },
     "execution_count": 205,
     "metadata": {},
     "output_type": "execute_result"
    }
   ],
   "source": [
    "probability.median()"
   ]
  },
  {
   "cell_type": "code",
   "execution_count": 206,
   "id": "912b2b1f",
   "metadata": {},
   "outputs": [
    {
     "data": {
      "text/plain": [
       "110.55183150183151"
      ]
     },
     "execution_count": 206,
     "metadata": {},
     "output_type": "execute_result"
    }
   ],
   "source": [
    "probability.var()"
   ]
  },
  {
   "cell_type": "code",
   "execution_count": 207,
   "id": "bf423340",
   "metadata": {},
   "outputs": [
    {
     "data": {
      "text/plain": [
       "10.514363104907092"
      ]
     },
     "execution_count": 207,
     "metadata": {},
     "output_type": "execute_result"
    }
   ],
   "source": [
    "probability.std()"
   ]
  },
  {
   "cell_type": "code",
   "execution_count": 209,
   "id": "5512ebca",
   "metadata": {},
   "outputs": [
    {
     "data": {
      "text/plain": [
       "68"
      ]
     },
     "execution_count": 209,
     "metadata": {},
     "output_type": "execute_result"
    }
   ],
   "source": [
    "range6=probability.max()-probability.min()\n",
    "range6"
   ]
  },
  {
   "cell_type": "code",
   "execution_count": 210,
   "id": "a9a78a83",
   "metadata": {},
   "outputs": [
    {
     "data": {
      "text/plain": [
       "79.0"
      ]
     },
     "execution_count": 210,
     "metadata": {},
     "output_type": "execute_result"
    }
   ],
   "source": [
    "q1=np.percentile(probability,25)\n",
    "q1"
   ]
  },
  {
   "cell_type": "code",
   "execution_count": 211,
   "id": "ec01d10e",
   "metadata": {},
   "outputs": [
    {
     "data": {
      "text/plain": [
       "85.0"
      ]
     },
     "execution_count": 211,
     "metadata": {},
     "output_type": "execute_result"
    }
   ],
   "source": [
    "q2=np.percentile(probability,50)\n",
    "q2"
   ]
  },
  {
   "cell_type": "code",
   "execution_count": 212,
   "id": "682a4a54",
   "metadata": {},
   "outputs": [
    {
     "data": {
      "text/plain": [
       "92.0"
      ]
     },
     "execution_count": 212,
     "metadata": {},
     "output_type": "execute_result"
    }
   ],
   "source": [
    "q3=np.percentile(probability,75)\n",
    "q3"
   ]
  },
  {
   "cell_type": "code",
   "execution_count": 213,
   "id": "0170f0a0",
   "metadata": {},
   "outputs": [
    {
     "data": {
      "text/plain": [
       "13.0"
      ]
     },
     "execution_count": 213,
     "metadata": {},
     "output_type": "execute_result"
    }
   ],
   "source": [
    "iqr=q3-q1\n",
    "iqr\n"
   ]
  },
  {
   "cell_type": "code",
   "execution_count": 214,
   "id": "86ebcda6",
   "metadata": {},
   "outputs": [
    {
     "data": {
      "text/plain": [
       "230.0"
      ]
     },
     "execution_count": 214,
     "metadata": {},
     "output_type": "execute_result"
    }
   ],
   "source": [
    "upper_limit =q3+(1.5*q3)\n",
    "upper_limit"
   ]
  },
  {
   "cell_type": "code",
   "execution_count": 215,
   "id": "9a9edd9c",
   "metadata": {},
   "outputs": [
    {
     "data": {
      "text/plain": [
       "-39.5"
      ]
     },
     "execution_count": 215,
     "metadata": {},
     "output_type": "execute_result"
    }
   ],
   "source": [
    "lower_limit =q1-(1.5*q1)\n",
    "lower_limit"
   ]
  },
  {
   "cell_type": "markdown",
   "id": "35c4fe12",
   "metadata": {},
   "source": [
    "# Measure"
   ]
  },
  {
   "cell_type": "code",
   "execution_count": 216,
   "id": "8b2bd290",
   "metadata": {},
   "outputs": [
    {
     "data": {
      "text/plain": [
       "0      71\n",
       "1      62\n",
       "2      68\n",
       "3      54\n",
       "4      66\n",
       "       ..\n",
       "100    86\n",
       "101    88\n",
       "102    95\n",
       "103    82\n",
       "104    90\n",
       "Name: Measure, Length: 105, dtype: int64"
      ]
     },
     "execution_count": 216,
     "metadata": {},
     "output_type": "execute_result"
    }
   ],
   "source": [
    "measure=df['Measure']\n",
    "measure"
   ]
  },
  {
   "cell_type": "code",
   "execution_count": 217,
   "id": "422dd6d7",
   "metadata": {},
   "outputs": [
    {
     "data": {
      "text/plain": [
       "80.76190476190476"
      ]
     },
     "execution_count": 217,
     "metadata": {},
     "output_type": "execute_result"
    }
   ],
   "source": [
    "measure.mean()"
   ]
  },
  {
   "cell_type": "code",
   "execution_count": 218,
   "id": "cb8a121c",
   "metadata": {},
   "outputs": [
    {
     "data": {
      "text/plain": [
       "81.0"
      ]
     },
     "execution_count": 218,
     "metadata": {},
     "output_type": "execute_result"
    }
   ],
   "source": [
    "measure.median()"
   ]
  },
  {
   "cell_type": "code",
   "execution_count": 219,
   "id": "9a5a1aac",
   "metadata": {},
   "outputs": [
    {
     "data": {
      "text/plain": [
       "106.01007326007331"
      ]
     },
     "execution_count": 219,
     "metadata": {},
     "output_type": "execute_result"
    }
   ],
   "source": [
    "measure.var()"
   ]
  },
  {
   "cell_type": "code",
   "execution_count": 221,
   "id": "1c1ed409",
   "metadata": {},
   "outputs": [
    {
     "data": {
      "text/plain": [
       "10.296119330120126"
      ]
     },
     "execution_count": 221,
     "metadata": {},
     "output_type": "execute_result"
    }
   ],
   "source": [
    "measure.std()"
   ]
  },
  {
   "cell_type": "code",
   "execution_count": 222,
   "id": "82d86676",
   "metadata": {},
   "outputs": [
    {
     "data": {
      "text/plain": [
       "46"
      ]
     },
     "execution_count": 222,
     "metadata": {},
     "output_type": "execute_result"
    }
   ],
   "source": [
    "range7=measure.max()-measure.min()\n",
    "range7"
   ]
  },
  {
   "cell_type": "code",
   "execution_count": 223,
   "id": "8013f835",
   "metadata": {},
   "outputs": [
    {
     "data": {
      "text/plain": [
       "74.0"
      ]
     },
     "execution_count": 223,
     "metadata": {},
     "output_type": "execute_result"
    }
   ],
   "source": [
    "q1=np.percentile(measure,25)\n",
    "q1"
   ]
  },
  {
   "cell_type": "code",
   "execution_count": 224,
   "id": "899d9095",
   "metadata": {},
   "outputs": [
    {
     "data": {
      "text/plain": [
       "81.0"
      ]
     },
     "execution_count": 224,
     "metadata": {},
     "output_type": "execute_result"
    }
   ],
   "source": [
    "q2=np.percentile(measure,50)\n",
    "q2"
   ]
  },
  {
   "cell_type": "code",
   "execution_count": 225,
   "id": "da8522d9",
   "metadata": {},
   "outputs": [
    {
     "data": {
      "text/plain": [
       "89.0"
      ]
     },
     "execution_count": 225,
     "metadata": {},
     "output_type": "execute_result"
    }
   ],
   "source": [
    "q3=np.percentile(measure,75)\n",
    "q3"
   ]
  },
  {
   "cell_type": "code",
   "execution_count": 226,
   "id": "17da650c",
   "metadata": {},
   "outputs": [
    {
     "data": {
      "text/plain": [
       "15.0"
      ]
     },
     "execution_count": 226,
     "metadata": {},
     "output_type": "execute_result"
    }
   ],
   "source": [
    "iqr = q3 - q1\n",
    "iqr"
   ]
  },
  {
   "cell_type": "code",
   "execution_count": 227,
   "id": "58c114ae",
   "metadata": {},
   "outputs": [
    {
     "data": {
      "text/plain": [
       "222.5"
      ]
     },
     "execution_count": 227,
     "metadata": {},
     "output_type": "execute_result"
    }
   ],
   "source": [
    "upper_limit =q3+(1.5*q3)\n",
    "upper_limit"
   ]
  },
  {
   "cell_type": "code",
   "execution_count": 228,
   "id": "7d04522d",
   "metadata": {},
   "outputs": [
    {
     "data": {
      "text/plain": [
       "-37.0"
      ]
     },
     "execution_count": 228,
     "metadata": {},
     "output_type": "execute_result"
    }
   ],
   "source": [
    "lower_limit =q1-(1.5*q1)\n",
    "lower_limit"
   ]
  },
  {
   "cell_type": "markdown",
   "id": "c3080ed9",
   "metadata": {},
   "source": [
    "# Functional_analysis"
   ]
  },
  {
   "cell_type": "code",
   "execution_count": 229,
   "id": "3b345c89",
   "metadata": {},
   "outputs": [
    {
     "data": {
      "text/plain": [
       "0       60\n",
       "1       61\n",
       "2       64\n",
       "3       51\n",
       "4       61\n",
       "      ... \n",
       "100     90\n",
       "101    100\n",
       "102     71\n",
       "103     78\n",
       "104     90\n",
       "Name: Functional_analysis, Length: 105, dtype: int64"
      ]
     },
     "execution_count": 229,
     "metadata": {},
     "output_type": "execute_result"
    }
   ],
   "source": [
    "functional_analysis=df['Functional_analysis']\n",
    "functional_analysis"
   ]
  },
  {
   "cell_type": "code",
   "execution_count": 230,
   "id": "a5d12a29",
   "metadata": {},
   "outputs": [
    {
     "data": {
      "text/plain": [
       "75.32380952380953"
      ]
     },
     "execution_count": 230,
     "metadata": {},
     "output_type": "execute_result"
    }
   ],
   "source": [
    "functional_analysis.mean()"
   ]
  },
  {
   "cell_type": "code",
   "execution_count": 231,
   "id": "1d30429b",
   "metadata": {},
   "outputs": [
    {
     "data": {
      "text/plain": [
       "76.0"
      ]
     },
     "execution_count": 231,
     "metadata": {},
     "output_type": "execute_result"
    }
   ],
   "source": [
    "functional_analysis.median()"
   ]
  },
  {
   "cell_type": "code",
   "execution_count": 232,
   "id": "334f5bf0",
   "metadata": {},
   "outputs": [
    {
     "data": {
      "text/plain": [
       "169.08644688644685"
      ]
     },
     "execution_count": 232,
     "metadata": {},
     "output_type": "execute_result"
    }
   ],
   "source": [
    "functional_analysis.var()"
   ]
  },
  {
   "cell_type": "code",
   "execution_count": 233,
   "id": "6721de36",
   "metadata": {},
   "outputs": [
    {
     "data": {
      "text/plain": [
       "13.003324455170949"
      ]
     },
     "execution_count": 233,
     "metadata": {},
     "output_type": "execute_result"
    }
   ],
   "source": [
    "functional_analysis.std()"
   ]
  },
  {
   "cell_type": "code",
   "execution_count": 234,
   "id": "abceed92",
   "metadata": {},
   "outputs": [
    {
     "data": {
      "text/plain": [
       "91"
      ]
     },
     "execution_count": 234,
     "metadata": {},
     "output_type": "execute_result"
    }
   ],
   "source": [
    "range8=functional_analysis.max()-functional_analysis.min()\n",
    "range8"
   ]
  },
  {
   "cell_type": "code",
   "execution_count": 235,
   "id": "f751c1d4",
   "metadata": {},
   "outputs": [
    {
     "data": {
      "text/plain": [
       "67.0"
      ]
     },
     "execution_count": 235,
     "metadata": {},
     "output_type": "execute_result"
    }
   ],
   "source": [
    "q1=np.percentile(functional_analysis,25)\n",
    "q1"
   ]
  },
  {
   "cell_type": "code",
   "execution_count": 237,
   "id": "68b878fe",
   "metadata": {},
   "outputs": [
    {
     "data": {
      "text/plain": [
       "76.0"
      ]
     },
     "execution_count": 237,
     "metadata": {},
     "output_type": "execute_result"
    }
   ],
   "source": [
    "q2=np.percentile(functional_analysis,50)\n",
    "q2"
   ]
  },
  {
   "cell_type": "code",
   "execution_count": 238,
   "id": "d14dad57",
   "metadata": {},
   "outputs": [
    {
     "data": {
      "text/plain": [
       "85.0"
      ]
     },
     "execution_count": 238,
     "metadata": {},
     "output_type": "execute_result"
    }
   ],
   "source": [
    "q3=np.percentile(functional_analysis,75)\n",
    "q3"
   ]
  },
  {
   "cell_type": "code",
   "execution_count": 239,
   "id": "4c654360",
   "metadata": {},
   "outputs": [
    {
     "data": {
      "text/plain": [
       "18.0"
      ]
     },
     "execution_count": 239,
     "metadata": {},
     "output_type": "execute_result"
    }
   ],
   "source": [
    "iqr = q3 - q1\n",
    "iqr"
   ]
  },
  {
   "cell_type": "code",
   "execution_count": 240,
   "id": "09485a26",
   "metadata": {},
   "outputs": [
    {
     "data": {
      "text/plain": [
       "212.5"
      ]
     },
     "execution_count": 240,
     "metadata": {},
     "output_type": "execute_result"
    }
   ],
   "source": [
    "upper_limit =q3+(1.5*q3)\n",
    "upper_limit"
   ]
  },
  {
   "cell_type": "code",
   "execution_count": 241,
   "id": "9ce38297",
   "metadata": {},
   "outputs": [
    {
     "data": {
      "text/plain": [
       "-33.5"
      ]
     },
     "execution_count": 241,
     "metadata": {},
     "output_type": "execute_result"
    }
   ],
   "source": [
    "lower_limit =q1-(1.5*q1)\n",
    "lower_limit"
   ]
  },
  {
   "cell_type": "markdown",
   "id": "6092bd04",
   "metadata": {},
   "source": [
    "# 2. Which subject has highest average "
   ]
  },
  {
   "cell_type": "code",
   "execution_count": 242,
   "id": "bef83d86",
   "metadata": {},
   "outputs": [
    {
     "data": {
      "text/plain": [
       "Algebra        76.057143\n",
       "Calculus1      71.961905\n",
       "Calculus2      78.942857\n",
       "Statistics     85.133333\n",
       "Probability    83.876190\n",
       "Measure        80.761905\n",
       "dtype: float64"
      ]
     },
     "execution_count": 242,
     "metadata": {},
     "output_type": "execute_result"
    }
   ],
   "source": [
    "average = df.loc[:,['Algebra', 'Calculus1', 'Calculus2','Statistics', 'Probability', 'Measure']].mean()\n",
    "average"
   ]
  },
  {
   "cell_type": "code",
   "execution_count": 243,
   "id": "26437ef7",
   "metadata": {},
   "outputs": [
    {
     "data": {
      "text/plain": [
       "'Statistics'"
      ]
     },
     "execution_count": 243,
     "metadata": {},
     "output_type": "execute_result"
    }
   ],
   "source": [
    "average.idxmax()"
   ]
  },
  {
   "cell_type": "markdown",
   "id": "b3659d97",
   "metadata": {},
   "source": [
    "# 3.What are the Student IDs who got more tham 80% GPA?"
   ]
  },
  {
   "cell_type": "code",
   "execution_count": 244,
   "id": "2b6d1ab5",
   "metadata": {},
   "outputs": [
    {
     "data": {
      "text/plain": [
       "11     1152\n",
       "13     1154\n",
       "14     1155\n",
       "15     1156\n",
       "17     1158\n",
       "       ... \n",
       "100    1241\n",
       "101    1242\n",
       "102    1243\n",
       "103    1244\n",
       "104    1245\n",
       "Name: ID, Length: 76, dtype: int64"
      ]
     },
     "execution_count": 244,
     "metadata": {},
     "output_type": "execute_result"
    }
   ],
   "source": [
    "df[df[\"GPA\"] > 80][\"ID\"]"
   ]
  },
  {
   "cell_type": "markdown",
   "id": "9d08c147",
   "metadata": {},
   "source": [
    "# 4.How many female students are there in the class?"
   ]
  },
  {
   "cell_type": "code",
   "execution_count": 245,
   "id": "978f970c",
   "metadata": {},
   "outputs": [
    {
     "data": {
      "text/plain": [
       "68"
      ]
     },
     "execution_count": 245,
     "metadata": {},
     "output_type": "execute_result"
    }
   ],
   "source": [
    "female_students = sum(df[\"gender\"] ==  'female')\n",
    "female_students"
   ]
  },
  {
   "cell_type": "markdown",
   "id": "58b246f4",
   "metadata": {},
   "source": [
    "# 5.What is the ratio of male students and female students?"
   ]
  },
  {
   "cell_type": "code",
   "execution_count": 246,
   "id": "91454a9b",
   "metadata": {},
   "outputs": [
    {
     "data": {
      "text/plain": [
       "37"
      ]
     },
     "execution_count": 246,
     "metadata": {},
     "output_type": "execute_result"
    }
   ],
   "source": [
    "male_students = sum(df['gender'] == 'male')\n",
    "male_students"
   ]
  },
  {
   "cell_type": "code",
   "execution_count": 248,
   "id": "d11dfaf8",
   "metadata": {},
   "outputs": [
    {
     "name": "stdout",
     "output_type": "stream",
     "text": [
      "68 : 37\n"
     ]
    }
   ],
   "source": [
    "print(female_students ,':', male_students)"
   ]
  },
  {
   "cell_type": "markdown",
   "id": "19297c10",
   "metadata": {},
   "source": [
    "# 6.What are the marks of male students in statistics ?"
   ]
  },
  {
   "cell_type": "code",
   "execution_count": 249,
   "id": "626403d6",
   "metadata": {},
   "outputs": [
    {
     "data": {
      "text/html": [
       "<div>\n",
       "<style scoped>\n",
       "    .dataframe tbody tr th:only-of-type {\n",
       "        vertical-align: middle;\n",
       "    }\n",
       "\n",
       "    .dataframe tbody tr th {\n",
       "        vertical-align: top;\n",
       "    }\n",
       "\n",
       "    .dataframe thead th {\n",
       "        text-align: right;\n",
       "    }\n",
       "</style>\n",
       "<table border=\"1\" class=\"dataframe\">\n",
       "  <thead>\n",
       "    <tr style=\"text-align: right;\">\n",
       "      <th></th>\n",
       "      <th>Statistics</th>\n",
       "    </tr>\n",
       "  </thead>\n",
       "  <tbody>\n",
       "    <tr>\n",
       "      <th>0</th>\n",
       "      <td>60</td>\n",
       "    </tr>\n",
       "    <tr>\n",
       "      <th>5</th>\n",
       "      <td>61</td>\n",
       "    </tr>\n",
       "    <tr>\n",
       "      <th>6</th>\n",
       "      <td>63</td>\n",
       "    </tr>\n",
       "    <tr>\n",
       "      <th>10</th>\n",
       "      <td>69</td>\n",
       "    </tr>\n",
       "    <tr>\n",
       "      <th>13</th>\n",
       "      <td>73</td>\n",
       "    </tr>\n",
       "    <tr>\n",
       "      <th>14</th>\n",
       "      <td>76</td>\n",
       "    </tr>\n",
       "    <tr>\n",
       "      <th>16</th>\n",
       "      <td>76</td>\n",
       "    </tr>\n",
       "    <tr>\n",
       "      <th>17</th>\n",
       "      <td>76</td>\n",
       "    </tr>\n",
       "    <tr>\n",
       "      <th>18</th>\n",
       "      <td>76</td>\n",
       "    </tr>\n",
       "    <tr>\n",
       "      <th>19</th>\n",
       "      <td>78</td>\n",
       "    </tr>\n",
       "    <tr>\n",
       "      <th>20</th>\n",
       "      <td>78</td>\n",
       "    </tr>\n",
       "    <tr>\n",
       "      <th>21</th>\n",
       "      <td>78</td>\n",
       "    </tr>\n",
       "    <tr>\n",
       "      <th>24</th>\n",
       "      <td>80</td>\n",
       "    </tr>\n",
       "    <tr>\n",
       "      <th>28</th>\n",
       "      <td>83</td>\n",
       "    </tr>\n",
       "    <tr>\n",
       "      <th>31</th>\n",
       "      <td>83</td>\n",
       "    </tr>\n",
       "    <tr>\n",
       "      <th>32</th>\n",
       "      <td>83</td>\n",
       "    </tr>\n",
       "    <tr>\n",
       "      <th>33</th>\n",
       "      <td>83</td>\n",
       "    </tr>\n",
       "    <tr>\n",
       "      <th>40</th>\n",
       "      <td>85</td>\n",
       "    </tr>\n",
       "    <tr>\n",
       "      <th>47</th>\n",
       "      <td>87</td>\n",
       "    </tr>\n",
       "    <tr>\n",
       "      <th>50</th>\n",
       "      <td>87</td>\n",
       "    </tr>\n",
       "    <tr>\n",
       "      <th>59</th>\n",
       "      <td>89</td>\n",
       "    </tr>\n",
       "    <tr>\n",
       "      <th>61</th>\n",
       "      <td>89</td>\n",
       "    </tr>\n",
       "    <tr>\n",
       "      <th>65</th>\n",
       "      <td>90</td>\n",
       "    </tr>\n",
       "    <tr>\n",
       "      <th>72</th>\n",
       "      <td>92</td>\n",
       "    </tr>\n",
       "    <tr>\n",
       "      <th>78</th>\n",
       "      <td>92</td>\n",
       "    </tr>\n",
       "    <tr>\n",
       "      <th>82</th>\n",
       "      <td>92</td>\n",
       "    </tr>\n",
       "    <tr>\n",
       "      <th>89</th>\n",
       "      <td>94</td>\n",
       "    </tr>\n",
       "    <tr>\n",
       "      <th>90</th>\n",
       "      <td>95</td>\n",
       "    </tr>\n",
       "    <tr>\n",
       "      <th>92</th>\n",
       "      <td>95</td>\n",
       "    </tr>\n",
       "    <tr>\n",
       "      <th>96</th>\n",
       "      <td>97</td>\n",
       "    </tr>\n",
       "    <tr>\n",
       "      <th>97</th>\n",
       "      <td>97</td>\n",
       "    </tr>\n",
       "    <tr>\n",
       "      <th>98</th>\n",
       "      <td>97</td>\n",
       "    </tr>\n",
       "    <tr>\n",
       "      <th>99</th>\n",
       "      <td>97</td>\n",
       "    </tr>\n",
       "    <tr>\n",
       "      <th>101</th>\n",
       "      <td>98</td>\n",
       "    </tr>\n",
       "    <tr>\n",
       "      <th>102</th>\n",
       "      <td>98</td>\n",
       "    </tr>\n",
       "    <tr>\n",
       "      <th>103</th>\n",
       "      <td>99</td>\n",
       "    </tr>\n",
       "    <tr>\n",
       "      <th>104</th>\n",
       "      <td>100</td>\n",
       "    </tr>\n",
       "  </tbody>\n",
       "</table>\n",
       "</div>"
      ],
      "text/plain": [
       "     Statistics\n",
       "0            60\n",
       "5            61\n",
       "6            63\n",
       "10           69\n",
       "13           73\n",
       "14           76\n",
       "16           76\n",
       "17           76\n",
       "18           76\n",
       "19           78\n",
       "20           78\n",
       "21           78\n",
       "24           80\n",
       "28           83\n",
       "31           83\n",
       "32           83\n",
       "33           83\n",
       "40           85\n",
       "47           87\n",
       "50           87\n",
       "59           89\n",
       "61           89\n",
       "65           90\n",
       "72           92\n",
       "78           92\n",
       "82           92\n",
       "89           94\n",
       "90           95\n",
       "92           95\n",
       "96           97\n",
       "97           97\n",
       "98           97\n",
       "99           97\n",
       "101          98\n",
       "102          98\n",
       "103          99\n",
       "104         100"
      ]
     },
     "execution_count": 249,
     "metadata": {},
     "output_type": "execute_result"
    }
   ],
   "source": [
    " df.loc[df[\"gender\"] == 'male', [\"Statistics\"]]"
   ]
  },
  {
   "cell_type": "markdown",
   "id": "8202da83",
   "metadata": {},
   "source": [
    "# 7.What is the ID of the class topper ?"
   ]
  },
  {
   "cell_type": "code",
   "execution_count": 250,
   "id": "5254f6eb",
   "metadata": {},
   "outputs": [],
   "source": [
    "a = df.loc[df[\"GPA\"].argmax()]"
   ]
  },
  {
   "cell_type": "code",
   "execution_count": 251,
   "id": "5cad172f",
   "metadata": {},
   "outputs": [
    {
     "data": {
      "text/plain": [
       "1245"
      ]
     },
     "execution_count": 251,
     "metadata": {},
     "output_type": "execute_result"
    }
   ],
   "source": [
    "class_topper = a[\"ID\"]\n",
    "class_topper"
   ]
  },
  {
   "cell_type": "markdown",
   "id": "50ed42c2",
   "metadata": {},
   "source": [
    "# 8.What is the gender of probabilty topper?\n"
   ]
  },
  {
   "cell_type": "code",
   "execution_count": 252,
   "id": "f1420500",
   "metadata": {},
   "outputs": [],
   "source": [
    "p = df.loc[df[\"Probability\"].argmax()]"
   ]
  },
  {
   "cell_type": "code",
   "execution_count": 253,
   "id": "c0a04ed9",
   "metadata": {},
   "outputs": [
    {
     "data": {
      "text/plain": [
       "'female'"
      ]
     },
     "execution_count": 253,
     "metadata": {},
     "output_type": "execute_result"
    }
   ],
   "source": [
    "probability_topper  = p[\"gender\"]\n",
    "probability_topper"
   ]
  },
  {
   "cell_type": "markdown",
   "id": "9941c01c",
   "metadata": {},
   "source": [
    "# 9.Create Pivot Table for gender and class?"
   ]
  },
  {
   "cell_type": "code",
   "execution_count": 254,
   "id": "dbebb9cf",
   "metadata": {},
   "outputs": [
    {
     "data": {
      "text/html": [
       "<div>\n",
       "<style scoped>\n",
       "    .dataframe tbody tr th:only-of-type {\n",
       "        vertical-align: middle;\n",
       "    }\n",
       "\n",
       "    .dataframe tbody tr th {\n",
       "        vertical-align: top;\n",
       "    }\n",
       "\n",
       "    .dataframe thead th {\n",
       "        text-align: right;\n",
       "    }\n",
       "</style>\n",
       "<table border=\"1\" class=\"dataframe\">\n",
       "  <thead>\n",
       "    <tr style=\"text-align: right;\">\n",
       "      <th></th>\n",
       "      <th>gender</th>\n",
       "      <th>class</th>\n",
       "    </tr>\n",
       "  </thead>\n",
       "  <tbody>\n",
       "    <tr>\n",
       "      <th>0</th>\n",
       "      <td>male</td>\n",
       "      <td>A</td>\n",
       "    </tr>\n",
       "    <tr>\n",
       "      <th>1</th>\n",
       "      <td>female</td>\n",
       "      <td>A</td>\n",
       "    </tr>\n",
       "    <tr>\n",
       "      <th>2</th>\n",
       "      <td>female</td>\n",
       "      <td>A</td>\n",
       "    </tr>\n",
       "    <tr>\n",
       "      <th>3</th>\n",
       "      <td>female</td>\n",
       "      <td>A</td>\n",
       "    </tr>\n",
       "    <tr>\n",
       "      <th>4</th>\n",
       "      <td>female</td>\n",
       "      <td>A</td>\n",
       "    </tr>\n",
       "    <tr>\n",
       "      <th>...</th>\n",
       "      <td>...</td>\n",
       "      <td>...</td>\n",
       "    </tr>\n",
       "    <tr>\n",
       "      <th>100</th>\n",
       "      <td>female</td>\n",
       "      <td>A</td>\n",
       "    </tr>\n",
       "    <tr>\n",
       "      <th>101</th>\n",
       "      <td>male</td>\n",
       "      <td>B</td>\n",
       "    </tr>\n",
       "    <tr>\n",
       "      <th>102</th>\n",
       "      <td>male</td>\n",
       "      <td>B</td>\n",
       "    </tr>\n",
       "    <tr>\n",
       "      <th>103</th>\n",
       "      <td>male</td>\n",
       "      <td>A</td>\n",
       "    </tr>\n",
       "    <tr>\n",
       "      <th>104</th>\n",
       "      <td>male</td>\n",
       "      <td>A</td>\n",
       "    </tr>\n",
       "  </tbody>\n",
       "</table>\n",
       "<p>105 rows × 2 columns</p>\n",
       "</div>"
      ],
      "text/plain": [
       "     gender class\n",
       "0      male     A\n",
       "1    female     A\n",
       "2    female     A\n",
       "3    female     A\n",
       "4    female     A\n",
       "..      ...   ...\n",
       "100  female     A\n",
       "101    male     B\n",
       "102    male     B\n",
       "103    male     A\n",
       "104    male     A\n",
       "\n",
       "[105 rows x 2 columns]"
      ]
     },
     "execution_count": 254,
     "metadata": {},
     "output_type": "execute_result"
    }
   ],
   "source": [
    "df.loc[:, [\"gender\", \"class\"]]"
   ]
  },
  {
   "cell_type": "markdown",
   "id": "f487d9cf",
   "metadata": {},
   "source": [
    "# 10.Which subject got least average marks.?"
   ]
  },
  {
   "cell_type": "code",
   "execution_count": 255,
   "id": "e6beec3e",
   "metadata": {},
   "outputs": [],
   "source": [
    "num = (df.loc[:,['Algebra','Calculus1','Calculus2','Statistics','Probability','Measure']].mean())"
   ]
  },
  {
   "cell_type": "code",
   "execution_count": 258,
   "id": "a5eac3cd",
   "metadata": {},
   "outputs": [
    {
     "data": {
      "text/plain": [
       "Algebra        76.057143\n",
       "Calculus1      71.961905\n",
       "Calculus2      78.942857\n",
       "Statistics     85.133333\n",
       "Probability    83.876190\n",
       "Measure        80.761905\n",
       "dtype: float64"
      ]
     },
     "execution_count": 258,
     "metadata": {},
     "output_type": "execute_result"
    }
   ],
   "source": [
    "num"
   ]
  },
  {
   "cell_type": "code",
   "execution_count": 257,
   "id": "d00f9205",
   "metadata": {},
   "outputs": [
    {
     "data": {
      "text/plain": [
       "'Calculus1'"
      ]
     },
     "execution_count": 257,
     "metadata": {},
     "output_type": "execute_result"
    }
   ],
   "source": [
    "num.idxmin()"
   ]
  },
  {
   "cell_type": "markdown",
   "id": "0c02573c",
   "metadata": {},
   "source": [
    "# 11.How many male and female students are there ?"
   ]
  },
  {
   "cell_type": "code",
   "execution_count": 260,
   "id": "4856d401",
   "metadata": {},
   "outputs": [
    {
     "data": {
      "text/plain": [
       "37"
      ]
     },
     "execution_count": 260,
     "metadata": {},
     "output_type": "execute_result"
    }
   ],
   "source": [
    "sum(df[\"gender\"] == 'male' ) "
   ]
  },
  {
   "cell_type": "code",
   "execution_count": 261,
   "id": "071ce978",
   "metadata": {},
   "outputs": [
    {
     "data": {
      "text/plain": [
       "68"
      ]
     },
     "execution_count": 261,
     "metadata": {},
     "output_type": "execute_result"
    }
   ],
   "source": [
    "sum(df[\"gender\"] == 'female' ) "
   ]
  },
  {
   "cell_type": "markdown",
   "id": "88aae16a",
   "metadata": {},
   "source": [
    "# 12.How many female student are there from class A?"
   ]
  },
  {
   "cell_type": "code",
   "execution_count": 262,
   "id": "5ec5d486",
   "metadata": {},
   "outputs": [
    {
     "data": {
      "text/plain": [
       "48"
      ]
     },
     "execution_count": 262,
     "metadata": {},
     "output_type": "execute_result"
    }
   ],
   "source": [
    "sum((df[\"class\"] == 'A') & (df[\"gender\"] == \"female\"))\n"
   ]
  },
  {
   "cell_type": "markdown",
   "id": "3cfc442c",
   "metadata": {},
   "source": [
    "# 13.Which class has more strength ?"
   ]
  },
  {
   "cell_type": "code",
   "execution_count": 265,
   "id": "9a92eb02",
   "metadata": {},
   "outputs": [
    {
     "data": {
      "text/plain": [
       "A    76\n",
       "B    29\n",
       "Name: class, dtype: int64"
      ]
     },
     "execution_count": 265,
     "metadata": {},
     "output_type": "execute_result"
    }
   ],
   "source": [
    "df[\"class\"].value_counts()"
   ]
  },
  {
   "cell_type": "markdown",
   "id": "79411d55",
   "metadata": {},
   "source": [
    "# 14.Sort the data as per algebra ?"
   ]
  },
  {
   "cell_type": "code",
   "execution_count": 266,
   "id": "b936925a",
   "metadata": {},
   "outputs": [
    {
     "data": {
      "text/html": [
       "<div>\n",
       "<style scoped>\n",
       "    .dataframe tbody tr th:only-of-type {\n",
       "        vertical-align: middle;\n",
       "    }\n",
       "\n",
       "    .dataframe tbody tr th {\n",
       "        vertical-align: top;\n",
       "    }\n",
       "\n",
       "    .dataframe thead th {\n",
       "        text-align: right;\n",
       "    }\n",
       "</style>\n",
       "<table border=\"1\" class=\"dataframe\">\n",
       "  <thead>\n",
       "    <tr style=\"text-align: right;\">\n",
       "      <th></th>\n",
       "      <th>ID</th>\n",
       "      <th>class</th>\n",
       "      <th>gender</th>\n",
       "      <th>GPA</th>\n",
       "      <th>Algebra</th>\n",
       "      <th>Calculus1</th>\n",
       "      <th>Calculus2</th>\n",
       "      <th>Statistics</th>\n",
       "      <th>Probability</th>\n",
       "      <th>Measure</th>\n",
       "      <th>Functional_analysis</th>\n",
       "    </tr>\n",
       "  </thead>\n",
       "  <tbody>\n",
       "    <tr>\n",
       "      <th>3</th>\n",
       "      <td>1144</td>\n",
       "      <td>A</td>\n",
       "      <td>female</td>\n",
       "      <td>72.89</td>\n",
       "      <td>46</td>\n",
       "      <td>72</td>\n",
       "      <td>38</td>\n",
       "      <td>60</td>\n",
       "      <td>29</td>\n",
       "      <td>54</td>\n",
       "      <td>51</td>\n",
       "    </tr>\n",
       "    <tr>\n",
       "      <th>2</th>\n",
       "      <td>1143</td>\n",
       "      <td>A</td>\n",
       "      <td>female</td>\n",
       "      <td>74.56</td>\n",
       "      <td>47</td>\n",
       "      <td>48</td>\n",
       "      <td>71</td>\n",
       "      <td>60</td>\n",
       "      <td>61</td>\n",
       "      <td>68</td>\n",
       "      <td>64</td>\n",
       "    </tr>\n",
       "    <tr>\n",
       "      <th>4</th>\n",
       "      <td>1145</td>\n",
       "      <td>A</td>\n",
       "      <td>female</td>\n",
       "      <td>70.11</td>\n",
       "      <td>49</td>\n",
       "      <td>45</td>\n",
       "      <td>63</td>\n",
       "      <td>60</td>\n",
       "      <td>66</td>\n",
       "      <td>66</td>\n",
       "      <td>61</td>\n",
       "    </tr>\n",
       "    <tr>\n",
       "      <th>1</th>\n",
       "      <td>1142</td>\n",
       "      <td>A</td>\n",
       "      <td>female</td>\n",
       "      <td>71.22</td>\n",
       "      <td>57</td>\n",
       "      <td>50</td>\n",
       "      <td>51</td>\n",
       "      <td>51</td>\n",
       "      <td>55</td>\n",
       "      <td>62</td>\n",
       "      <td>61</td>\n",
       "    </tr>\n",
       "    <tr>\n",
       "      <th>9</th>\n",
       "      <td>1150</td>\n",
       "      <td>A</td>\n",
       "      <td>female</td>\n",
       "      <td>76.50</td>\n",
       "      <td>60</td>\n",
       "      <td>61</td>\n",
       "      <td>60</td>\n",
       "      <td>69</td>\n",
       "      <td>73</td>\n",
       "      <td>60</td>\n",
       "      <td>62</td>\n",
       "    </tr>\n",
       "    <tr>\n",
       "      <th>...</th>\n",
       "      <td>...</td>\n",
       "      <td>...</td>\n",
       "      <td>...</td>\n",
       "      <td>...</td>\n",
       "      <td>...</td>\n",
       "      <td>...</td>\n",
       "      <td>...</td>\n",
       "      <td>...</td>\n",
       "      <td>...</td>\n",
       "      <td>...</td>\n",
       "      <td>...</td>\n",
       "    </tr>\n",
       "    <tr>\n",
       "      <th>65</th>\n",
       "      <td>1206</td>\n",
       "      <td>A</td>\n",
       "      <td>male</td>\n",
       "      <td>86.37</td>\n",
       "      <td>95</td>\n",
       "      <td>76</td>\n",
       "      <td>87</td>\n",
       "      <td>90</td>\n",
       "      <td>86</td>\n",
       "      <td>94</td>\n",
       "      <td>84</td>\n",
       "    </tr>\n",
       "    <tr>\n",
       "      <th>75</th>\n",
       "      <td>1216</td>\n",
       "      <td>A</td>\n",
       "      <td>female</td>\n",
       "      <td>91.90</td>\n",
       "      <td>95</td>\n",
       "      <td>86</td>\n",
       "      <td>96</td>\n",
       "      <td>92</td>\n",
       "      <td>95</td>\n",
       "      <td>90</td>\n",
       "      <td>95</td>\n",
       "    </tr>\n",
       "    <tr>\n",
       "      <th>87</th>\n",
       "      <td>1228</td>\n",
       "      <td>A</td>\n",
       "      <td>female</td>\n",
       "      <td>88.62</td>\n",
       "      <td>95</td>\n",
       "      <td>65</td>\n",
       "      <td>97</td>\n",
       "      <td>94</td>\n",
       "      <td>97</td>\n",
       "      <td>85</td>\n",
       "      <td>85</td>\n",
       "    </tr>\n",
       "    <tr>\n",
       "      <th>97</th>\n",
       "      <td>1238</td>\n",
       "      <td>A</td>\n",
       "      <td>male</td>\n",
       "      <td>91.14</td>\n",
       "      <td>98</td>\n",
       "      <td>90</td>\n",
       "      <td>98</td>\n",
       "      <td>97</td>\n",
       "      <td>83</td>\n",
       "      <td>93</td>\n",
       "      <td>89</td>\n",
       "    </tr>\n",
       "    <tr>\n",
       "      <th>101</th>\n",
       "      <td>1242</td>\n",
       "      <td>B</td>\n",
       "      <td>male</td>\n",
       "      <td>89.84</td>\n",
       "      <td>98</td>\n",
       "      <td>77</td>\n",
       "      <td>95</td>\n",
       "      <td>98</td>\n",
       "      <td>96</td>\n",
       "      <td>88</td>\n",
       "      <td>100</td>\n",
       "    </tr>\n",
       "  </tbody>\n",
       "</table>\n",
       "<p>105 rows × 11 columns</p>\n",
       "</div>"
      ],
      "text/plain": [
       "       ID class  gender    GPA  Algebra  Calculus1  Calculus2  Statistics  \\\n",
       "3    1144     A  female  72.89       46         72         38          60   \n",
       "2    1143     A  female  74.56       47         48         71          60   \n",
       "4    1145     A  female  70.11       49         45         63          60   \n",
       "1    1142     A  female  71.22       57         50         51          51   \n",
       "9    1150     A  female  76.50       60         61         60          69   \n",
       "..    ...   ...     ...    ...      ...        ...        ...         ...   \n",
       "65   1206     A    male  86.37       95         76         87          90   \n",
       "75   1216     A  female  91.90       95         86         96          92   \n",
       "87   1228     A  female  88.62       95         65         97          94   \n",
       "97   1238     A    male  91.14       98         90         98          97   \n",
       "101  1242     B    male  89.84       98         77         95          98   \n",
       "\n",
       "     Probability  Measure  Functional_analysis  \n",
       "3             29       54                   51  \n",
       "2             61       68                   64  \n",
       "4             66       66                   61  \n",
       "1             55       62                   61  \n",
       "9             73       60                   62  \n",
       "..           ...      ...                  ...  \n",
       "65            86       94                   84  \n",
       "75            95       90                   95  \n",
       "87            97       85                   85  \n",
       "97            83       93                   89  \n",
       "101           96       88                  100  \n",
       "\n",
       "[105 rows x 11 columns]"
      ]
     },
     "execution_count": 266,
     "metadata": {},
     "output_type": "execute_result"
    }
   ],
   "source": [
    "df.sort_values(\"Algebra\")"
   ]
  },
  {
   "cell_type": "markdown",
   "id": "2c81a283",
   "metadata": {},
   "source": [
    "# 15.How many students got exactly 64 marks from functional analysis?"
   ]
  },
  {
   "cell_type": "code",
   "execution_count": 267,
   "id": "6ff097c9",
   "metadata": {},
   "outputs": [
    {
     "data": {
      "text/plain": [
       "8"
      ]
     },
     "execution_count": 267,
     "metadata": {},
     "output_type": "execute_result"
    }
   ],
   "source": [
    "sum(df['Functional_analysis'] == 64)"
   ]
  },
  {
   "cell_type": "code",
   "execution_count": null,
   "id": "f5c8fd2f",
   "metadata": {},
   "outputs": [],
   "source": []
  }
 ],
 "metadata": {
  "kernelspec": {
   "display_name": "Python 3 (ipykernel)",
   "language": "python",
   "name": "python3"
  },
  "language_info": {
   "codemirror_mode": {
    "name": "ipython",
    "version": 3
   },
   "file_extension": ".py",
   "mimetype": "text/x-python",
   "name": "python",
   "nbconvert_exporter": "python",
   "pygments_lexer": "ipython3",
   "version": "3.11.4"
  }
 },
 "nbformat": 4,
 "nbformat_minor": 5
}
