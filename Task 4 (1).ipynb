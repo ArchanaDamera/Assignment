{
 "cells": [
  {
   "cell_type": "markdown",
   "id": "b24867f7",
   "metadata": {},
   "source": [
    "1. Ask user to  enter a  website name and check whether it is valid or not(True/False)\n",
    "\n",
    "\n",
    "2. name = \"Innomatics\", course = \"Data Science\"\n",
    "   write python code in `different ways` to show output as :\n",
    "   `\"Hello World I am learning Data Science in Innomatics\"`\n",
    "   \n",
    "   \n",
    "3. Replace `Science` with `Analysis` in the above output.\n",
    "\n",
    "\n",
    "4. `string = '     Hello World I am learning Python in Innomatics   '`\n",
    "    a. How many characters are there in the string.\n",
    "    b. Slice only 'Python' from above string\n",
    "    c. Remove white spaces on both sides then find no.of characters in the string.\n",
    "    d. Convert the string in Upper case\n",
    "    \n",
    "    \n",
    "5. What is the index number of 'World' in above string.\n",
    "\n",
    "\n",
    "6. Split the string with respect to `whitespace`.after that `store` that splitted into a variable and find the `data type`of that variable.\n",
    "\n",
    "\n",
    "7. How many times 'a' is `repeated` in above string.\n",
    "\n",
    "8. "
   ]
  },
  {
   "cell_type": "markdown",
   "id": "ecc79d5a",
   "metadata": {},
   "source": [
    "1. Ask user to  enter a  website name and check whether it is valid or not(True/False)\n"
   ]
  },
  {
   "cell_type": "code",
   "execution_count": 1,
   "id": "b37bbc91",
   "metadata": {},
   "outputs": [
    {
     "name": "stdout",
     "output_type": "stream",
     "text": [
      "Enter a websiteWWW.archu@gmail.com\n"
     ]
    },
    {
     "data": {
      "text/plain": [
       "True"
      ]
     },
     "execution_count": 1,
     "metadata": {},
     "output_type": "execute_result"
    }
   ],
   "source": [
    "website =input(\"Enter a website\")\n",
    "website.startswith('WWW')\n",
    "website.endswith('.com')\n"
   ]
  },
  {
   "cell_type": "markdown",
   "id": "5ecb0f53",
   "metadata": {},
   "source": [
    "2. name = \"Innomatics\", course = \"Data Science\"\n",
    "   write python code in `different ways` to show output as :\n",
    "   `\"Hello World I am learning Data Science in Innomatics\"`\n",
    " "
   ]
  },
  {
   "cell_type": "code",
   "execution_count": 2,
   "id": "fc00283f",
   "metadata": {},
   "outputs": [],
   "source": [
    "name = \"Innomatics\"\n",
    "course = \"Data Science\""
   ]
  },
  {
   "cell_type": "code",
   "execution_count": 10,
   "id": "8ae214a4",
   "metadata": {},
   "outputs": [
    {
     "name": "stdout",
     "output_type": "stream",
     "text": [
      "Hello world I am learning Data Science in Innomatics\n"
     ]
    }
   ],
   "source": [
    "print(f'Hello world I am learning {course} in {name}')"
   ]
  },
  {
   "cell_type": "code",
   "execution_count": 11,
   "id": "789c3de9",
   "metadata": {},
   "outputs": [
    {
     "name": "stdout",
     "output_type": "stream",
     "text": [
      "Hello world I am learning Data Science in Innomatics\n"
     ]
    }
   ],
   "source": [
    "print('Hello world I am learning {} in {}' .format(course,name))"
   ]
  },
  {
   "cell_type": "code",
   "execution_count": 12,
   "id": "62365212",
   "metadata": {},
   "outputs": [
    {
     "name": "stdout",
     "output_type": "stream",
     "text": [
      "Hello world I am learning Data Science in Innomatics\n"
     ]
    }
   ],
   "source": [
    "print('Hello world I am learning '+course+' in '+name+'')"
   ]
  },
  {
   "cell_type": "code",
   "execution_count": 15,
   "id": "3f7552e3",
   "metadata": {},
   "outputs": [
    {
     "name": "stdout",
     "output_type": "stream",
     "text": [
      "Hello world I am learning  Innomatics in Data Science\n"
     ]
    }
   ],
   "source": [
    "print('Hello world I am learning ',name,'in',course,)"
   ]
  },
  {
   "cell_type": "markdown",
   "id": "9877cb5b",
   "metadata": {},
   "source": [
    "3. Replace `Science` with `Analysis` in the above output.\n"
   ]
  },
  {
   "cell_type": "code",
   "execution_count": 16,
   "id": "ef2cf4d8",
   "metadata": {},
   "outputs": [
    {
     "data": {
      "text/plain": [
       "'Hello i am learning Data Analysis in Innomatics'"
      ]
     },
     "execution_count": 16,
     "metadata": {},
     "output_type": "execute_result"
    }
   ],
   "source": [
    "name = \"Hello i am learning Data Science in Innomatics\"\n",
    "name.replace('Science','Analysis')"
   ]
  },
  {
   "cell_type": "markdown",
   "id": "6d931bdd",
   "metadata": {},
   "source": [
    "4. `string = '     Hello World I am learning Python in Innomatics   '`\n",
    "    a. How many characters are there in the string.\n",
    "    b. Slice only 'Python' from above string\n",
    "    c. Remove white spaces on both sides then find no.of characters in the string.\n",
    "    d. Convert the string in Upper case\n",
    " "
   ]
  },
  {
   "cell_type": "code",
   "execution_count": 17,
   "id": "a4e52ee1",
   "metadata": {},
   "outputs": [
    {
     "data": {
      "text/plain": [
       "54"
      ]
     },
     "execution_count": 17,
     "metadata": {},
     "output_type": "execute_result"
    }
   ],
   "source": [
    "string =  '     Hello World I am learning Python in Innomatics   '\n",
    "len(string)      "
   ]
  },
  {
   "cell_type": "code",
   "execution_count": 19,
   "id": "488ba07c",
   "metadata": {},
   "outputs": [
    {
     "data": {
      "text/plain": [
       "'Python '"
      ]
     },
     "execution_count": 19,
     "metadata": {},
     "output_type": "execute_result"
    }
   ],
   "source": [
    "string[-23:-16:1]"
   ]
  },
  {
   "cell_type": "code",
   "execution_count": 20,
   "id": "5444b604",
   "metadata": {},
   "outputs": [
    {
     "data": {
      "text/plain": [
       "'Hello World I am learning Python in Innomatics'"
      ]
     },
     "execution_count": 20,
     "metadata": {},
     "output_type": "execute_result"
    }
   ],
   "source": [
    "string.strip()"
   ]
  },
  {
   "cell_type": "code",
   "execution_count": 21,
   "id": "b3aa7d78",
   "metadata": {},
   "outputs": [
    {
     "data": {
      "text/plain": [
       "46"
      ]
     },
     "execution_count": 21,
     "metadata": {},
     "output_type": "execute_result"
    }
   ],
   "source": [
    "name = \"Hello world I am learning python in Innomatics\"\n",
    "len(name)"
   ]
  },
  {
   "cell_type": "code",
   "execution_count": 22,
   "id": "7c9f6869",
   "metadata": {},
   "outputs": [
    {
     "data": {
      "text/plain": [
       "'HELLO WORLD I AM LEARNING PYTHON IN INNOMATICS'"
      ]
     },
     "execution_count": 22,
     "metadata": {},
     "output_type": "execute_result"
    }
   ],
   "source": [
    "name = \"Hello world I am learning python in Innomatics\"\n",
    "name.upper()\n"
   ]
  },
  {
   "cell_type": "markdown",
   "id": "8549b310",
   "metadata": {},
   "source": [
    "5. What is the index number of 'World' in above string.\n"
   ]
  },
  {
   "cell_type": "code",
   "execution_count": 25,
   "id": "295b5a1b",
   "metadata": {},
   "outputs": [
    {
     "data": {
      "text/plain": [
       "6"
      ]
     },
     "execution_count": 25,
     "metadata": {},
     "output_type": "execute_result"
    }
   ],
   "source": [
    "name = 'Hello world I am learning python in Innomatics'\n",
    "name.index('world')"
   ]
  },
  {
   "cell_type": "markdown",
   "id": "52a2a70e",
   "metadata": {},
   "source": [
    "6. Split the string with respect to `whitespace`.after that `store` that splitted into a variable and find the `data type`of that variable.\n"
   ]
  },
  {
   "cell_type": "code",
   "execution_count": 26,
   "id": "05b3e46e",
   "metadata": {},
   "outputs": [],
   "source": [
    "string = '  Hello world I am learnind python in Innomatics'"
   ]
  },
  {
   "cell_type": "code",
   "execution_count": 27,
   "id": "44024197",
   "metadata": {},
   "outputs": [
    {
     "data": {
      "text/plain": [
       "['Hello', 'world', 'I', 'am', 'learnind', 'python', 'in', 'Innomatics']"
      ]
     },
     "execution_count": 27,
     "metadata": {},
     "output_type": "execute_result"
    }
   ],
   "source": [
    "string.split()"
   ]
  },
  {
   "cell_type": "markdown",
   "id": "1b7d058c",
   "metadata": {},
   "source": [
    "7. How many times 'a' is `repeated` in above string.\n"
   ]
  },
  {
   "cell_type": "code",
   "execution_count": 28,
   "id": "9955fa01",
   "metadata": {},
   "outputs": [
    {
     "data": {
      "text/plain": [
       "3"
      ]
     },
     "execution_count": 28,
     "metadata": {},
     "output_type": "execute_result"
    }
   ],
   "source": [
    "string = 'Hello world I am learning python in Innomatics'\n",
    "string.count('a')"
   ]
  },
  {
   "cell_type": "code",
   "execution_count": null,
   "id": "db2f42bf",
   "metadata": {},
   "outputs": [],
   "source": []
  }
 ],
 "metadata": {
  "kernelspec": {
   "display_name": "Python 3 (ipykernel)",
   "language": "python",
   "name": "python3"
  },
  "language_info": {
   "codemirror_mode": {
    "name": "ipython",
    "version": 3
   },
   "file_extension": ".py",
   "mimetype": "text/x-python",
   "name": "python",
   "nbconvert_exporter": "python",
   "pygments_lexer": "ipython3",
   "version": "3.11.4"
  }
 },
 "nbformat": 4,
 "nbformat_minor": 5
}
