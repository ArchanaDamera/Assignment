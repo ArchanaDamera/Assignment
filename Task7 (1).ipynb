{
 "cells": [
  {
   "cell_type": "markdown",
   "id": "f02710a3",
   "metadata": {},
   "source": [
    "\n",
    "**Task 1: Dictionary Basics**\n",
    "Create a Python program that defines a dictionary to store information about your `favorite book`. Include the title, author, publication year, and genre as key-value pairs. Print out the dictionary.and do atleast 5 dictionary methods on it.\n",
    "\n",
    "**Task 2: Dictionary Lookup**\n",
    "Write a Python program that simulates a simple dictionary for translating `English words to Spanish`. Define a dictionary containing a few English words as `keys` and their corresponding Spanish translations as `values`. Allow `users to enter` an English word, and then display its Spanish translation `if it exists` in the dictionary.(use google for English to Spanish translator)\n",
    "\n",
    "**Task 3: Student Grades**\n",
    "Create a Python program that stores the `grades of five students` in a dictionary. Allow users to input the names of the students and their respective grades. Calculate and display the `average grade` of the students.\n",
    "\n",
    "**Task 4: Contact List**\n",
    "Build a basic contact list using a dictionary. Initially, the dictionary can be `empty`. Allow users to `add new contacts` with `names and phone numbers`. Users should also be able to search for contacts by name and display their phone numbers(use in operator).\n",
    "\n",
    "**Task 5: Dictionary Iteration**\n",
    "Write a Python program that defines a dictionary containing the names of `fruits as keys` and their corresponding `colors as values` (e.g., 'apple': 'red').Do atleast 5 dictionary methods on it.\n"
   ]
  },
  {
   "cell_type": "markdown",
   "id": "6314a6e7",
   "metadata": {},
   "source": [
    "# Task 1"
   ]
  },
  {
   "cell_type": "markdown",
   "id": "8453492a",
   "metadata": {},
   "source": [
    "1: Dictionary Basics**\n",
    "Create a Python program that defines a dictionary to store information about your `favorite book`. Include the title, author, publication year, and genre as key-value pairs. Print out the dictionary.and do atleast 5 dictionary methods on it.\n"
   ]
  },
  {
   "cell_type": "code",
   "execution_count": 1,
   "id": "ab9add0d",
   "metadata": {},
   "outputs": [],
   "source": [
    "fav = {\"Tittle\" : 'The Guide',\"Author\" : 'RK Narayan',\"Publication year\" :'1958',\"genre\" :'Philosophical'}"
   ]
  },
  {
   "cell_type": "code",
   "execution_count": 2,
   "id": "ad9b53a1",
   "metadata": {},
   "outputs": [
    {
     "data": {
      "text/plain": [
       "{'Tittle': 'The Guide',\n",
       " 'Author': 'RK Narayan',\n",
       " 'Publication year': '1958',\n",
       " 'genre': 'Philosophical'}"
      ]
     },
     "execution_count": 2,
     "metadata": {},
     "output_type": "execute_result"
    }
   ],
   "source": [
    "fav"
   ]
  },
  {
   "cell_type": "code",
   "execution_count": 3,
   "id": "ac2ff74e",
   "metadata": {},
   "outputs": [
    {
     "data": {
      "text/plain": [
       "'The Guide'"
      ]
     },
     "execution_count": 3,
     "metadata": {},
     "output_type": "execute_result"
    }
   ],
   "source": [
    "fav.get(\"Tittle\")"
   ]
  },
  {
   "cell_type": "code",
   "execution_count": 4,
   "id": "40742980",
   "metadata": {},
   "outputs": [
    {
     "data": {
      "text/plain": [
       "dict_items([('Tittle', 'The Guide'), ('Author', 'RK Narayan'), ('Publication year', '1958'), ('genre', 'Philosophical')])"
      ]
     },
     "execution_count": 4,
     "metadata": {},
     "output_type": "execute_result"
    }
   ],
   "source": [
    "fav.items()"
   ]
  },
  {
   "cell_type": "code",
   "execution_count": 5,
   "id": "ee880424",
   "metadata": {},
   "outputs": [
    {
     "data": {
      "text/plain": [
       "dict_keys(['Tittle', 'Author', 'Publication year', 'genre'])"
      ]
     },
     "execution_count": 5,
     "metadata": {},
     "output_type": "execute_result"
    }
   ],
   "source": [
    "fav.keys()"
   ]
  },
  {
   "cell_type": "code",
   "execution_count": 6,
   "id": "61a82887",
   "metadata": {},
   "outputs": [
    {
     "data": {
      "text/plain": [
       "dict_values(['The Guide', 'RK Narayan', '1958', 'Philosophical'])"
      ]
     },
     "execution_count": 6,
     "metadata": {},
     "output_type": "execute_result"
    }
   ],
   "source": [
    "fav.values()"
   ]
  },
  {
   "cell_type": "code",
   "execution_count": 7,
   "id": "4dae930e",
   "metadata": {},
   "outputs": [
    {
     "data": {
      "text/plain": [
       "'Philosophical'"
      ]
     },
     "execution_count": 7,
     "metadata": {},
     "output_type": "execute_result"
    }
   ],
   "source": [
    "fav.pop(\"genre\")"
   ]
  },
  {
   "cell_type": "code",
   "execution_count": 8,
   "id": "974430b3",
   "metadata": {},
   "outputs": [
    {
     "data": {
      "text/plain": [
       "{'Tittle': 'The Guide', 'Author': 'RK Narayan', 'Publication year': '1958'}"
      ]
     },
     "execution_count": 8,
     "metadata": {},
     "output_type": "execute_result"
    }
   ],
   "source": [
    "fav"
   ]
  },
  {
   "cell_type": "markdown",
   "id": "45fbd055",
   "metadata": {},
   "source": [
    "# Task 2"
   ]
  },
  {
   "cell_type": "markdown",
   "id": "0e570f9b",
   "metadata": {},
   "source": [
    "2: Dictionary Lookup**\n",
    "Write a Python program that simulates a simple dictionary for translating `English words to Spanish`. Define a dictionary containing a few English words as `keys` and their corresponding Spanish translations as `values`. Allow `users to enter` an English word, and then display its Spanish translation `if it exists` in the dictionary.(use google for English to Spanish translator)\n"
   ]
  },
  {
   "cell_type": "code",
   "execution_count": 9,
   "id": "55d4b3f7",
   "metadata": {},
   "outputs": [],
   "source": [
    "dict1 = {\"Bye\":'adois',\"please\":'por favor',\"yes\":'si',\"thank you\":'gracias'}"
   ]
  },
  {
   "cell_type": "code",
   "execution_count": 13,
   "id": "b8c2ecff",
   "metadata": {},
   "outputs": [
    {
     "name": "stdout",
     "output_type": "stream",
     "text": [
      "enter the english woord::yes\n"
     ]
    },
    {
     "data": {
      "text/plain": [
       "'si'"
      ]
     },
     "execution_count": 13,
     "metadata": {},
     "output_type": "execute_result"
    }
   ],
   "source": [
    "dict1.pop(input(\"enter the english woord::\"))"
   ]
  },
  {
   "cell_type": "code",
   "execution_count": 14,
   "id": "3b6dbb37",
   "metadata": {},
   "outputs": [
    {
     "data": {
      "text/plain": [
       "{'Bye': 'adois', 'please': 'por favor', 'thank you': 'gracias'}"
      ]
     },
     "execution_count": 14,
     "metadata": {},
     "output_type": "execute_result"
    }
   ],
   "source": [
    "dict1"
   ]
  },
  {
   "cell_type": "markdown",
   "id": "996b9202",
   "metadata": {},
   "source": [
    "# Task 3"
   ]
  },
  {
   "cell_type": "markdown",
   "id": "2f91be6a",
   "metadata": {},
   "source": [
    "Student Grades**\n",
    "Create a Python program that stores the `grades of five students` in a dictionary. Allow users to input the names of the students and their respective grades. Calculate and display the `average grade` of the students.\n"
   ]
  },
  {
   "cell_type": "code",
   "execution_count": 33,
   "id": "14bdf23a",
   "metadata": {},
   "outputs": [],
   "source": [
    "student ={}"
   ]
  },
  {
   "cell_type": "code",
   "execution_count": 35,
   "id": "c0564cc2",
   "metadata": {},
   "outputs": [
    {
     "name": "stdout",
     "output_type": "stream",
     "text": [
      "enter name of student1 : Abhi\n",
      "enter the grade of student1 :: 10\n",
      "enter the name of student2 : Prudhvi\n",
      "enter the grade of student2 :: 10\n",
      "enter the name of student3 :Aishu\n",
      "enter the grade of the student 3:: 9\n",
      "enter the name of student4 : Rahul\n",
      "enter the grade of the student4 :: 9\n",
      "enter the name of the student : Srinidi\n",
      "enter the grade of the student5 : 9\n"
     ]
    }
   ],
   "source": [
    "name = input(\"enter name of student1 : \")\n",
    "grade =int(input(\"enter the grade of student1 :: \"))\n",
    "name1 = input(\"enter the name of student2 : \")\n",
    "grade1 = int(input(\"enter the grade of student2 :: \"))\n",
    "name2 = input(\"enter the name of student3 :\")\n",
    "grade2 = int(input(\"enter the grade of the student 3:: \"))\n",
    "name3 = input(\"enter the name of student4 : \")\n",
    "grade3 = int(input(\"enter the grade of the student4 :: \"))\n",
    "name4 = input(\"enter the name of the student : \")\n",
    "grade4 =int(input(\"enter the grade of the student5 : \"))\n"
   ]
  },
  {
   "cell_type": "code",
   "execution_count": 36,
   "id": "3e5a4003",
   "metadata": {},
   "outputs": [],
   "source": [
    "student.update({name:grade,name1:grade1,name2:grade2,name3:grade3,name4:grade4})\n"
   ]
  },
  {
   "cell_type": "code",
   "execution_count": 37,
   "id": "f019e3f3",
   "metadata": {},
   "outputs": [
    {
     "data": {
      "text/plain": [
       "{'Abhi': 10, 'Prudhvi': 10, 'Aishu': 9, 'Rahul': 9, 'Srinidi': 9}"
      ]
     },
     "execution_count": 37,
     "metadata": {},
     "output_type": "execute_result"
    }
   ],
   "source": [
    "student"
   ]
  },
  {
   "cell_type": "code",
   "execution_count": 38,
   "id": "0d843f04",
   "metadata": {},
   "outputs": [],
   "source": [
    "sum1 = sum(student.values())\n",
    "tot = len(student.keys())"
   ]
  },
  {
   "cell_type": "code",
   "execution_count": 39,
   "id": "a1d98683",
   "metadata": {},
   "outputs": [],
   "source": [
    "average = sum1/tot\n"
   ]
  },
  {
   "cell_type": "code",
   "execution_count": 40,
   "id": "a07c7038",
   "metadata": {},
   "outputs": [
    {
     "data": {
      "text/plain": [
       "9.4"
      ]
     },
     "execution_count": 40,
     "metadata": {},
     "output_type": "execute_result"
    }
   ],
   "source": [
    "average"
   ]
  },
  {
   "cell_type": "markdown",
   "id": "6b908e03",
   "metadata": {},
   "source": [
    "# Task 4"
   ]
  },
  {
   "cell_type": "markdown",
   "id": "8b3eb079",
   "metadata": {},
   "source": [
    "4: Contact List**\n",
    "Build a basic contact list using a dictionary. Initially, the dictionary can be `empty`. Allow users to `add new contacts` with `names and phone numbers`. Users should also be able to search for contacts by name and display their phone numbers(use in operator).\n"
   ]
  },
  {
   "cell_type": "code",
   "execution_count": 63,
   "id": "c281450f",
   "metadata": {},
   "outputs": [
    {
     "name": "stdout",
     "output_type": "stream",
     "text": [
      "enter name 1 : Arun\n",
      "enter no.1 :: 6789543210\n",
      "enter name 2 : Sri\n",
      "enter no.2 :: 7895344285\n",
      "enter name 3 : Swathi\n",
      "enter no.3 :: 9873321367\n"
     ]
    }
   ],
   "source": [
    "contacts = {}\n",
    "contact1 = input(\"enter name 1 : \")\n",
    "num1 = int(input(\"enter no.1 :: \"))\n",
    "contact2 = input(\"enter name 2 : \")\n",
    "num2 = int(input(\"enter no.2 :: \"))\n",
    "contact3 = input(\"enter name 3 : \")\n",
    "num3 = int(input(\"enter no.3 :: \"))\n",
    "\n"
   ]
  },
  {
   "cell_type": "code",
   "execution_count": 65,
   "id": "5a4d495b",
   "metadata": {},
   "outputs": [],
   "source": [
    "contacts.update({contact1:num1,contact2:num2,contact3:num})"
   ]
  },
  {
   "cell_type": "code",
   "execution_count": 71,
   "id": "2292cb17",
   "metadata": {},
   "outputs": [
    {
     "data": {
      "text/plain": [
       "{'Arun': 6789543210, 'Sri': 7895344285, 'Swathi': 9324576891}"
      ]
     },
     "execution_count": 71,
     "metadata": {},
     "output_type": "execute_result"
    }
   ],
   "source": [
    "contacts"
   ]
  },
  {
   "cell_type": "code",
   "execution_count": 72,
   "id": "c2b57e0a",
   "metadata": {},
   "outputs": [
    {
     "data": {
      "text/plain": [
       "7895344285"
      ]
     },
     "execution_count": 72,
     "metadata": {},
     "output_type": "execute_result"
    }
   ],
   "source": [
    "contacts['Sri']"
   ]
  },
  {
   "cell_type": "code",
   "execution_count": 73,
   "id": "1f704ad4",
   "metadata": {},
   "outputs": [
    {
     "data": {
      "text/plain": [
       "True"
      ]
     },
     "execution_count": 73,
     "metadata": {},
     "output_type": "execute_result"
    }
   ],
   "source": [
    "'Swathi' in contacts  ##in operator "
   ]
  },
  {
   "cell_type": "markdown",
   "id": "d96d9fe2",
   "metadata": {},
   "source": [
    "# Task 5"
   ]
  },
  {
   "cell_type": "markdown",
   "id": "5b27a7f5",
   "metadata": {},
   "source": [
    "5: Dictionary Iteration**\n",
    "Write a Python program that defines a dictionary containing the names of `fruits as keys` and their corresponding `colors as values` (e.g., 'apple': 'red').Do atleast 5 dictionary methods on it.\n"
   ]
  },
  {
   "cell_type": "code",
   "execution_count": 52,
   "id": "0ad7fa42",
   "metadata": {},
   "outputs": [],
   "source": [
    "fruits = {\"Apple\":'red',\"Banana\":'yellow',\"cherry\":'red',\"grapes\":'freen',\"orange\":'orange'}"
   ]
  },
  {
   "cell_type": "code",
   "execution_count": 53,
   "id": "1657d7ce",
   "metadata": {},
   "outputs": [
    {
     "data": {
      "text/plain": [
       "{'Apple': 'red',\n",
       " 'Banana': 'yellow',\n",
       " 'cherry': 'red',\n",
       " 'grapes': 'freen',\n",
       " 'orange': 'orange'}"
      ]
     },
     "execution_count": 53,
     "metadata": {},
     "output_type": "execute_result"
    }
   ],
   "source": [
    "fruits"
   ]
  },
  {
   "cell_type": "code",
   "execution_count": 54,
   "id": "69361d40",
   "metadata": {},
   "outputs": [
    {
     "data": {
      "text/plain": [
       "'red'"
      ]
     },
     "execution_count": 54,
     "metadata": {},
     "output_type": "execute_result"
    }
   ],
   "source": [
    "fruits.get(\"Apple\")"
   ]
  },
  {
   "cell_type": "code",
   "execution_count": 55,
   "id": "6e7c9f11",
   "metadata": {},
   "outputs": [
    {
     "data": {
      "text/plain": [
       "dict_keys(['Apple', 'Banana', 'cherry', 'grapes', 'orange'])"
      ]
     },
     "execution_count": 55,
     "metadata": {},
     "output_type": "execute_result"
    }
   ],
   "source": [
    "fruits.keys()"
   ]
  },
  {
   "cell_type": "code",
   "execution_count": 56,
   "id": "ffd7e182",
   "metadata": {},
   "outputs": [
    {
     "data": {
      "text/plain": [
       "dict_values(['red', 'yellow', 'red', 'freen', 'orange'])"
      ]
     },
     "execution_count": 56,
     "metadata": {},
     "output_type": "execute_result"
    }
   ],
   "source": [
    "fruits.values()"
   ]
  },
  {
   "cell_type": "code",
   "execution_count": 57,
   "id": "002e7e87",
   "metadata": {},
   "outputs": [
    {
     "data": {
      "text/plain": [
       "dict_items([('Apple', 'red'), ('Banana', 'yellow'), ('cherry', 'red'), ('grapes', 'freen'), ('orange', 'orange')])"
      ]
     },
     "execution_count": 57,
     "metadata": {},
     "output_type": "execute_result"
    }
   ],
   "source": [
    "fruits.items()"
   ]
  },
  {
   "cell_type": "code",
   "execution_count": 58,
   "id": "91f2767e",
   "metadata": {},
   "outputs": [
    {
     "data": {
      "text/plain": [
       "'yellow'"
      ]
     },
     "execution_count": 58,
     "metadata": {},
     "output_type": "execute_result"
    }
   ],
   "source": [
    "fruits.pop(\"Banana\")"
   ]
  },
  {
   "cell_type": "code",
   "execution_count": 59,
   "id": "d8ef8303",
   "metadata": {},
   "outputs": [
    {
     "data": {
      "text/plain": [
       "{'Apple': 'red', 'cherry': 'red', 'grapes': 'freen', 'orange': 'orange'}"
      ]
     },
     "execution_count": 59,
     "metadata": {},
     "output_type": "execute_result"
    }
   ],
   "source": [
    "fruits"
   ]
  },
  {
   "cell_type": "code",
   "execution_count": 60,
   "id": "3ebe5aaa",
   "metadata": {},
   "outputs": [],
   "source": [
    "fruits.update({\"mango\":'yellow'})"
   ]
  },
  {
   "cell_type": "code",
   "execution_count": 61,
   "id": "74cad3b1",
   "metadata": {},
   "outputs": [
    {
     "data": {
      "text/plain": [
       "{'Apple': 'red',\n",
       " 'cherry': 'red',\n",
       " 'grapes': 'freen',\n",
       " 'orange': 'orange',\n",
       " 'mango': 'yellow'}"
      ]
     },
     "execution_count": 61,
     "metadata": {},
     "output_type": "execute_result"
    }
   ],
   "source": [
    "fruits"
   ]
  },
  {
   "cell_type": "code",
   "execution_count": null,
   "id": "6e96ad2d",
   "metadata": {},
   "outputs": [],
   "source": []
  }
 ],
 "metadata": {
  "kernelspec": {
   "display_name": "Python 3 (ipykernel)",
   "language": "python",
   "name": "python3"
  },
  "language_info": {
   "codemirror_mode": {
    "name": "ipython",
    "version": 3
   },
   "file_extension": ".py",
   "mimetype": "text/x-python",
   "name": "python",
   "nbconvert_exporter": "python",
   "pygments_lexer": "ipython3",
   "version": "3.11.4"
  }
 },
 "nbformat": 4,
 "nbformat_minor": 5
}
