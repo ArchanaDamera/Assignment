{
 "cells": [
  {
   "cell_type": "markdown",
   "id": "204a32df",
   "metadata": {},
   "source": [
    "Assignment Tasks on String Escape Characters, Indexing, and Slicing:\n",
    "\n",
    "**String Escape Characters:**\n",
    "\n",
    "Task 1:\n",
    "1. Create a string containing a sentence that includes both single and double quotes.\n",
    "2. Use escape characters to include quotes within the string.\n",
    "3. Print the modified string.\n",
    "\n",
    "Task 2:\n",
    "1. Declare a string with a backslash \\ character in it.\n",
    "2. Demonstrate the use of the escape character to print the backslash itself.\n",
    "3. Print the resulting string.\n",
    "\n",
    "Task 3:\n",
    "1. Construct a string containing newline and tab escape sequences.\n",
    "2. Print the string to display the formatted output.\n",
    "\n",
    "**Indexing and Slicing:**\n",
    "\n",
    "Task 4:\n",
    "1.  sentence = \"I want to become Data Scientist\".\n",
    "2. Access and print the `first character` of the string using indexing.\n",
    "3. Access and print the `last character` of the string using negative indexing.\n",
    "\n",
    "Task 5:\n",
    "1. What are `possible ways` yo extract `Scientist`(use forward and reverse)\n",
    "2. Use slicing to extract and print the `first word` from the string.\n",
    "3. Use slicing to extract and print the `last three` characters of the string.\n",
    "\n",
    "Task 6:\n",
    "1. name = \"Innomatics Reserach Labs\"\n",
    "2. Apply slicing to extract a substring that includes the `second to fifth` characters.\n",
    "3. `Print` the extracted substring.\n",
    "\n",
    "Task 7:\n",
    "1. string = \"Python@1234\"\n",
    "2. Use slicing to extract every second character from the string.\n",
    "3. Print the resulting sliced string.\n",
    "\n",
    "Task 8:\n",
    "1.  print last five letters.\n",
    "2. Utilize slicing to reverse the word order in the string.\n",
    "3. Print the string with the words in the reversed order.\n",
    "\n",
    "Task 9:\n",
    "1. a = \"123123123\"\n",
    "2. Apply slicing to extract only the numeric characters at odd positions.\n",
    "3. Print the sliced result.\n",
    "\n",
    "Remember to include explanations or comments for each task's code to ensure clarity. Additionally, encourage students to experiment further with different escape characters and slicing techniques beyond the provided tasks to deepen their understanding."
   ]
  },
  {
   "cell_type": "markdown",
   "id": "42cfbf22",
   "metadata": {},
   "source": [
    "# **String Escape Characters:**\n"
   ]
  },
  {
   "cell_type": "markdown",
   "id": "bcfa81bc",
   "metadata": {},
   "source": [
    "# Task 1"
   ]
  },
  {
   "cell_type": "markdown",
   "id": "f86cd60e",
   "metadata": {},
   "source": [
    "1. Create a string containing a sentence that includes both single and double quotes.\n",
    "2. Use escape characters to include quotes within the string.\n",
    "3. Print the modified string.\n"
   ]
  },
  {
   "cell_type": "code",
   "execution_count": 1,
   "id": "fec84a4a",
   "metadata": {},
   "outputs": [],
   "source": [
    "string = (\"This is Archana\\'s films which consists of some \\\"episodes\\\" seasons\")"
   ]
  },
  {
   "cell_type": "code",
   "execution_count": 2,
   "id": "25af6a9e",
   "metadata": {},
   "outputs": [
    {
     "name": "stdout",
     "output_type": "stream",
     "text": [
      "This is Archana's films which consists of some \"episodes\" seasons\n"
     ]
    }
   ],
   "source": [
    "print(string)"
   ]
  },
  {
   "cell_type": "markdown",
   "id": "c15016e4",
   "metadata": {},
   "source": [
    "# Task 2"
   ]
  },
  {
   "cell_type": "markdown",
   "id": "8857137c",
   "metadata": {},
   "source": [
    "1. Declare a string with a backslash \\ character in it.\n",
    "2. Demonstrate the use of the escape character to print the backslash itself.\n",
    "3. Print the resulting string.\n"
   ]
  },
  {
   "cell_type": "code",
   "execution_count": 3,
   "id": "55dbb3ee",
   "metadata": {},
   "outputs": [],
   "source": [
    "string = \"su\\\\bm numbe\\br\""
   ]
  },
  {
   "cell_type": "code",
   "execution_count": 4,
   "id": "33fdf11e",
   "metadata": {},
   "outputs": [
    {
     "name": "stdout",
     "output_type": "stream",
     "text": [
      "su\\bm numbe\br\n"
     ]
    }
   ],
   "source": [
    "print(string)"
   ]
  },
  {
   "cell_type": "markdown",
   "id": "86c9664d",
   "metadata": {},
   "source": [
    "# Task 3"
   ]
  },
  {
   "cell_type": "markdown",
   "id": "9b2b4fc9",
   "metadata": {},
   "source": [
    "1. Construct a string containing newline and tab escape sequences.\n",
    "2. Print the string to display the formatted output.\n"
   ]
  },
  {
   "cell_type": "code",
   "execution_count": 6,
   "id": "c58e8844",
   "metadata": {},
   "outputs": [],
   "source": [
    "name = \"This is Aishu\\nI am learning python\""
   ]
  },
  {
   "cell_type": "code",
   "execution_count": 7,
   "id": "a89074e4",
   "metadata": {},
   "outputs": [
    {
     "name": "stdout",
     "output_type": "stream",
     "text": [
      "This is Aishu\n",
      "I am learning python\n"
     ]
    }
   ],
   "source": [
    "print(name)"
   ]
  },
  {
   "cell_type": "code",
   "execution_count": 8,
   "id": "8b5360c9",
   "metadata": {},
   "outputs": [],
   "source": [
    "name = (\"innomatics\\tResearch\\tLabs\")"
   ]
  },
  {
   "cell_type": "code",
   "execution_count": 9,
   "id": "f3bcc5ea",
   "metadata": {},
   "outputs": [
    {
     "name": "stdout",
     "output_type": "stream",
     "text": [
      "innomatics\tResearch\tLabs\n"
     ]
    }
   ],
   "source": [
    "print(name)"
   ]
  },
  {
   "cell_type": "markdown",
   "id": "afca1fb6",
   "metadata": {},
   "source": [
    "# **Indexing and Slicing:**\n"
   ]
  },
  {
   "cell_type": "markdown",
   "id": "d48758e1",
   "metadata": {},
   "source": [
    "# Task 4"
   ]
  },
  {
   "cell_type": "markdown",
   "id": "c1c6a9ff",
   "metadata": {},
   "source": [
    "1.  sentence = \"I want to become Data Scientist\".\n",
    "2. Access and print the `first character` of the string using indexing.\n",
    "3. Access and print the `last character` of the string using negative indexing.\n"
   ]
  },
  {
   "cell_type": "code",
   "execution_count": 15,
   "id": "2b0fbbeb",
   "metadata": {},
   "outputs": [],
   "source": [
    "string = \"I want to become an Actor\""
   ]
  },
  {
   "cell_type": "code",
   "execution_count": 16,
   "id": "312533bb",
   "metadata": {},
   "outputs": [
    {
     "data": {
      "text/plain": [
       "'I'"
      ]
     },
     "execution_count": 16,
     "metadata": {},
     "output_type": "execute_result"
    }
   ],
   "source": [
    "string[0]    ##it is starting with forward indexing with positive integer"
   ]
  },
  {
   "cell_type": "code",
   "execution_count": 17,
   "id": "d5bc35e5",
   "metadata": {},
   "outputs": [
    {
     "data": {
      "text/plain": [
       "'r'"
      ]
     },
     "execution_count": 17,
     "metadata": {},
     "output_type": "execute_result"
    }
   ],
   "source": [
    "string[-1]   #it is starting with reverse indexing with negetive integer"
   ]
  },
  {
   "cell_type": "markdown",
   "id": "ac935624",
   "metadata": {},
   "source": [
    "# Task 5"
   ]
  },
  {
   "cell_type": "markdown",
   "id": "d4cb2fd3",
   "metadata": {},
   "source": [
    "1. What are `possible ways` yo extract `Scientist`(use forward and reverse)\n",
    "2. Use slicing to extract and print the `first word` from the string.\n",
    "3. Use slicing to extract and print the `last three` characters of the string.\n"
   ]
  },
  {
   "cell_type": "markdown",
   "id": "6b0ed1be",
   "metadata": {},
   "source": [
    "# variables =[start:stop:step]"
   ]
  },
  {
   "cell_type": "markdown",
   "id": "39277058",
   "metadata": {},
   "source": [
    "   ## it omits the last value"
   ]
  },
  {
   "cell_type": "code",
   "execution_count": 62,
   "id": "12f68f77",
   "metadata": {},
   "outputs": [],
   "source": [
    "string = \"spoken English\""
   ]
  },
  {
   "cell_type": "code",
   "execution_count": 63,
   "id": "eda47f7c",
   "metadata": {},
   "outputs": [
    {
     "data": {
      "text/plain": [
       "'English'"
      ]
     },
     "execution_count": 63,
     "metadata": {},
     "output_type": "execute_result"
    }
   ],
   "source": [
    "string[7:15:1]   "
   ]
  },
  {
   "cell_type": "code",
   "execution_count": 64,
   "id": "93a5c323",
   "metadata": {},
   "outputs": [
    {
     "data": {
      "text/plain": [
       "'English'"
      ]
     },
     "execution_count": 64,
     "metadata": {},
     "output_type": "execute_result"
    }
   ],
   "source": [
    "string[7::]"
   ]
  },
  {
   "cell_type": "code",
   "execution_count": 65,
   "id": "6eefcc0c",
   "metadata": {},
   "outputs": [
    {
     "data": {
      "text/plain": [
       "'English'"
      ]
     },
     "execution_count": 65,
     "metadata": {},
     "output_type": "execute_result"
    }
   ],
   "source": [
    "string[7::1]"
   ]
  },
  {
   "cell_type": "code",
   "execution_count": 66,
   "id": "be289817",
   "metadata": {},
   "outputs": [
    {
     "data": {
      "text/plain": [
       "'English'"
      ]
     },
     "execution_count": 66,
     "metadata": {},
     "output_type": "execute_result"
    }
   ],
   "source": [
    "string[-7::1]"
   ]
  },
  {
   "cell_type": "code",
   "execution_count": 70,
   "id": "173619d0",
   "metadata": {},
   "outputs": [
    {
     "data": {
      "text/plain": [
       "'English'"
      ]
     },
     "execution_count": 70,
     "metadata": {},
     "output_type": "execute_result"
    }
   ],
   "source": [
    "string[-7::]"
   ]
  },
  {
   "cell_type": "code",
   "execution_count": 69,
   "id": "1ed2a9dd",
   "metadata": {},
   "outputs": [
    {
     "data": {
      "text/plain": [
       "'English'"
      ]
     },
     "execution_count": 69,
     "metadata": {},
     "output_type": "execute_result"
    }
   ],
   "source": [
    "string[7:100:1]"
   ]
  },
  {
   "cell_type": "markdown",
   "id": "fea9a30e",
   "metadata": {},
   "source": [
    "# Task 7"
   ]
  },
  {
   "cell_type": "markdown",
   "id": "5e1b7e64",
   "metadata": {},
   "source": [
    "1. name = \"Innomatics Reserach Labs\"\n",
    "2. Apply slicing to extract a substring that includes the `second to fifth` characters.\n",
    "3. `Print` the extracted substring.\n"
   ]
  },
  {
   "cell_type": "code",
   "execution_count": 30,
   "id": "0b51efc1",
   "metadata": {},
   "outputs": [],
   "source": [
    "name = \"Innomatics Reserach Labs\""
   ]
  },
  {
   "cell_type": "code",
   "execution_count": 31,
   "id": "cfceca82",
   "metadata": {},
   "outputs": [
    {
     "data": {
      "text/plain": [
       "'nnom'"
      ]
     },
     "execution_count": 31,
     "metadata": {},
     "output_type": "execute_result"
    }
   ],
   "source": [
    "name[1:5:1]   #it is taking the starting value is 1 : stop value  is 5 :step value is 1 as default value \n",
    "              # it is forwarding indexing ,its takes positive integers"
   ]
  },
  {
   "cell_type": "code",
   "execution_count": 32,
   "id": "8544877c",
   "metadata": {},
   "outputs": [
    {
     "data": {
      "text/plain": [
       "'nnom'"
      ]
     },
     "execution_count": 32,
     "metadata": {},
     "output_type": "execute_result"
    }
   ],
   "source": [
    "name[-23:-19:1]   #it is taking the starting value is -12 : stop value  is -9 :step value is 1 as default value\n",
    "                  # it is reversing indexing ,its taking negetive integers"
   ]
  },
  {
   "cell_type": "markdown",
   "id": "59a690db",
   "metadata": {},
   "source": [
    "# Task 7"
   ]
  },
  {
   "cell_type": "markdown",
   "id": "5b692271",
   "metadata": {},
   "source": [
    "1. string = \"Python@1234\"\n",
    "2. Use slicing to extract every second character from the string.\n",
    "3. Print the resulting sliced string.\n"
   ]
  },
  {
   "cell_type": "code",
   "execution_count": 33,
   "id": "26b2c64b",
   "metadata": {},
   "outputs": [],
   "source": [
    "string = \"python@1234\""
   ]
  },
  {
   "cell_type": "code",
   "execution_count": 38,
   "id": "c8f34ec0",
   "metadata": {},
   "outputs": [
    {
     "data": {
      "text/plain": [
       "'yhn13'"
      ]
     },
     "execution_count": 38,
     "metadata": {},
     "output_type": "execute_result"
    }
   ],
   "source": [
    "string[1::2]     # it is starting with 1 is forwarding indexing values and adding of +2 values "
   ]
  },
  {
   "cell_type": "code",
   "execution_count": 40,
   "id": "33ca7c0c",
   "metadata": {},
   "outputs": [
    {
     "data": {
      "text/plain": [
       "'to@24'"
      ]
     },
     "execution_count": 40,
     "metadata": {},
     "output_type": "execute_result"
    }
   ],
   "source": [
    "string[-9::2]    # it is starting with -9 is reversing indexing values  and adding of +2 values"
   ]
  },
  {
   "cell_type": "markdown",
   "id": "ec07574d",
   "metadata": {},
   "source": [
    "# Task 8"
   ]
  },
  {
   "cell_type": "markdown",
   "id": "92edf35b",
   "metadata": {},
   "source": [
    "1.  print last five letters.\n",
    "2. Utilize slicing to reverse the word order in the string.\n",
    "3. Print the string with the words in the reversed order.\n"
   ]
  },
  {
   "cell_type": "code",
   "execution_count": 41,
   "id": "090cdbda",
   "metadata": {},
   "outputs": [],
   "source": [
    "string = \"Beautiful Rose\""
   ]
  },
  {
   "cell_type": "code",
   "execution_count": 42,
   "id": "712833aa",
   "metadata": {},
   "outputs": [
    {
     "data": {
      "text/plain": [
       "'Rose'"
      ]
     },
     "execution_count": 42,
     "metadata": {},
     "output_type": "execute_result"
    }
   ],
   "source": [
    "string[10:14:1]    # it is stating with 10 in forwarding value : stoped with 14 : default step value  is 1 "
   ]
  },
  {
   "cell_type": "code",
   "execution_count": 43,
   "id": "e1fc088f",
   "metadata": {},
   "outputs": [
    {
     "data": {
      "text/plain": [
       "'Rose'"
      ]
     },
     "execution_count": 43,
     "metadata": {},
     "output_type": "execute_result"
    }
   ],
   "source": [
    "string[10::]      #it is starting with 10:no need of stop value:and step value directley it consider the last value "
   ]
  },
  {
   "cell_type": "code",
   "execution_count": 47,
   "id": "4896e118",
   "metadata": {},
   "outputs": [
    {
     "data": {
      "text/plain": [
       "'esoR'"
      ]
     },
     "execution_count": 47,
     "metadata": {},
     "output_type": "execute_result"
    }
   ],
   "source": [
    "string[-1:-5:-1]"
   ]
  },
  {
   "cell_type": "code",
   "execution_count": 48,
   "id": "e18ae7f8",
   "metadata": {},
   "outputs": [
    {
     "data": {
      "text/plain": [
       "'eso'"
      ]
     },
     "execution_count": 48,
     "metadata": {},
     "output_type": "execute_result"
    }
   ],
   "source": [
    "string[:-4:-1]"
   ]
  },
  {
   "cell_type": "markdown",
   "id": "3afc18cc",
   "metadata": {},
   "source": [
    "# Task 9"
   ]
  },
  {
   "cell_type": "markdown",
   "id": "84c220fe",
   "metadata": {},
   "source": [
    "1. a = \"123123123\"\n",
    "2. Apply slicing to extract only the numeric characters at odd positions.\n",
    "3. Print the sliced result.\n"
   ]
  },
  {
   "cell_type": "code",
   "execution_count": 49,
   "id": "efae0622",
   "metadata": {},
   "outputs": [],
   "source": [
    "a = \"123123123\""
   ]
  },
  {
   "cell_type": "code",
   "execution_count": 50,
   "id": "1c38ac88",
   "metadata": {},
   "outputs": [
    {
     "data": {
      "text/plain": [
       "'13213'"
      ]
     },
     "execution_count": 50,
     "metadata": {},
     "output_type": "execute_result"
    }
   ],
   "source": [
    "a[0::2]"
   ]
  },
  {
   "cell_type": "code",
   "execution_count": 52,
   "id": "66dbbc9f",
   "metadata": {},
   "outputs": [
    {
     "data": {
      "text/plain": [
       "'13213'"
      ]
     },
     "execution_count": 52,
     "metadata": {},
     "output_type": "execute_result"
    }
   ],
   "source": [
    "a[::2]"
   ]
  },
  {
   "cell_type": "code",
   "execution_count": 51,
   "id": "bd24d11e",
   "metadata": {},
   "outputs": [
    {
     "data": {
      "text/plain": [
       "'13213'"
      ]
     },
     "execution_count": 51,
     "metadata": {},
     "output_type": "execute_result"
    }
   ],
   "source": [
    "a[0:9:2]"
   ]
  },
  {
   "cell_type": "code",
   "execution_count": 53,
   "id": "0e95879f",
   "metadata": {},
   "outputs": [
    {
     "data": {
      "text/plain": [
       "'13213'"
      ]
     },
     "execution_count": 53,
     "metadata": {},
     "output_type": "execute_result"
    }
   ],
   "source": [
    "a[-9:9:2]"
   ]
  }
 ],
 "metadata": {
  "kernelspec": {
   "display_name": "Python 3 (ipykernel)",
   "language": "python",
   "name": "python3"
  },
  "language_info": {
   "codemirror_mode": {
    "name": "ipython",
    "version": 3
   },
   "file_extension": ".py",
   "mimetype": "text/x-python",
   "name": "python",
   "nbconvert_exporter": "python",
   "pygments_lexer": "ipython3",
   "version": "3.11.4"
  }
 },
 "nbformat": 4,
 "nbformat_minor": 5
}
