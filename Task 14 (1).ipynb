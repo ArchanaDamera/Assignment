{
 "cells": [
  {
   "cell_type": "markdown",
   "id": "dd9881f5",
   "metadata": {},
   "source": [
    "\n",
    "1. \n",
    "\n",
    "   - Create a lambda function that takes two arguments and returns their sum.\n",
    "   - Create another lambda function that takes a single argument and returns its square.\n",
    "   - Use the `lambda` functions to calculate the sum and square of various numbers and print the results.\n",
    "\n",
    "2. \n",
    "   - Define a list of integers.\n",
    "   - Use the `filter` function to create a new list that contains only the even numbers from the original list.\n",
    "   - Use the `filter` function again to create a new list that contains only numbers greater than 10 from the original list.\n",
    "   - Print both filtered lists.\n",
    "\n",
    "3. \n",
    "   - Define a list of strings where each string represents a number (e.g., `[\"1\", \"2\", \"3\"]`).\n",
    "   - Use the `map` function to convert each string to an integer and store the result in a new list.\n",
    "   - Use the `map` function again to square each integer in the new list and store the result in another new list.\n",
    "   - Print both new lists.\n",
    "\n",
    "4. \n",
    "   - Create a list of dictionaries, where each dictionary represents a person with keys \"name\" and \"age\". Example: ` [{\"name\": \"Alice\", \"age\": 30}, {\"name\": \"Bob\", \"age\": 25}, ...]`\n",
    "   - Use the `filter` function to create a new list that contains only the people who are older than 25.\n",
    "   - Use the `map` function to create a new list that contains the names of the filtered people.\n",
    "   - Print the list of names.\n",
    "\n",
    "5. \n",
    "   - Create a program that reads a list of numbers from the user (you can use the `input` function for this).\n",
    "   - Use `map` and `filter` functions to perform the following operations:\n",
    "     - Square each number.\n",
    "     - Filter out numbers that are not divisible by 3.\n",
    "   - Print the result.\n"
   ]
  },
  {
   "cell_type": "markdown",
   "id": "593eec49",
   "metadata": {},
   "source": [
    "1.\n",
    "   - Create a lambda function that takes two arguments and returns their sum.\n",
    " "
   ]
  },
  {
   "cell_type": "code",
   "execution_count": 2,
   "id": "1f6517e6",
   "metadata": {},
   "outputs": [
    {
     "data": {
      "text/plain": [
       "9"
      ]
     },
     "execution_count": 2,
     "metadata": {},
     "output_type": "execute_result"
    }
   ],
   "source": [
    "a = lambda b,c : b+c\n",
    "a(7,2)\n"
   ]
  },
  {
   "cell_type": "markdown",
   "id": "1f63a2cf",
   "metadata": {},
   "source": [
    "- Create another lambda function that takes a single argument and returns its square.\n",
    "   "
   ]
  },
  {
   "cell_type": "code",
   "execution_count": 5,
   "id": "0ce49e49",
   "metadata": {},
   "outputs": [
    {
     "data": {
      "text/plain": [
       "36"
      ]
     },
     "execution_count": 5,
     "metadata": {},
     "output_type": "execute_result"
    }
   ],
   "source": [
    "a = lambda n :n**2\n",
    "a(6)"
   ]
  },
  {
   "cell_type": "markdown",
   "id": "3e3ee1ed",
   "metadata": {},
   "source": [
    "- Use the `lambda` functions to calculate the sum and square of various numbers and print the results.\n"
   ]
  },
  {
   "cell_type": "code",
   "execution_count": 1,
   "id": "1307509c",
   "metadata": {},
   "outputs": [
    {
     "name": "stdout",
     "output_type": "stream",
     "text": [
      "sum of numbers: 15\n",
      "square of numbers: [1, 4, 9, 16, 25]\n"
     ]
    }
   ],
   "source": [
    "numbers = [1,2,3,4,5]\n",
    "sum_result = lambda n:sum(n)\n",
    "square_result = lambda n:[i**2 for i in numbers]\n",
    "print(\"sum of numbers:\",sum_result(numbers))\n",
    "print(\"square of numbers:\",square_result(numbers))"
   ]
  },
  {
   "cell_type": "markdown",
   "id": "1156c358",
   "metadata": {},
   "source": [
    "2. \n",
    "   - Define a list of integers.\n",
    "   - Use the `filter` function to create a new list that contains only the even numbers from the original list.\n",
    "   - Use the `filter` function again to create a new list that contains only numbers greater than 10 from the original list.\n",
    "   - Print both filtered lists.\n",
    "\n"
   ]
  },
  {
   "cell_type": "code",
   "execution_count": 13,
   "id": "7dfd2a68",
   "metadata": {},
   "outputs": [],
   "source": [
    "list =[1,3,5,7,8,9,10,15,20,30]\n"
   ]
  },
  {
   "cell_type": "code",
   "execution_count": 3,
   "id": "bda2c4cd",
   "metadata": {},
   "outputs": [
    {
     "data": {
      "text/plain": [
       "(8, 10, 20, 30)"
      ]
     },
     "execution_count": 3,
     "metadata": {},
     "output_type": "execute_result"
    }
   ],
   "source": [
    "tuple (filter(lambda x: x%2==0 ,[1,3,5,7,8,9,10,15,20,30]))"
   ]
  },
  {
   "cell_type": "code",
   "execution_count": 4,
   "id": "79aa0e73",
   "metadata": {},
   "outputs": [
    {
     "data": {
      "text/plain": [
       "(15, 20, 30)"
      ]
     },
     "execution_count": 4,
     "metadata": {},
     "output_type": "execute_result"
    }
   ],
   "source": [
    "tuple(filter(lambda x : x>10,[1,3,5,7,8,9,10,15,20,30]))\n",
    "\n"
   ]
  },
  {
   "cell_type": "code",
   "execution_count": 6,
   "id": "c831a9c1",
   "metadata": {},
   "outputs": [
    {
     "name": "stdout",
     "output_type": "stream",
     "text": [
      "Even Numbers : (8, 10, 20, 30)\n",
      "Greater Than 10 : (15, 20, 30)\n"
     ]
    }
   ],
   "source": [
    "list1 = tuple(filter(lambda x: x%2==0,[1,3,5,7,8,9,10,15,20,30]))\n",
    "print(\"Even Numbers :\",list1)\n",
    "list2 = tuple(filter(lambda x : x>10,[1,3,5,7,8,9,10,15,20,30]))\n",
    "print(\"Greater Than 10 :\",list2)\n"
   ]
  },
  {
   "cell_type": "markdown",
   "id": "b1db4706",
   "metadata": {},
   "source": [
    "3. \n",
    "   - Define a list of strings where each string represents a number (e.g., `[\"1\", \"2\", \"3\"]`).\n",
    "   - Use the `map` function to convert each string to an integer and store the result in a new list.\n",
    "   - Use the `map` function again to square each integer in the new list and store the result in another new list.\n",
    "   - Print both new lists."
   ]
  },
  {
   "cell_type": "code",
   "execution_count": 4,
   "id": "805375a3",
   "metadata": {},
   "outputs": [],
   "source": [
    "num = [\"1\",\"2\",\"3\",\"4\",\"5\",\"6\",\"7\",\"8\"]"
   ]
  },
  {
   "cell_type": "code",
   "execution_count": 5,
   "id": "6e129d7f",
   "metadata": {},
   "outputs": [],
   "source": [
    "x = list(map(int,num))"
   ]
  },
  {
   "cell_type": "code",
   "execution_count": 6,
   "id": "39317319",
   "metadata": {},
   "outputs": [
    {
     "name": "stdout",
     "output_type": "stream",
     "text": [
      "[1, 2, 3, 4, 5, 6, 7, 8]\n"
     ]
    }
   ],
   "source": [
    "print(x)"
   ]
  },
  {
   "cell_type": "markdown",
   "id": "e6a0b787",
   "metadata": {},
   "source": [
    "   - Use the `map` function again to square each integer in the new list and store the result in another new list.\n",
    "   "
   ]
  },
  {
   "cell_type": "code",
   "execution_count": 11,
   "id": "afa0483f",
   "metadata": {},
   "outputs": [
    {
     "name": "stdout",
     "output_type": "stream",
     "text": [
      "[1, 4, 9, 16, 25, 36, 49, 64]\n"
     ]
    }
   ],
   "source": [
    "y = list(map(lambda n: n**2,[1, 2, 3, 4, 5, 6, 7, 8]))\n",
    "print(y)"
   ]
  },
  {
   "cell_type": "code",
   "execution_count": 12,
   "id": "b53c5ebc",
   "metadata": {},
   "outputs": [
    {
     "name": "stdout",
     "output_type": "stream",
     "text": [
      "integer: [1, 2, 3, 4, 5, 6, 7, 8]\n",
      "square of each integer: [1, 4, 9, 16, 25, 36, 49, 64]\n"
     ]
    }
   ],
   "source": [
    "x = list(map(int,num))\n",
    "y = list(map(lambda n: n**2,[1, 2, 3, 4, 5, 6, 7, 8]))\n",
    "print(\"integer:\",x)\n",
    "print(\"square of each integer:\",y)"
   ]
  },
  {
   "cell_type": "markdown",
   "id": "7cfd8dad",
   "metadata": {},
   "source": [
    "4. \n",
    "   - Create a list of dictionaries, where each dictionary represents a person with keys \"name\" and \"age\". Example: ` [{\"name\": \"Alice\", \"age\": 30}, {\"name\": \"Bob\", \"age\": 25}, ...]`\n",
    "   - Use the `filter` function to create a new list that contains only the people who are older than 25.\n",
    "   - Use the `map` function to create a new list that contains the names of the filtered people.\n",
    "   - Print the list of names.\n"
   ]
  },
  {
   "cell_type": "code",
   "execution_count": 19,
   "id": "fa7bd11a",
   "metadata": {},
   "outputs": [],
   "source": [
    "list1 = [{\"name\" : \"prabhas\" , \"age\" : 44},{\"name\" : \"Swathi\" , \"age\" : 30}, {\"name\" : \"Aishu\" , \"age\" :20 }]\n",
    "\n"
   ]
  },
  {
   "cell_type": "code",
   "execution_count": 21,
   "id": "ba21f27e",
   "metadata": {},
   "outputs": [
    {
     "data": {
      "text/plain": [
       "[{'name': 'prabhas', 'age': 44}, {'name': 'Swathi', 'age': 30}]"
      ]
     },
     "execution_count": 21,
     "metadata": {},
     "output_type": "execute_result"
    }
   ],
   "source": [
    "def name(n):\n",
    "    if n[\"age\"] > 25:\n",
    "        return n\n",
    "a = list(filter(name,list1))\n",
    "a"
   ]
  },
  {
   "cell_type": "code",
   "execution_count": 22,
   "id": "ae902a11",
   "metadata": {},
   "outputs": [
    {
     "data": {
      "text/plain": [
       "[{'name': 'prabhas'}, {'name': 'Swathi'}]"
      ]
     },
     "execution_count": 22,
     "metadata": {},
     "output_type": "execute_result"
    }
   ],
   "source": [
    "def names(n):\n",
    "    return {\"name\" : n[\"name\"]}\n",
    "list(map(names,a))\n"
   ]
  },
  {
   "cell_type": "markdown",
   "id": "0fab0b19",
   "metadata": {},
   "source": [
    "5. \n",
    "   - Create a program that reads a list of numbers from the user (you can use the `input` function for this).\n",
    "   - Use `map` and `filter` functions to perform the following operations:\n",
    "     - Square each number.\n",
    "     - Filter out numbers that are not divisible by 3.\n",
    "   - Print the result.\n"
   ]
  },
  {
   "cell_type": "code",
   "execution_count": 26,
   "id": "0c1b0e1a",
   "metadata": {},
   "outputs": [
    {
     "name": "stdout",
     "output_type": "stream",
     "text": [
      "enter the integers you want :: 7\n",
      "enter the number :: 2\n",
      "enter the number :: 3\n",
      "enter the number :: 10\n",
      "enter the number :: 6\n",
      "enter the number :: 7\n",
      "enter the number :: 1\n",
      "enter the number :: 0\n",
      "[2, 3, 10, 6, 7, 1, 0]\n"
     ]
    }
   ],
   "source": [
    "list1 = []\n",
    "num = int(input(\"enter the integers you want :: \"))\n",
    "for i in range (1,num+1):\n",
    "    a = int(input(\"enter the number :: \"))\n",
    "    list1.append(a)\n",
    "print(list1)"
   ]
  },
  {
   "cell_type": "code",
   "execution_count": 27,
   "id": "bffe4e03",
   "metadata": {},
   "outputs": [],
   "source": [
    "def sqr(n):\n",
    "    return(n**2)"
   ]
  },
  {
   "cell_type": "code",
   "execution_count": 28,
   "id": "909d7c53",
   "metadata": {},
   "outputs": [
    {
     "data": {
      "text/plain": [
       "[4, 9, 100, 36, 49, 1, 0]"
      ]
     },
     "execution_count": 28,
     "metadata": {},
     "output_type": "execute_result"
    }
   ],
   "source": [
    "list(map(sqr,list1))"
   ]
  },
  {
   "cell_type": "code",
   "execution_count": 29,
   "id": "2456d731",
   "metadata": {},
   "outputs": [],
   "source": [
    "def fil(n):\n",
    "    if n%3!=0:\n",
    "        return(n)\n"
   ]
  },
  {
   "cell_type": "code",
   "execution_count": 30,
   "id": "7daba455",
   "metadata": {},
   "outputs": [
    {
     "data": {
      "text/plain": [
       "[2, 10, 7, 1]"
      ]
     },
     "execution_count": 30,
     "metadata": {},
     "output_type": "execute_result"
    }
   ],
   "source": [
    "list(filter(fil,list1))"
   ]
  },
  {
   "cell_type": "code",
   "execution_count": null,
   "id": "b3505bd4",
   "metadata": {},
   "outputs": [],
   "source": []
  }
 ],
 "metadata": {
  "kernelspec": {
   "display_name": "Python 3 (ipykernel)",
   "language": "python",
   "name": "python3"
  },
  "language_info": {
   "codemirror_mode": {
    "name": "ipython",
    "version": 3
   },
   "file_extension": ".py",
   "mimetype": "text/x-python",
   "name": "python",
   "nbconvert_exporter": "python",
   "pygments_lexer": "ipython3",
   "version": "3.11.4"
  }
 },
 "nbformat": 4,
 "nbformat_minor": 5
}
