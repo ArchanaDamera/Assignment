{
 "cells": [
  {
   "cell_type": "markdown",
   "id": "8a46b41b",
   "metadata": {},
   "source": [
    "\n",
    "\n",
    "1. **Print Numbers from 1 to N:**\n",
    "   Write a Python program that uses a for loop to print all numbers from `1 to N` and `substract 5 `from each number.where N is a `positive integer` entered by the user.\n",
    "\n",
    "2. **Calculate the Sum of Numbers from 1 to N:**\n",
    "   Write a Python program that calculates and prints the `sum` of all numbers from `1 to N`, where N is a `positive integer` entered by the user, using a for loop.\n",
    "\n",
    "3. **Print Even Numbers:**\n",
    "   Write a Python program that prints all `even numbers` from `50 to 100` using a `for` loop.\n",
    "\n",
    "4. **Reverse a String:**\n",
    "   Write a Python program that takes a string as input and uses a `for loop` to print the characters of the string in `reverse order`.\n",
    "\n",
    "5. **Count Vowels in a String:**\n",
    "    `name = \"innomatics research labs\"`\n",
    "   Write a Python program uses a for loop to count the number of vowels (a, e, i, o, u) in the string. Ignore case sensitivity.\n",
    "\n",
    "6. **Generate a Multiplication Table:**\n",
    "   Write a Python program that generates and prints the multiplication table for  6.\n"
   ]
  },
  {
   "cell_type": "markdown",
   "id": "1e547917",
   "metadata": {},
   "source": [
    "# 1. **Print Numbers from 1 to N:**\n"
   ]
  },
  {
   "cell_type": "markdown",
   "id": "e186fc88",
   "metadata": {},
   "source": [
    "Write a Python program that uses a for loop to print all numbers from `1 to N` and `substract 5 `from each number.where N is a `positive integer` entered by the user.\n"
   ]
  },
  {
   "cell_type": "code",
   "execution_count": 2,
   "id": "baa9bb3f",
   "metadata": {},
   "outputs": [
    {
     "name": "stdout",
     "output_type": "stream",
     "text": [
      "enter a number::12\n",
      "-4\n",
      "-3\n",
      "-2\n",
      "-1\n",
      "0\n",
      "1\n",
      "2\n",
      "3\n",
      "4\n",
      "5\n",
      "6\n"
     ]
    }
   ],
   "source": [
    "N = int(input(\"enter a number::\"))\n",
    "for i in range (1,N):\n",
    "    print(i -5)"
   ]
  },
  {
   "cell_type": "markdown",
   "id": "e6ffa96a",
   "metadata": {},
   "source": [
    "# 2. **Calculate the Sum of Numbers from 1 to N:**\n",
    " "
   ]
  },
  {
   "cell_type": "markdown",
   "id": "1ff90d14",
   "metadata": {},
   "source": [
    "Write a Python program that calculates and prints the `sum` of all numbers from `1 to N`, where N is a `positive integer` entered by the user, using a for loop.\n"
   ]
  },
  {
   "cell_type": "code",
   "execution_count": 10,
   "id": "c940b84f",
   "metadata": {},
   "outputs": [
    {
     "name": "stdout",
     "output_type": "stream",
     "text": [
      "enter a number::12\n",
      "66\n"
     ]
    }
   ],
   "source": [
    "num = int(input(\"enter a number::\"))\n",
    "total = 0\n",
    "for i in range(1,num):\n",
    "    total = total + i\n",
    "print(total)\n",
    "\n",
    "    "
   ]
  },
  {
   "cell_type": "markdown",
   "id": "b2a4d7e5",
   "metadata": {},
   "source": [
    "# 3. **Print Even Numbers:**\n"
   ]
  },
  {
   "cell_type": "markdown",
   "id": "7b0f1784",
   "metadata": {},
   "source": [
    "Write a Python program that prints all `even numbers` from `50 to 100` using a `for` loop.\n"
   ]
  },
  {
   "cell_type": "code",
   "execution_count": 16,
   "id": "c9eab421",
   "metadata": {},
   "outputs": [
    {
     "name": "stdout",
     "output_type": "stream",
     "text": [
      "50\n",
      "52\n",
      "54\n",
      "56\n",
      "58\n",
      "60\n",
      "62\n",
      "64\n",
      "66\n",
      "68\n",
      "70\n",
      "72\n",
      "74\n",
      "76\n",
      "78\n",
      "80\n",
      "82\n",
      "84\n",
      "86\n",
      "88\n",
      "90\n",
      "92\n",
      "94\n",
      "96\n",
      "98\n"
     ]
    }
   ],
   "source": [
    "for i in range(50,100):\n",
    "    if(i %2 == 0):\n",
    "        print(i)\n",
    "    "
   ]
  },
  {
   "cell_type": "markdown",
   "id": "1b6e63bf",
   "metadata": {},
   "source": [
    "# 4. **Reverse a String:**\n",
    " "
   ]
  },
  {
   "cell_type": "markdown",
   "id": "132532ba",
   "metadata": {},
   "source": [
    "Write a Python program that takes a string as input and uses a `for loop` to print the characters of the string in `reverse order`.\n"
   ]
  },
  {
   "cell_type": "code",
   "execution_count": 18,
   "id": "dea872d0",
   "metadata": {},
   "outputs": [
    {
     "name": "stdout",
     "output_type": "stream",
     "text": [
      "enter a name:: Archana Damera\n",
      "a\n",
      "r\n",
      "e\n",
      "m\n",
      "a\n",
      "D\n",
      " \n",
      "a\n",
      "n\n",
      "a\n",
      "h\n",
      "c\n",
      "r\n",
      "A\n"
     ]
    }
   ],
   "source": [
    "string = input(\"enter a name:: \")\n",
    "for i in string[-1 :: -1]:\n",
    "    print(i)"
   ]
  },
  {
   "cell_type": "markdown",
   "id": "30b0fbbd",
   "metadata": {},
   "source": [
    "# 5. **Count Vowels in a String:**\n",
    " "
   ]
  },
  {
   "cell_type": "markdown",
   "id": "86f9912a",
   "metadata": {},
   "source": [
    "    `name = \"innomatics research labs\"`\n",
    "   Write a Python program uses a for loop to count the number of vowels (a, e, i, o, u) in the string. Ignore case sensitivity.\n"
   ]
  },
  {
   "cell_type": "code",
   "execution_count": 24,
   "id": "c2276de6",
   "metadata": {},
   "outputs": [],
   "source": [
    "vowel = []\n",
    "name = \"innomatics research labs\"\n",
    "for i in name:\n",
    "    if i in ((\"a\",\"e\",\"i\",\"o\",\"u\")):\n",
    "        vowel.append(i)"
   ]
  },
  {
   "cell_type": "code",
   "execution_count": 25,
   "id": "c3343f2f",
   "metadata": {},
   "outputs": [
    {
     "data": {
      "text/plain": [
       "8"
      ]
     },
     "execution_count": 25,
     "metadata": {},
     "output_type": "execute_result"
    }
   ],
   "source": [
    "len(vowel)"
   ]
  },
  {
   "cell_type": "markdown",
   "id": "51e9d41f",
   "metadata": {},
   "source": [
    "# 6. **Generate a Multiplication Table:**\n",
    " "
   ]
  },
  {
   "cell_type": "markdown",
   "id": "0419692c",
   "metadata": {},
   "source": [
    "Write a Python program that generates and prints the multiplication table for  6.\n"
   ]
  },
  {
   "cell_type": "code",
   "execution_count": 28,
   "id": "06449d1e",
   "metadata": {},
   "outputs": [
    {
     "name": "stdout",
     "output_type": "stream",
     "text": [
      "enter a number to be repeated::10\n",
      "6 * 1 = 6\n",
      "6 * 2 = 12\n",
      "6 * 3 = 18\n",
      "6 * 4 = 24\n",
      "6 * 5 = 30\n",
      "6 * 6 = 36\n",
      "6 * 7 = 42\n",
      "6 * 8 = 48\n",
      "6 * 9 = 54\n",
      "6 * 10 = 60\n"
     ]
    }
   ],
   "source": [
    "num = 6\n",
    "n = int(input(\"enter a number to be repeated::\"))\n",
    "for i in range(1,n+1):\n",
    "    mul = i * num\n",
    "    print(f\"{num} * {i} = {mul}\")"
   ]
  },
  {
   "cell_type": "code",
   "execution_count": null,
   "id": "0a7505da",
   "metadata": {},
   "outputs": [],
   "source": []
  }
 ],
 "metadata": {
  "kernelspec": {
   "display_name": "Python 3 (ipykernel)",
   "language": "python",
   "name": "python3"
  },
  "language_info": {
   "codemirror_mode": {
    "name": "ipython",
    "version": 3
   },
   "file_extension": ".py",
   "mimetype": "text/x-python",
   "name": "python",
   "nbconvert_exporter": "python",
   "pygments_lexer": "ipython3",
   "version": "3.11.4"
  }
 },
 "nbformat": 4,
 "nbformat_minor": 5
}
